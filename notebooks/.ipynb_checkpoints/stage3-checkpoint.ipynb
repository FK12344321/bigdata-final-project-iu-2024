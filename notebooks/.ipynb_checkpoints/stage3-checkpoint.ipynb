{
 "cells": [
  {
   "cell_type": "markdown",
   "id": "0635285d-5589-4eeb-9091-9dd2143b3492",
   "metadata": {
    "tags": []
   },
   "source": [
    "# Connect to Hive"
   ]
  },
  {
   "cell_type": "code",
   "execution_count": 2,
   "id": "d4d77bfb-132e-422c-9933-69d0df5685dd",
   "metadata": {},
   "outputs": [
    {
     "name": "stderr",
     "output_type": "stream",
     "text": [
      "ERROR:root:KeyboardInterrupt while sending command.\n",
      "Traceback (most recent call last):\n",
      "  File \"/usr/local/lib/python3.6/site-packages/pyspark/python/lib/py4j-0.10.9.5-src.zip/py4j/java_gateway.py\", line 1038, in send_command\n",
      "    response = connection.send_command(command)\n",
      "  File \"/usr/local/lib/python3.6/site-packages/pyspark/python/lib/py4j-0.10.9.5-src.zip/py4j/clientserver.py\", line 511, in send_command\n",
      "    answer = smart_decode(self.stream.readline()[:-1])\n",
      "  File \"/usr/lib64/python3.6/socket.py\", line 586, in readinto\n",
      "    return self._sock.recv_into(b)\n",
      "KeyboardInterrupt\n"
     ]
    },
    {
     "ename": "KeyboardInterrupt",
     "evalue": "",
     "output_type": "error",
     "traceback": [
      "\u001b[0;31m---------------------------------------------------------------------------\u001b[0m",
      "\u001b[0;31mKeyboardInterrupt\u001b[0m                         Traceback (most recent call last)",
      "\u001b[0;32m<ipython-input-2-2f31670a6810>\u001b[0m in \u001b[0;36m<module>\u001b[0;34m\u001b[0m\n\u001b[1;32m     12\u001b[0m         \u001b[0;34m.\u001b[0m\u001b[0mconfig\u001b[0m\u001b[0;34m(\u001b[0m\u001b[0;34m\"hive.metastore.uris\"\u001b[0m\u001b[0;34m,\u001b[0m \u001b[0;34m\"thrift://hadoop-02.uni.innopolis.ru:9883\"\u001b[0m\u001b[0;34m)\u001b[0m\u001b[0;31m\\\u001b[0m\u001b[0;34m\u001b[0m\u001b[0;34m\u001b[0m\u001b[0m\n\u001b[1;32m     13\u001b[0m         \u001b[0;34m.\u001b[0m\u001b[0mconfig\u001b[0m\u001b[0;34m(\u001b[0m\u001b[0;34m\"spark.sql.warehouse.dir\"\u001b[0m\u001b[0;34m,\u001b[0m \u001b[0mwarehouse\u001b[0m\u001b[0;34m)\u001b[0m\u001b[0;31m\\\u001b[0m\u001b[0;34m\u001b[0m\u001b[0;34m\u001b[0m\u001b[0m\n\u001b[0;32m---> 14\u001b[0;31m         \u001b[0;34m.\u001b[0m\u001b[0mconfig\u001b[0m\u001b[0;34m(\u001b[0m\u001b[0;34m\"spark.sql.avro.compression.codec\"\u001b[0m\u001b[0;34m,\u001b[0m \u001b[0;34m\"snappy\"\u001b[0m\u001b[0;34m)\u001b[0m\u001b[0;31m\\\u001b[0m\u001b[0;34m\u001b[0m\u001b[0;34m\u001b[0m\u001b[0m\n\u001b[0m\u001b[1;32m     15\u001b[0m         \u001b[0;34m.\u001b[0m\u001b[0menableHiveSupport\u001b[0m\u001b[0;34m(\u001b[0m\u001b[0;34m)\u001b[0m\u001b[0;31m\\\u001b[0m\u001b[0;34m\u001b[0m\u001b[0;34m\u001b[0m\u001b[0m\n\u001b[1;32m     16\u001b[0m         \u001b[0;34m.\u001b[0m\u001b[0mgetOrCreate\u001b[0m\u001b[0;34m(\u001b[0m\u001b[0;34m)\u001b[0m\u001b[0;34m\u001b[0m\u001b[0;34m\u001b[0m\u001b[0m\n",
      "\u001b[0;32m/usr/local/lib/python3.6/site-packages/pyspark/sql/session.py\u001b[0m in \u001b[0;36mgetOrCreate\u001b[0;34m(self)\u001b[0m\n\u001b[1;32m    226\u001b[0m                             \u001b[0msparkConf\u001b[0m\u001b[0;34m.\u001b[0m\u001b[0mset\u001b[0m\u001b[0;34m(\u001b[0m\u001b[0mkey\u001b[0m\u001b[0;34m,\u001b[0m \u001b[0mvalue\u001b[0m\u001b[0;34m)\u001b[0m\u001b[0;34m\u001b[0m\u001b[0;34m\u001b[0m\u001b[0m\n\u001b[1;32m    227\u001b[0m                         \u001b[0;31m# This SparkContext may be an existing one.\u001b[0m\u001b[0;34m\u001b[0m\u001b[0;34m\u001b[0m\u001b[0;34m\u001b[0m\u001b[0m\n\u001b[0;32m--> 228\u001b[0;31m                         \u001b[0msc\u001b[0m \u001b[0;34m=\u001b[0m \u001b[0mSparkContext\u001b[0m\u001b[0;34m.\u001b[0m\u001b[0mgetOrCreate\u001b[0m\u001b[0;34m(\u001b[0m\u001b[0msparkConf\u001b[0m\u001b[0;34m)\u001b[0m\u001b[0;34m\u001b[0m\u001b[0;34m\u001b[0m\u001b[0m\n\u001b[0m\u001b[1;32m    229\u001b[0m                     \u001b[0;31m# Do not update `SparkConf` for existing `SparkContext`, as it's shared\u001b[0m\u001b[0;34m\u001b[0m\u001b[0;34m\u001b[0m\u001b[0;34m\u001b[0m\u001b[0m\n\u001b[1;32m    230\u001b[0m                     \u001b[0;31m# by all sessions.\u001b[0m\u001b[0;34m\u001b[0m\u001b[0;34m\u001b[0m\u001b[0;34m\u001b[0m\u001b[0m\n",
      "\u001b[0;32m/usr/local/lib/python3.6/site-packages/pyspark/context.py\u001b[0m in \u001b[0;36mgetOrCreate\u001b[0;34m(cls, conf)\u001b[0m\n\u001b[1;32m    390\u001b[0m         \u001b[0;32mwith\u001b[0m \u001b[0mSparkContext\u001b[0m\u001b[0;34m.\u001b[0m\u001b[0m_lock\u001b[0m\u001b[0;34m:\u001b[0m\u001b[0;34m\u001b[0m\u001b[0;34m\u001b[0m\u001b[0m\n\u001b[1;32m    391\u001b[0m             \u001b[0;32mif\u001b[0m \u001b[0mSparkContext\u001b[0m\u001b[0;34m.\u001b[0m\u001b[0m_active_spark_context\u001b[0m \u001b[0;32mis\u001b[0m \u001b[0;32mNone\u001b[0m\u001b[0;34m:\u001b[0m\u001b[0;34m\u001b[0m\u001b[0;34m\u001b[0m\u001b[0m\n\u001b[0;32m--> 392\u001b[0;31m                 \u001b[0mSparkContext\u001b[0m\u001b[0;34m(\u001b[0m\u001b[0mconf\u001b[0m\u001b[0;34m=\u001b[0m\u001b[0mconf\u001b[0m \u001b[0;32mor\u001b[0m \u001b[0mSparkConf\u001b[0m\u001b[0;34m(\u001b[0m\u001b[0;34m)\u001b[0m\u001b[0;34m)\u001b[0m\u001b[0;34m\u001b[0m\u001b[0;34m\u001b[0m\u001b[0m\n\u001b[0m\u001b[1;32m    393\u001b[0m             \u001b[0;32mreturn\u001b[0m \u001b[0mSparkContext\u001b[0m\u001b[0;34m.\u001b[0m\u001b[0m_active_spark_context\u001b[0m\u001b[0;34m\u001b[0m\u001b[0;34m\u001b[0m\u001b[0m\n\u001b[1;32m    394\u001b[0m \u001b[0;34m\u001b[0m\u001b[0m\n",
      "\u001b[0;32m/usr/local/lib/python3.6/site-packages/pyspark/context.py\u001b[0m in \u001b[0;36m__init__\u001b[0;34m(self, master, appName, sparkHome, pyFiles, environment, batchSize, serializer, conf, gateway, jsc, profiler_cls)\u001b[0m\n\u001b[1;32m    145\u001b[0m         \u001b[0;32mtry\u001b[0m\u001b[0;34m:\u001b[0m\u001b[0;34m\u001b[0m\u001b[0;34m\u001b[0m\u001b[0m\n\u001b[1;32m    146\u001b[0m             self._do_init(master, appName, sparkHome, pyFiles, environment, batchSize, serializer,\n\u001b[0;32m--> 147\u001b[0;31m                           conf, jsc, profiler_cls)\n\u001b[0m\u001b[1;32m    148\u001b[0m         \u001b[0;32mexcept\u001b[0m\u001b[0;34m:\u001b[0m\u001b[0;34m\u001b[0m\u001b[0;34m\u001b[0m\u001b[0m\n\u001b[1;32m    149\u001b[0m             \u001b[0;31m# If an error occurs, clean up in order to allow future SparkContext creation:\u001b[0m\u001b[0;34m\u001b[0m\u001b[0;34m\u001b[0m\u001b[0;34m\u001b[0m\u001b[0m\n",
      "\u001b[0;32m/usr/local/lib/python3.6/site-packages/pyspark/context.py\u001b[0m in \u001b[0;36m_do_init\u001b[0;34m(self, master, appName, sparkHome, pyFiles, environment, batchSize, serializer, conf, jsc, profiler_cls)\u001b[0m\n\u001b[1;32m    207\u001b[0m \u001b[0;34m\u001b[0m\u001b[0m\n\u001b[1;32m    208\u001b[0m         \u001b[0;31m# Create the Java SparkContext through Py4J\u001b[0m\u001b[0;34m\u001b[0m\u001b[0;34m\u001b[0m\u001b[0;34m\u001b[0m\u001b[0m\n\u001b[0;32m--> 209\u001b[0;31m         \u001b[0mself\u001b[0m\u001b[0;34m.\u001b[0m\u001b[0m_jsc\u001b[0m \u001b[0;34m=\u001b[0m \u001b[0mjsc\u001b[0m \u001b[0;32mor\u001b[0m \u001b[0mself\u001b[0m\u001b[0;34m.\u001b[0m\u001b[0m_initialize_context\u001b[0m\u001b[0;34m(\u001b[0m\u001b[0mself\u001b[0m\u001b[0;34m.\u001b[0m\u001b[0m_conf\u001b[0m\u001b[0;34m.\u001b[0m\u001b[0m_jconf\u001b[0m\u001b[0;34m)\u001b[0m\u001b[0;34m\u001b[0m\u001b[0;34m\u001b[0m\u001b[0m\n\u001b[0m\u001b[1;32m    210\u001b[0m         \u001b[0;31m# Reset the SparkConf to the one actually used by the SparkContext in JVM.\u001b[0m\u001b[0;34m\u001b[0m\u001b[0;34m\u001b[0m\u001b[0;34m\u001b[0m\u001b[0m\n\u001b[1;32m    211\u001b[0m         \u001b[0mself\u001b[0m\u001b[0;34m.\u001b[0m\u001b[0m_conf\u001b[0m \u001b[0;34m=\u001b[0m \u001b[0mSparkConf\u001b[0m\u001b[0;34m(\u001b[0m\u001b[0m_jconf\u001b[0m\u001b[0;34m=\u001b[0m\u001b[0mself\u001b[0m\u001b[0;34m.\u001b[0m\u001b[0m_jsc\u001b[0m\u001b[0;34m.\u001b[0m\u001b[0msc\u001b[0m\u001b[0;34m(\u001b[0m\u001b[0;34m)\u001b[0m\u001b[0;34m.\u001b[0m\u001b[0mconf\u001b[0m\u001b[0;34m(\u001b[0m\u001b[0;34m)\u001b[0m\u001b[0;34m)\u001b[0m\u001b[0;34m\u001b[0m\u001b[0;34m\u001b[0m\u001b[0m\n",
      "\u001b[0;32m/usr/local/lib/python3.6/site-packages/pyspark/context.py\u001b[0m in \u001b[0;36m_initialize_context\u001b[0;34m(self, jconf)\u001b[0m\n\u001b[1;32m    327\u001b[0m         \u001b[0mInitialize\u001b[0m \u001b[0mSparkContext\u001b[0m \u001b[0;32min\u001b[0m \u001b[0mfunction\u001b[0m \u001b[0mto\u001b[0m \u001b[0mallow\u001b[0m \u001b[0msubclass\u001b[0m \u001b[0mspecific\u001b[0m \u001b[0minitialization\u001b[0m\u001b[0;34m\u001b[0m\u001b[0;34m\u001b[0m\u001b[0m\n\u001b[1;32m    328\u001b[0m         \"\"\"\n\u001b[0;32m--> 329\u001b[0;31m         \u001b[0;32mreturn\u001b[0m \u001b[0mself\u001b[0m\u001b[0;34m.\u001b[0m\u001b[0m_jvm\u001b[0m\u001b[0;34m.\u001b[0m\u001b[0mJavaSparkContext\u001b[0m\u001b[0;34m(\u001b[0m\u001b[0mjconf\u001b[0m\u001b[0;34m)\u001b[0m\u001b[0;34m\u001b[0m\u001b[0;34m\u001b[0m\u001b[0m\n\u001b[0m\u001b[1;32m    330\u001b[0m \u001b[0;34m\u001b[0m\u001b[0m\n\u001b[1;32m    331\u001b[0m     \u001b[0;34m@\u001b[0m\u001b[0mclassmethod\u001b[0m\u001b[0;34m\u001b[0m\u001b[0;34m\u001b[0m\u001b[0m\n",
      "\u001b[0;32m/usr/local/lib/python3.6/site-packages/pyspark/python/lib/py4j-0.10.9.5-src.zip/py4j/java_gateway.py\u001b[0m in \u001b[0;36m__call__\u001b[0;34m(self, *args)\u001b[0m\n\u001b[1;32m   1582\u001b[0m             \u001b[0mproto\u001b[0m\u001b[0;34m.\u001b[0m\u001b[0mEND_COMMAND_PART\u001b[0m\u001b[0;34m\u001b[0m\u001b[0;34m\u001b[0m\u001b[0m\n\u001b[1;32m   1583\u001b[0m \u001b[0;34m\u001b[0m\u001b[0m\n\u001b[0;32m-> 1584\u001b[0;31m         \u001b[0manswer\u001b[0m \u001b[0;34m=\u001b[0m \u001b[0mself\u001b[0m\u001b[0;34m.\u001b[0m\u001b[0m_gateway_client\u001b[0m\u001b[0;34m.\u001b[0m\u001b[0msend_command\u001b[0m\u001b[0;34m(\u001b[0m\u001b[0mcommand\u001b[0m\u001b[0;34m)\u001b[0m\u001b[0;34m\u001b[0m\u001b[0;34m\u001b[0m\u001b[0m\n\u001b[0m\u001b[1;32m   1585\u001b[0m         return_value = get_return_value(\n\u001b[1;32m   1586\u001b[0m             answer, self._gateway_client, None, self._fqn)\n",
      "\u001b[0;32m/usr/local/lib/python3.6/site-packages/pyspark/python/lib/py4j-0.10.9.5-src.zip/py4j/java_gateway.py\u001b[0m in \u001b[0;36msend_command\u001b[0;34m(self, command, retry, binary)\u001b[0m\n\u001b[1;32m   1036\u001b[0m         \u001b[0mconnection\u001b[0m \u001b[0;34m=\u001b[0m \u001b[0mself\u001b[0m\u001b[0;34m.\u001b[0m\u001b[0m_get_connection\u001b[0m\u001b[0;34m(\u001b[0m\u001b[0;34m)\u001b[0m\u001b[0;34m\u001b[0m\u001b[0;34m\u001b[0m\u001b[0m\n\u001b[1;32m   1037\u001b[0m         \u001b[0;32mtry\u001b[0m\u001b[0;34m:\u001b[0m\u001b[0;34m\u001b[0m\u001b[0;34m\u001b[0m\u001b[0m\n\u001b[0;32m-> 1038\u001b[0;31m             \u001b[0mresponse\u001b[0m \u001b[0;34m=\u001b[0m \u001b[0mconnection\u001b[0m\u001b[0;34m.\u001b[0m\u001b[0msend_command\u001b[0m\u001b[0;34m(\u001b[0m\u001b[0mcommand\u001b[0m\u001b[0;34m)\u001b[0m\u001b[0;34m\u001b[0m\u001b[0;34m\u001b[0m\u001b[0m\n\u001b[0m\u001b[1;32m   1039\u001b[0m             \u001b[0;32mif\u001b[0m \u001b[0mbinary\u001b[0m\u001b[0;34m:\u001b[0m\u001b[0;34m\u001b[0m\u001b[0;34m\u001b[0m\u001b[0m\n\u001b[1;32m   1040\u001b[0m                 \u001b[0;32mreturn\u001b[0m \u001b[0mresponse\u001b[0m\u001b[0;34m,\u001b[0m \u001b[0mself\u001b[0m\u001b[0;34m.\u001b[0m\u001b[0m_create_connection_guard\u001b[0m\u001b[0;34m(\u001b[0m\u001b[0mconnection\u001b[0m\u001b[0;34m)\u001b[0m\u001b[0;34m\u001b[0m\u001b[0;34m\u001b[0m\u001b[0m\n",
      "\u001b[0;32m/usr/local/lib/python3.6/site-packages/pyspark/python/lib/py4j-0.10.9.5-src.zip/py4j/clientserver.py\u001b[0m in \u001b[0;36msend_command\u001b[0;34m(self, command)\u001b[0m\n\u001b[1;32m    509\u001b[0m         \u001b[0;32mtry\u001b[0m\u001b[0;34m:\u001b[0m\u001b[0;34m\u001b[0m\u001b[0;34m\u001b[0m\u001b[0m\n\u001b[1;32m    510\u001b[0m             \u001b[0;32mwhile\u001b[0m \u001b[0;32mTrue\u001b[0m\u001b[0;34m:\u001b[0m\u001b[0;34m\u001b[0m\u001b[0;34m\u001b[0m\u001b[0m\n\u001b[0;32m--> 511\u001b[0;31m                 \u001b[0manswer\u001b[0m \u001b[0;34m=\u001b[0m \u001b[0msmart_decode\u001b[0m\u001b[0;34m(\u001b[0m\u001b[0mself\u001b[0m\u001b[0;34m.\u001b[0m\u001b[0mstream\u001b[0m\u001b[0;34m.\u001b[0m\u001b[0mreadline\u001b[0m\u001b[0;34m(\u001b[0m\u001b[0;34m)\u001b[0m\u001b[0;34m[\u001b[0m\u001b[0;34m:\u001b[0m\u001b[0;34m-\u001b[0m\u001b[0;36m1\u001b[0m\u001b[0;34m]\u001b[0m\u001b[0;34m)\u001b[0m\u001b[0;34m\u001b[0m\u001b[0;34m\u001b[0m\u001b[0m\n\u001b[0m\u001b[1;32m    512\u001b[0m                 \u001b[0mlogger\u001b[0m\u001b[0;34m.\u001b[0m\u001b[0mdebug\u001b[0m\u001b[0;34m(\u001b[0m\u001b[0;34m\"Answer received: {0}\"\u001b[0m\u001b[0;34m.\u001b[0m\u001b[0mformat\u001b[0m\u001b[0;34m(\u001b[0m\u001b[0manswer\u001b[0m\u001b[0;34m)\u001b[0m\u001b[0;34m)\u001b[0m\u001b[0;34m\u001b[0m\u001b[0;34m\u001b[0m\u001b[0m\n\u001b[1;32m    513\u001b[0m                 \u001b[0;31m# Happens when a the other end is dead. There might be an empty\u001b[0m\u001b[0;34m\u001b[0m\u001b[0;34m\u001b[0m\u001b[0;34m\u001b[0m\u001b[0m\n",
      "\u001b[0;32m/usr/lib64/python3.6/socket.py\u001b[0m in \u001b[0;36mreadinto\u001b[0;34m(self, b)\u001b[0m\n\u001b[1;32m    584\u001b[0m         \u001b[0;32mwhile\u001b[0m \u001b[0;32mTrue\u001b[0m\u001b[0;34m:\u001b[0m\u001b[0;34m\u001b[0m\u001b[0;34m\u001b[0m\u001b[0m\n\u001b[1;32m    585\u001b[0m             \u001b[0;32mtry\u001b[0m\u001b[0;34m:\u001b[0m\u001b[0;34m\u001b[0m\u001b[0;34m\u001b[0m\u001b[0m\n\u001b[0;32m--> 586\u001b[0;31m                 \u001b[0;32mreturn\u001b[0m \u001b[0mself\u001b[0m\u001b[0;34m.\u001b[0m\u001b[0m_sock\u001b[0m\u001b[0;34m.\u001b[0m\u001b[0mrecv_into\u001b[0m\u001b[0;34m(\u001b[0m\u001b[0mb\u001b[0m\u001b[0;34m)\u001b[0m\u001b[0;34m\u001b[0m\u001b[0;34m\u001b[0m\u001b[0m\n\u001b[0m\u001b[1;32m    587\u001b[0m             \u001b[0;32mexcept\u001b[0m \u001b[0mtimeout\u001b[0m\u001b[0;34m:\u001b[0m\u001b[0;34m\u001b[0m\u001b[0;34m\u001b[0m\u001b[0m\n\u001b[1;32m    588\u001b[0m                 \u001b[0mself\u001b[0m\u001b[0;34m.\u001b[0m\u001b[0m_timeout_occurred\u001b[0m \u001b[0;34m=\u001b[0m \u001b[0;32mTrue\u001b[0m\u001b[0;34m\u001b[0m\u001b[0;34m\u001b[0m\u001b[0m\n",
      "\u001b[0;31mKeyboardInterrupt\u001b[0m: "
     ]
    }
   ],
   "source": [
    "from pyspark.sql import SparkSession\n",
    "\n",
    "# Add here your team number teamx\n",
    "team = \"team23\"\n",
    "\n",
    "# location of your Hive database in HDFS\n",
    "warehouse = \"project/hive/warehouse\"\n",
    "\n",
    "spark = SparkSession.builder\\\n",
    "        .appName(\"{} - spark ML\".format(team))\\\n",
    "        .master(\"yarn\")\\\n",
    "        .config(\"hive.metastore.uris\", \"thrift://hadoop-02.uni.innopolis.ru:9883\")\\\n",
    "        .config(\"spark.sql.warehouse.dir\", warehouse)\\\n",
    "        .config(\"spark.sql.avro.compression.codec\", \"snappy\")\\\n",
    "        .enableHiveSupport()\\\n",
    "        .getOrCreate()\n",
    "\n",
    "sc = spark.sparkContext"
   ]
  },
  {
   "cell_type": "code",
   "execution_count": 2,
   "id": "ab0a0875-0d8c-4f48-a65b-230e11c46d38",
   "metadata": {},
   "outputs": [
    {
     "data": {
      "text/html": [
       "\n",
       "            <div>\n",
       "                <p><b>SparkSession - hive</b></p>\n",
       "                \n",
       "        <div>\n",
       "            <p><b>SparkContext</b></p>\n",
       "\n",
       "            <p><a href=\"http://hadoop-01.uni.innopolis.ru:4140\">Spark UI</a></p>\n",
       "\n",
       "            <dl>\n",
       "              <dt>Version</dt>\n",
       "                <dd><code>v3.2.4</code></dd>\n",
       "              <dt>Master</dt>\n",
       "                <dd><code>yarn</code></dd>\n",
       "              <dt>AppName</dt>\n",
       "                <dd><code>team23 - spark ML</code></dd>\n",
       "            </dl>\n",
       "        </div>\n",
       "        \n",
       "            </div>\n",
       "        "
      ],
      "text/plain": [
       "<pyspark.sql.session.SparkSession at 0x7f3a0647bdd8>"
      ]
     },
     "execution_count": 2,
     "metadata": {},
     "output_type": "execute_result"
    }
   ],
   "source": [
    "spark"
   ]
  },
  {
   "cell_type": "markdown",
   "id": "ebbc89ee-c475-47d1-b000-a800563a8870",
   "metadata": {},
   "source": [
    "# list Hive databases"
   ]
  },
  {
   "cell_type": "code",
   "execution_count": 3,
   "id": "6fddee3f-db6b-4c48-95f8-c480879868f4",
   "metadata": {},
   "outputs": [
    {
     "name": "stdout",
     "output_type": "stream",
     "text": [
      "[Database(name='default', description='Default Hive database', locationUri='hdfs://hadoop-02.uni.innopolis.ru:8020/apps/hive/warehouse'), Database(name='root_db', description='', locationUri='hdfs://hadoop-02.uni.innopolis.ru:8020/user/root/root_db'), Database(name='team0_projectdb', description='', locationUri='hdfs://hadoop-02.uni.innopolis.ru:8020/user/team0/project/hive/warehouse'), Database(name='team12_hive_projectdb', description='', locationUri='hdfs://hadoop-02.uni.innopolis.ru:8020/user/team12/project/hive/warehouse'), Database(name='team13_projectdb', description='', locationUri='hdfs://hadoop-02.uni.innopolis.ru:8020/user/team13/project/hive/warehouse'), Database(name='team14_projectdb', description='', locationUri='hdfs://hadoop-02.uni.innopolis.ru:8020/user/team14/project/hive/warehouse'), Database(name='team15_projectdb', description='', locationUri='hdfs://hadoop-02.uni.innopolis.ru:8020/user/team15/project/hive/warehouse'), Database(name='team16_projectdb', description='', locationUri='hdfs://hadoop-02.uni.innopolis.ru:8020/user/team16/project/hive/warehouse'), Database(name='team18_projectdb', description='', locationUri='hdfs://hadoop-02.uni.innopolis.ru:8020/user/team18/project/hive/warehouse'), Database(name='team19_projectdb', description='', locationUri='hdfs://hadoop-02.uni.innopolis.ru:8020/user/team19/project/hive/warehouse'), Database(name='team1_projectdb', description='', locationUri='hdfs://hadoop-02.uni.innopolis.ru:8020/user/team1/project/hive/warehouse'), Database(name='team20_projectdb', description='', locationUri='hdfs://hadoop-02.uni.innopolis.ru:8020/user/team20/project/hive/warehouse'), Database(name='team21_projectdb', description='', locationUri='hdfs://hadoop-02.uni.innopolis.ru:8020/user/team21/project/hive/warehouse'), Database(name='team23_projectdb', description='', locationUri='hdfs://hadoop-02.uni.innopolis.ru:8020/user/team23/project/hive/warehouse'), Database(name='team25_projectdb', description='', locationUri='hdfs://hadoop-02.uni.innopolis.ru:8020/user/team25/project/hive/warehouse'), Database(name='team28_projectdb', description='', locationUri='hdfs://hadoop-02.uni.innopolis.ru:8020/user/team28/project/hive/warehouse'), Database(name='team2_projectdb', description='', locationUri='hdfs://hadoop-02.uni.innopolis.ru:8020/user/team2/project/hive/warehouse'), Database(name='team30_projectdb', description='', locationUri='hdfs://hadoop-02.uni.innopolis.ru:8020/user/team30/project/hive/warehouse'), Database(name='team7_projectdb', description='', locationUri='hdfs://hadoop-02.uni.innopolis.ru:8020/user/team7/project/hive/warehouse'), Database(name='team9_projectdb', description='', locationUri='hdfs://hadoop-02.uni.innopolis.ru:8020/user/team9/project/hive/warehouse'), Database(name='testdb', description='', locationUri='hdfs://hadoop-02.uni.innopolis.ru:8020/apps/hive/warehouse/testdb.db'), Database(name='testdb2', description='', locationUri='hdfs://hadoop-02.uni.innopolis.ru:8020/user/team0/project/hive/warehouse2')]\n",
      "+--------------------+\n",
      "|           namespace|\n",
      "+--------------------+\n",
      "|             default|\n",
      "|             root_db|\n",
      "|     team0_projectdb|\n",
      "|team12_hive_proje...|\n",
      "|    team13_projectdb|\n",
      "|    team14_projectdb|\n",
      "|    team15_projectdb|\n",
      "|    team16_projectdb|\n",
      "|    team18_projectdb|\n",
      "|    team19_projectdb|\n",
      "|     team1_projectdb|\n",
      "|    team20_projectdb|\n",
      "|    team21_projectdb|\n",
      "|    team23_projectdb|\n",
      "|    team25_projectdb|\n",
      "|    team28_projectdb|\n",
      "|     team2_projectdb|\n",
      "|    team30_projectdb|\n",
      "|     team7_projectdb|\n",
      "|     team9_projectdb|\n",
      "+--------------------+\n",
      "only showing top 20 rows\n",
      "\n"
     ]
    }
   ],
   "source": [
    "print(spark.catalog.listDatabases())\n",
    "spark.sql(\"SHOW DATABASES;\").show()"
   ]
  },
  {
   "cell_type": "code",
   "execution_count": 4,
   "id": "05550202-1e06-409b-8810-947220880cc0",
   "metadata": {},
   "outputs": [
    {
     "name": "stdout",
     "output_type": "stream",
     "text": [
      "+----------------+----------------+-----------+\n",
      "|       namespace|       tableName|isTemporary|\n",
      "+----------------+----------------+-----------+\n",
      "|team23_projectdb|airbnb_part_buck|      false|\n",
      "|team23_projectdb|      q1_results|      false|\n",
      "|team23_projectdb|      q2_results|      false|\n",
      "|team23_projectdb|      q3_results|      false|\n",
      "|team23_projectdb|      q4_results|      false|\n",
      "|team23_projectdb|      q5_results|      false|\n",
      "+----------------+----------------+-----------+\n",
      "\n"
     ]
    }
   ],
   "source": [
    "spark.sql(\"USE team23_projectdb;\")\n",
    "spark.sql(\"SHOW TABLES;\").show()"
   ]
  },
  {
   "cell_type": "markdown",
   "id": "c69a1fe4-d2d3-4fb0-9533-59f61a917d05",
   "metadata": {},
   "source": [
    "# Specify the input and output features"
   ]
  },
  {
   "cell_type": "code",
   "execution_count": 5,
   "id": "018f48d1-6fde-4ff5-b7ce-4eed719a7774",
   "metadata": {},
   "outputs": [],
   "source": [
    "# We will use the following features\n",
    "# Excluded 'thumbnail_url' and 'id' because it has no valuable information to extract\n",
    "# Exclude? host-related attributes since they contain little information about listing itself\n",
    "# Excluded 'first_review', 'host_response_rate', 'last_review' 'review_scores_rating'  because of large amount of Null values\n",
    "features = ['property_type', 'room_type', 'amenities', 'accommodates', 'bathrooms', 'bed_type', 'cancellation_policy',\\\n",
    "            'cleaning_fee', 'city', 'description', 'host_has_profile_pic', 'host_identity_verified','host_since',\\\n",
    "            'instant_bookable', 'latitude', 'longitude', 'name', 'neighbourhood', 'number_of_reviews', 'zipcode', 'beds', 'bedrooms']\n",
    "\n",
    "# The output/target of our model\n",
    "label = 'log_price'"
   ]
  },
  {
   "cell_type": "markdown",
   "id": "2f5bf565-af4e-49d4-bf45-ca1e1baf971f",
   "metadata": {},
   "source": [
    "# Read hive tables"
   ]
  },
  {
   "cell_type": "code",
   "execution_count": 6,
   "id": "cbcd5911-9459-4372-a811-629a85e76565",
   "metadata": {},
   "outputs": [],
   "source": [
    "# make display fancy\n",
    "spark.conf.set('spark.sql.repl.eagerEval.enabled', True)"
   ]
  },
  {
   "cell_type": "code",
   "execution_count": 7,
   "id": "a3888e74-ede8-4f55-a488-43102e05000a",
   "metadata": {},
   "outputs": [
    {
     "data": {
      "text/html": [
       "<table border='1'>\n",
       "<tr><th>id</th><th>log_price</th><th>property_type</th><th>room_type</th><th>amenities</th><th>accommodates</th><th>bathrooms</th><th>bed_type</th><th>cancellation_policy</th><th>cleaning_fee</th><th>city</th><th>description</th><th>first_review</th><th>host_has_profile_pic</th><th>host_identity_verified</th><th>host_response_rate</th><th>host_since</th><th>instant_bookable</th><th>last_review</th><th>latitude</th><th>longitude</th><th>name</th><th>neighbourhood</th><th>number_of_reviews</th><th>review_scores_rating</th><th>thumbnail_url</th><th>zipcode</th><th>beds</th><th>bedrooms</th></tr>\n",
       "<tr><td>10381948</td><td>4.454347296253506</td><td>Apartment</td><td>Entire home/apt</td><td>{Internet,&quot;Wirele...</td><td>4</td><td>1.0</td><td>Real Bed</td><td>moderate</td><td>true</td><td>NYC</td><td>Unfurnished 3rd f...</td><td>2017-07-04</td><td>true</td><td>true</td><td>100.0</td><td>2013-11-27</td><td>false</td><td>2017-07-04</td><td>40.64538447381832</td><td>-73.95399805001759</td><td>Flatbush Townhous...</td><td>Flatbush</td><td>1</td><td>100.0</td><td>https://a0.muscac...</td><td>11226</td><td>1.0</td><td>3</td></tr>\n",
       "<tr><td>1454258</td><td>6.163314804034643</td><td>House</td><td>Entire home/apt</td><td>{TV,&quot;Cable TV&quot;,In...</td><td>6</td><td>3.0</td><td>Real Bed</td><td>strict</td><td>true</td><td>SF</td><td>Large family  hom...</td><td>2011-06-15</td><td>true</td><td>true</td><td>90.0</td><td>2011-06-02</td><td>false</td><td>2014-07-24</td><td>37.7181254491016</td><td>-122.40485476143424</td><td>Large sunny famil...</td><td>Visitacion Valley</td><td>31</td><td>91.0</td><td>https://a0.muscac...</td><td>94134</td><td>4.0</td><td>3</td></tr>\n",
       "<tr><td>4387007</td><td>5.6167710976665735</td><td>House</td><td>Entire home/apt</td><td>{TV,&quot;Cable TV&quot;,In...</td><td>11</td><td>2.0</td><td>Real Bed</td><td>strict</td><td>true</td><td>LA</td><td>Located just 2 mi...</td><td>2015-02-09</td><td>true</td><td>true</td><td>100.0</td><td>2014-09-27</td><td>false</td><td>2017-04-14</td><td>33.793134469297684</td><td>-118.20185410325243</td><td>Convention Center...</td><td>null</td><td>57</td><td>92.0</td><td>https://a0.muscac...</td><td>90806</td><td>4.0</td><td>3</td></tr>\n",
       "<tr><td>13539571</td><td>5.988961416889862</td><td>Apartment</td><td>Entire home/apt</td><td>{TV,&quot;Cable TV&quot;,In...</td><td>9</td><td>2.5</td><td>Real Bed</td><td>strict</td><td>true</td><td>NYC</td><td>Luxury and modern...</td><td>2016-03-28</td><td>true</td><td>true</td><td>100.0</td><td>2012-11-16</td><td>false</td><td>2017-09-10</td><td>40.73758260955226</td><td>-74.00553133706515</td><td>NYC Dreaming Luxu...</td><td>West Village</td><td>34</td><td>90.0</td><td>https://a0.muscac...</td><td>10014</td><td>5.0</td><td>3</td></tr>\n",
       "<tr><td>11225342</td><td>5.700443573390688</td><td>House</td><td>Entire home/apt</td><td>{TV,&quot;Cable TV&quot;,In...</td><td>6</td><td>2.0</td><td>Real Bed</td><td>strict</td><td>true</td><td>DC</td><td>Chic private rowh...</td><td>2014-04-28</td><td>true</td><td>true</td><td>100.0</td><td>2014-01-21</td><td>false</td><td>2017-04-23</td><td>38.90133326787189</td><td>-76.98488420278608</td><td>Chic 3BR Rowhouse...</td><td>Trinidad</td><td>48</td><td>87.0</td><td>null</td><td>20002</td><td>3.0</td><td>3</td></tr>\n",
       "<tr><td>3384720</td><td>5.003946305945459</td><td>House</td><td>Entire home/apt</td><td>{TV,&quot;Cable TV&quot;,In...</td><td>7</td><td>2.5</td><td>Real Bed</td><td>strict</td><td>true</td><td>LA</td><td>Presenting the Se...</td><td>2017-01-24</td><td>true</td><td>true</td><td>100.0</td><td>2012-08-06</td><td>false</td><td>2017-04-07</td><td>33.972498276982506</td><td>-118.3712900225893</td><td>Sparkling new 3/2...</td><td>null</td><td>12</td><td>93.0</td><td>https://a0.muscac...</td><td>90045</td><td>5.0</td><td>3</td></tr>\n",
       "<tr><td>13278515</td><td>6.214608098422191</td><td>Apartment</td><td>Entire home/apt</td><td>{TV,&quot;Cable TV&quot;,In...</td><td>8</td><td>2.0</td><td>Real Bed</td><td>strict</td><td>false</td><td>NYC</td><td>You are renting a...</td><td>2017-02-11</td><td>true</td><td>true</td><td>100.0</td><td>2013-07-31</td><td>true</td><td>2017-02-11</td><td>40.815879954255536</td><td>-73.93984152930561</td><td>HUGE BEAUTIFUL 3 ...</td><td>Harlem</td><td>1</td><td>80.0</td><td>https://a0.muscac...</td><td>10037</td><td>3.0</td><td>3</td></tr>\n",
       "<tr><td>17380802</td><td>6.476972362889682</td><td>Apartment</td><td>Entire home/apt</td><td>{TV,&quot;Cable TV&quot;,In...</td><td>8</td><td>2.0</td><td>Real Bed</td><td>strict</td><td>true</td><td>NYC</td><td>This is an extrem...</td><td>2016-05-23</td><td>true</td><td>true</td><td>90.0</td><td>2014-04-21</td><td>false</td><td>2017-09-13</td><td>40.78586739584127</td><td>-73.94763737232486</td><td>Family Friendly 3...</td><td>East Harlem</td><td>27</td><td>93.0</td><td>https://a0.muscac...</td><td>10128.0</td><td>5.0</td><td>3</td></tr>\n",
       "<tr><td>18566816</td><td>4.867534450455582</td><td>House</td><td>Entire home/apt</td><td>{&quot;Wireless Intern...</td><td>4</td><td>1.0</td><td>Real Bed</td><td>moderate</td><td>true</td><td>LA</td><td>(Shared home with...</td><td>2016-08-14</td><td>true</td><td>true</td><td>null</td><td>2015-06-02</td><td>false</td><td>2016-08-27</td><td>34.10872996857901</td><td>-118.1794665487113</td><td>Comfortable, 3br ...</td><td>Hermon</td><td>2</td><td>70.0</td><td>https://a0.muscac...</td><td>90042</td><td>3.0</td><td>3</td></tr>\n",
       "<tr><td>18176798</td><td>5.272999558563747</td><td>House</td><td>Entire home/apt</td><td>{TV,&quot;Cable TV&quot;,In...</td><td>5</td><td>2.0</td><td>Real Bed</td><td>strict</td><td>true</td><td>LA</td><td>Beautiful fully u...</td><td>2016-10-04</td><td>true</td><td>true</td><td>100.0</td><td>2014-06-12</td><td>false</td><td>2017-04-24</td><td>33.75906350605493</td><td>-118.13844496573584</td><td>Beautiful home in...</td><td>Long Beach</td><td>21</td><td>100.0</td><td>https://a0.muscac...</td><td>90803</td><td>4.0</td><td>3</td></tr>\n",
       "<tr><td>20420499</td><td>5.3706380281276624</td><td>House</td><td>Entire home/apt</td><td>{TV,&quot;Wireless Int...</td><td>8</td><td>2.0</td><td>Real Bed</td><td>strict</td><td>true</td><td>LA</td><td>Within walking di...</td><td>2016-09-23</td><td>true</td><td>true</td><td>100.0</td><td>2016-05-03</td><td>false</td><td>2017-04-02</td><td>34.05597780443645</td><td>-118.1188218344203</td><td>Charming house 3b...</td><td>Monterey Park</td><td>12</td><td>92.0</td><td>https://a0.muscac...</td><td>91755</td><td>5.0</td><td>3</td></tr>\n",
       "<tr><td>14692312</td><td>5.476463551931511</td><td>House</td><td>Entire home/apt</td><td>{TV,&quot;Cable TV&quot;,&quot;W...</td><td>6</td><td>2.0</td><td>Real Bed</td><td>strict</td><td>true</td><td>DC</td><td>Fully Restored Fo...</td><td>2013-09-22</td><td>true</td><td>true</td><td>100.0</td><td>2012-11-08</td><td>false</td><td>2016-08-16</td><td>38.88354324515544</td><td>-77.00085622063551</td><td>Home In The Shado...</td><td>Capitol Hill</td><td>8</td><td>84.0</td><td>https://a0.muscac...</td><td>20003</td><td>4.0</td><td>3</td></tr>\n",
       "<tr><td>11919616</td><td>5.634789603169249</td><td>House</td><td>Entire home/apt</td><td>{TV,Internet,&quot;Wir...</td><td>6</td><td>2.0</td><td>Real Bed</td><td>strict</td><td>true</td><td>LA</td><td>This is an except...</td><td>2016-09-23</td><td>true</td><td>true</td><td>null</td><td>2016-08-13</td><td>false</td><td>2016-09-23</td><td>33.99529079363813</td><td>-118.45642645943359</td><td>Venice Walk St Bu...</td><td>Venice</td><td>1</td><td>100.0</td><td>https://a0.muscac...</td><td>90291</td><td>4.0</td><td>3</td></tr>\n",
       "<tr><td>7220620</td><td>6.300785794663246</td><td>Loft</td><td>Entire home/apt</td><td>{TV,Internet,&quot;Wir...</td><td>10</td><td>2.0</td><td>Real Bed</td><td>strict</td><td>true</td><td>NYC</td><td>Come see my beaut...</td><td>2013-04-29</td><td>true</td><td>true</td><td>100.0</td><td>2011-09-13</td><td>false</td><td>2017-08-23</td><td>40.713327768604096</td><td>-73.99177158094184</td><td>STUNNING 4 BED LO...</td><td>Chinatown</td><td>88</td><td>88.0</td><td>https://a0.muscac...</td><td>10002.0</td><td>4.0</td><td>3</td></tr>\n",
       "<tr><td>6576336</td><td>5.855071922202427</td><td>House</td><td>Entire home/apt</td><td>{TV,&quot;Cable TV&quot;,In...</td><td>6</td><td>3.0</td><td>Real Bed</td><td>moderate</td><td>true</td><td>DC</td><td>This 3 bedroom/3 ...</td><td>2016-02-14</td><td>true</td><td>true</td><td>100.0</td><td>2012-06-10</td><td>false</td><td>2017-05-01</td><td>38.91635749019164</td><td>-77.02593036543684</td><td>Elegant Victorian...</td><td>null</td><td>41</td><td>99.0</td><td>https://a0.muscac...</td><td>20001</td><td>3.0</td><td>3</td></tr>\n",
       "<tr><td>18777640</td><td>5.1929568508902095</td><td>House</td><td>Entire home/apt</td><td>{TV,&quot;Cable TV&quot;,&quot;W...</td><td>8</td><td>1.0</td><td>Real Bed</td><td>moderate</td><td>true</td><td>NYC</td><td>For those who lav...</td><td>2017-06-25</td><td>false</td><td>false</td><td>100.0</td><td>2017-05-29</td><td>true</td><td>2017-09-10</td><td>40.692560136864685</td><td>-73.79987814478135</td><td>Gorgeous Comfy Ap...</td><td>Jamaica</td><td>9</td><td>98.0</td><td>https://a0.muscac...</td><td>11433</td><td>4.0</td><td>3</td></tr>\n",
       "<tr><td>5661094</td><td>5.66988092298052</td><td>Townhouse</td><td>Entire home/apt</td><td>{TV,&quot;Cable TV&quot;,In...</td><td>8</td><td>2.5</td><td>Real Bed</td><td>moderate</td><td>true</td><td>Chicago</td><td>This house is ide...</td><td>2012-07-03</td><td>true</td><td>true</td><td>93.0</td><td>2011-04-04</td><td>false</td><td>2016-11-07</td><td>41.91269299893785</td><td>-87.64250486324484</td><td>Perfect Lincoln P...</td><td>Old Town</td><td>42</td><td>89.0</td><td>null</td><td>60614</td><td>3.0</td><td>3</td></tr>\n",
       "<tr><td>9609246</td><td>4.9344739331306915</td><td>House</td><td>Entire home/apt</td><td>{TV,&quot;Cable TV&quot;,In...</td><td>8</td><td>1.0</td><td>Real Bed</td><td>strict</td><td>true</td><td>LA</td><td>Beautiful, charmi...</td><td>2016-03-30</td><td>true</td><td>true</td><td>100.0</td><td>2015-06-04</td><td>false</td><td>2017-05-01</td><td>34.188533121885946</td><td>-118.47407615589113</td><td>Gorgeous 3 bdm Ho...</td><td>null</td><td>42</td><td>98.0</td><td>https://a0.muscac...</td><td>91406</td><td>6.0</td><td>3</td></tr>\n",
       "<tr><td>1692224</td><td>3.8918202981106265</td><td>Apartment</td><td>Private room</td><td>{&quot;Wireless Intern...</td><td>2</td><td>1.0</td><td>Real Bed</td><td>flexible</td><td>false</td><td>NYC</td><td>The Space:   Very...</td><td>2017-09-01</td><td>true</td><td>true</td><td>97.0</td><td>2016-08-31</td><td>true</td><td>2017-10-01</td><td>40.62282874321328</td><td>-73.96195500405251</td><td>Private room Broo...</td><td>Midwood</td><td>9</td><td>91.0</td><td>https://a0.muscac...</td><td>11230</td><td>1.0</td><td>3</td></tr>\n",
       "<tr><td>3559005</td><td>6.684611727667928</td><td>Villa</td><td>Entire home/apt</td><td>{TV,&quot;Cable TV&quot;,In...</td><td>8</td><td>2.0</td><td>Real Bed</td><td>strict</td><td>true</td><td>LA</td><td>Beautiful 3 bd + ...</td><td>2015-07-03</td><td>true</td><td>true</td><td>100.0</td><td>2012-08-18</td><td>false</td><td>2016-02-29</td><td>34.045032685521825</td><td>-118.5117841033277</td><td>Santa Monica Vill...</td><td>Pacific Palisades</td><td>5</td><td>100.0</td><td>null</td><td>90402</td><td>3.0</td><td>3</td></tr>\n",
       "</table>\n",
       "only showing top 20 rows\n"
      ],
      "text/plain": [
       "+--------+------------------+-------------+---------------+--------------------+------------+---------+--------+-------------------+------------+-------+----------------------------------+------------+--------------------+----------------------+------------------+----------+----------------+-----------+------------------+-------------------+-------------------------+------------------+-----------------+--------------------+--------------------+-------+----+--------+\n",
       "|      id|         log_price|property_type|      room_type|           amenities|accommodates|bathrooms|bed_type|cancellation_policy|cleaning_fee|   city|                       description|first_review|host_has_profile_pic|host_identity_verified|host_response_rate|host_since|instant_bookable|last_review|          latitude|          longitude|                     name|     neighbourhood|number_of_reviews|review_scores_rating|       thumbnail_url|zipcode|beds|bedrooms|\n",
       "+--------+------------------+-------------+---------------+--------------------+------------+---------+--------+-------------------+------------+-------+----------------------------------+------------+--------------------+----------------------+------------------+----------+----------------+-----------+------------------+-------------------+-------------------------+------------------+-----------------+--------------------+--------------------+-------+----+--------+\n",
       "|  255476| 5.594711379601837|        House|Entire home/apt|{TV,\"Wireless Int...|           7|      2.0|Real Bed|             strict|        true|     LA|这间四房的PUD位于和亚凯迪亚的交...|        null|                true|                  true|             100.0|2017-02-01|            true|       null|34.130149873646424|-118.01142964459407|洛杉矶之家 Home by Arc...|           Arcadia|                0|                null|https://a0.muscac...|  91016| 4.0|       4|\n",
       "|10233888|5.1929568508902095|        House|Entire home/apt|{TV,\"Cable TV\",\"W...|           6|      3.5|Real Bed|             strict|        true|     DC|              We live in a newl...|  2016-06-16|                true|                  true|             100.0|2015-10-23|           false| 2017-04-18|38.971519809471495|  -77.0109846035962|     New Built Home in...|            Takoma|                5|                90.0|https://a0.muscac...|  20012| 4.0|       4|\n",
       "|17439485| 5.075173815233828|    Apartment|Entire home/apt|{TV,\"Cable TV\",In...|          12|      1.0|Real Bed|             strict|        true|Chicago|              I renovated this ...|  2016-03-22|                true|                  true|             100.0|2016-01-31|           false| 2017-05-07|   41.886205398796| -87.70363964577317|     Urban Oasis @ Ful...|     Garfield Park|               50|                90.0|https://a0.muscac...|  60612| 4.0|       4|\n",
       "|18543400|5.5174528964647065|        House|Entire home/apt|{TV,Internet,\"Wir...|          10|      2.0|Real Bed|             strict|        true|     LA|              PRIVATE USE OF AL...|  2016-04-17|                true|                  true|              90.0|2015-09-20|            true| 2017-04-24|34.220137572917146|-118.52949381318236|     Entire Pool house...|              null|               26|                82.0|https://a0.muscac...|  91335|10.0|       4|\n",
       "|16894437| 6.214608098422191|        House|Entire home/apt|{TV,\"Cable TV\",In...|          10|      2.5|Real Bed|             strict|        true|     DC|              SPECTACULAR VICTO...|  2015-01-05|                true|                  true|              87.0|2012-11-29|            true| 2017-04-22|38.906976137949826| -77.02699276815332|     SPECTACULAR HOME ...|      Logan Circle|               81|                93.0|                null|  20005| 5.0|       4|\n",
       "|16202617| 7.170119543449628|        House|Entire home/apt|{TV,\"Cable TV\",In...|           8|      4.5|Real Bed|             strict|        true|     LA|              Located centrally...|  2015-03-20|                true|                  true|              97.0|2014-09-08|           false| 2016-07-16|34.113917348336905| -118.3864051817073|     Hollywood Hills C...|     Laurel Canyon|                6|               100.0|                null|  90046| 4.0|       4|\n",
       "|17193761| 6.003887067106539|    Townhouse|Entire home/apt|{TV,Internet,\"Wir...|           8|      3.0|Real Bed|             strict|        true|    NYC|              My quaint & histo...|  2016-11-26|                true|                 false|             100.0|2016-07-12|           false| 2017-08-28|40.692738449610665| -73.96507684327614|     Spacious & Chic 4...|      Clinton Hill|                7|                97.0|https://a0.muscac...|11205.0| 5.0|       4|\n",
       "|19212370| 5.416100402204419|    Apartment|Entire home/apt|{TV,\"Wireless Int...|           8|      2.0|Real Bed|             strict|        true|    NYC|              Our luxury loft o...|  2010-01-02|                true|                  true|             100.0|2009-12-26|           false| 2017-09-06| 40.80164249642196| -73.93922139409575|     SpaHa Loft: Enorm...|       East Harlem|              138|                95.0|                null|10035.0| 6.0|       4|\n",
       "|18370840| 5.814130531825067|        House|Entire home/apt|{TV,\"Cable TV\",In...|           8|      2.0|Real Bed|             strict|        true|     LA|              Charming Spanish ...|        null|                true|                  true|              90.0|2008-10-16|           false|       null|34.132253038035465|-118.38372996051108|     Laurel Canyon - T...|       Studio City|                0|                null|                null|  91604| 5.0|       4|\n",
       "|15858137| 5.272999558563747|        House|Entire home/apt|{TV,\"Wireless Int...|           7|      1.5|Real Bed|           moderate|        true|     LA|              My place is close...|  2016-07-26|                true|                  true|              null|2016-04-21|           false| 2016-08-14|34.111469945695035|-118.11555480580259|     Cute House 10 min...|       San Gabriel|                4|                85.0|https://a0.muscac...|  91775| 5.0|       4|\n",
       "|12637339| 6.551080335043403|        House|Entire home/apt|{TV,Internet,\"Wir...|           9|      2.5|Real Bed|             strict|       false|     LA|              A Vacation Home F...|        null|                true|                  true|             100.0|2012-07-17|           false|       null| 34.18856610064488|-118.12231125876929|     Beautiful & Tranq...|          Altadena|                0|                null|https://a0.muscac...|  91001| 7.0|       4|\n",
       "|15645642| 5.991464547107983|        House|Entire home/apt|{TV,\"Cable TV\",In...|           8|      3.0|Real Bed|             strict|        true|     DC|              Amazing newly ren...|  2016-08-21|                true|                  true|             100.0|2014-03-03|           false| 2016-08-21| 38.95744539010831| -77.08215362513657|     Gorgeous spaceous...|Friendship Heights|                1|               100.0|https://a0.muscac...|  20016| 6.0|       4|\n",
       "|16491658|  6.38856140554563|        Villa|Entire home/apt|{TV,Internet,\"Wir...|          12|      5.0|Real Bed|             strict|        true|     LA|              My place is close...|  2016-11-06|                true|                 false|             100.0|2016-06-05|            true| 2017-04-15| 34.13201711771783| -118.3598330656884|     Hollywood Hills M...|     Cahuenga Pass|               12|               100.0|https://a0.muscac...|  90068| 6.0|       4|\n",
       "| 6433621| 6.214608098422191|    Apartment|Entire home/apt|{TV,\"Wireless Int...|           6|      1.0|Real Bed|           flexible|        true|    NYC|              Stedet mitt er næ...|        null|                true|                 false|             100.0|2014-02-24|           false|       null|40.706907573522614| -74.00801265208976|     Luxury apartment ...|Financial District|                0|                null|                null|  10038| 4.0|       4|\n",
       "|16645573| 5.631211781821365|        House|Entire home/apt|{TV,\"Cable TV\",In...|           8|      3.0|Real Bed|             strict|        true|     LA|              The Space Beautif...|  2015-08-22|                true|                  true|             100.0|2015-05-26|           false| 2017-04-22| 34.28382039167145|-118.55584385360771|     Best LA Vacation ...|      Porter Ranch|               15|                96.0|https://a0.muscac...|  91326| 4.0|       4|\n",
       "| 8281889| 6.684611727667928|        House|Entire home/apt|{TV,\"Wireless Int...|          12|      3.5|Real Bed|             strict|        true|     SF|              Beautiful city oa...|  2017-08-13|                true|                 false|             100.0|2014-01-27|           false| 2017-09-04|37.767922493903534|-122.43812319559136|     Panoramic Views o...|    Haight-Ashbury|                2|               100.0|https://a0.muscac...|  94117| 8.0|       4|\n",
       "|15716449| 6.902742737158593|        House|Entire home/apt|                  {}|           8|      3.0|Real Bed|             strict|        true|     LA|              Beautiful 4 bedro...|        null|                true|                  true|              76.0|2015-08-27|           false|       null|34.112407854159414|-118.36755562859815|     Hollywood Hills w...|              null|                0|                null|                null|  90046| 4.0|       4|\n",
       "| 6944665| 6.620073206530356|    Apartment|Entire home/apt|{TV,Internet,\"Wir...|           7|      2.0|Real Bed|           moderate|        true|     SF|              Amazing two story...|  2013-08-07|                true|                  true|             100.0|2011-07-25|           false| 2017-09-04|37.802696856910856|-122.41061140549536|     2 Story Bay Views...|       North Beach|               11|               100.0|https://a0.muscac...|  94133| 5.0|       4|\n",
       "|19092945| 5.733341276897748|        House|Entire home/apt|{TV,\"Cable TV\",In...|          14|      3.5|Real Bed|             strict|        true|     DC|              The 8th Street Su...|  2011-03-03|                true|                  true|             100.0|2010-03-29|           false| 2017-05-01| 38.94684302074509| -77.02294316544807|     Modern Charm Wash...|          Petworth|               57|                86.0|https://a0.muscac...|  20011| 7.0|       4|\n",
       "| 7037791|5.0106352940962555|    Apartment|Entire home/apt|{TV,\"Cable TV\",In...|          13|      2.5|Real Bed|             strict|        true|    NYC|              Very Spacious & A...|  2016-08-28|                true|                  true|             100.0|2013-12-28|           false| 2017-09-24| 40.66405453711681| -73.85675960647723|     ★Newly Renovated ...|     East New York|               64|                93.0|https://a0.muscac...|11208.0| 9.0|       4|\n",
       "+--------+------------------+-------------+---------------+--------------------+------------+---------+--------+-------------------+------------+-------+----------------------------------+------------+--------------------+----------------------+------------------+----------+----------------+-----------+------------------+-------------------+-------------------------+------------------+-----------------+--------------------+--------------------+-------+----+--------+\n",
       "only showing top 20 rows"
      ]
     },
     "execution_count": 7,
     "metadata": {},
     "output_type": "execute_result"
    }
   ],
   "source": [
    "airbnb = spark.read.format(\"avro\").table('team23_projectdb.airbnb_part_buck')\n",
    "airbnb"
   ]
  },
  {
   "cell_type": "code",
   "execution_count": 8,
   "id": "b7f82970-a6b6-437e-92a2-b34ef1436e59",
   "metadata": {},
   "outputs": [
    {
     "data": {
      "text/plain": [
       "{'id': 0,\n",
       " 'log_price': 0,\n",
       " 'property_type': 0,\n",
       " 'room_type': 0,\n",
       " 'amenities': 0,\n",
       " 'accommodates': 0,\n",
       " 'bathrooms': 200,\n",
       " 'bed_type': 0,\n",
       " 'cancellation_policy': 0,\n",
       " 'cleaning_fee': 0,\n",
       " 'city': 0,\n",
       " 'description': 0,\n",
       " 'first_review': 15864,\n",
       " 'host_has_profile_pic': 188,\n",
       " 'host_identity_verified': 188,\n",
       " 'host_response_rate': 18299,\n",
       " 'host_since': 188,\n",
       " 'instant_bookable': 0,\n",
       " 'last_review': 15827,\n",
       " 'latitude': 0,\n",
       " 'longitude': 0,\n",
       " 'name': 0,\n",
       " 'neighbourhood': 6872,\n",
       " 'number_of_reviews': 0,\n",
       " 'review_scores_rating': 16722,\n",
       " 'thumbnail_url': 8216,\n",
       " 'zipcode': 966,\n",
       " 'beds': 131,\n",
       " 'bedrooms': 91}"
      ]
     },
     "metadata": {},
     "output_type": "display_data"
    },
    {
     "name": "stdout",
     "output_type": "stream",
     "text": [
      "root\n",
      " |-- id: integer (nullable = true)\n",
      " |-- log_price: double (nullable = true)\n",
      " |-- property_type: string (nullable = true)\n",
      " |-- room_type: string (nullable = true)\n",
      " |-- amenities: string (nullable = true)\n",
      " |-- accommodates: integer (nullable = true)\n",
      " |-- bathrooms: float (nullable = true)\n",
      " |-- bed_type: string (nullable = true)\n",
      " |-- cancellation_policy: string (nullable = true)\n",
      " |-- cleaning_fee: boolean (nullable = true)\n",
      " |-- city: string (nullable = true)\n",
      " |-- description: string (nullable = true)\n",
      " |-- first_review: date (nullable = true)\n",
      " |-- host_has_profile_pic: boolean (nullable = true)\n",
      " |-- host_identity_verified: boolean (nullable = true)\n",
      " |-- host_response_rate: float (nullable = true)\n",
      " |-- host_since: date (nullable = true)\n",
      " |-- instant_bookable: boolean (nullable = true)\n",
      " |-- last_review: date (nullable = true)\n",
      " |-- latitude: double (nullable = true)\n",
      " |-- longitude: double (nullable = true)\n",
      " |-- name: string (nullable = true)\n",
      " |-- neighbourhood: string (nullable = true)\n",
      " |-- number_of_reviews: integer (nullable = true)\n",
      " |-- review_scores_rating: float (nullable = true)\n",
      " |-- thumbnail_url: string (nullable = true)\n",
      " |-- zipcode: string (nullable = true)\n",
      " |-- beds: float (nullable = true)\n",
      " |-- bedrooms: integer (nullable = true)\n",
      "\n"
     ]
    }
   ],
   "source": [
    "# calculate uniques for a column (unused)\n",
    "def uniques(df, col):\n",
    "    return list(map(lambda x: x[col], airbnb.select(col).distinct().collect()))\n",
    "\n",
    "# count null values across columns\n",
    "def cnull(df):\n",
    "    return {col:df.filter(df[col].isNull()).count() for col in df.columns}\n",
    "\n",
    "display(cnull(airbnb))\n",
    "airbnb.printSchema()"
   ]
  },
  {
   "cell_type": "markdown",
   "id": "60e05e6d-b953-4dd6-84ae-dbeac729dc76",
   "metadata": {},
   "source": [
    "# Feature selection"
   ]
  },
  {
   "cell_type": "code",
   "execution_count": 9,
   "id": "00984a8d-8516-47b6-891a-85711cb5f210",
   "metadata": {},
   "outputs": [
    {
     "data": {
      "text/html": [
       "<table border='1'>\n",
       "<tr><th>property_type</th><th>room_type</th><th>amenities</th><th>accommodates</th><th>bathrooms</th><th>bed_type</th><th>cancellation_policy</th><th>cleaning_fee</th><th>city</th><th>description</th><th>host_has_profile_pic</th><th>host_identity_verified</th><th>host_since</th><th>instant_bookable</th><th>latitude</th><th>longitude</th><th>name</th><th>neighbourhood</th><th>number_of_reviews</th><th>zipcode</th><th>beds</th><th>bedrooms</th><th>label</th></tr>\n",
       "<tr><td>Apartment</td><td>Entire home/apt</td><td>{Internet,&quot;Wirele...</td><td>4</td><td>1.0</td><td>Real Bed</td><td>moderate</td><td>true</td><td>NYC</td><td>Unfurnished 3rd f...</td><td>true</td><td>true</td><td>2013-11-27</td><td>false</td><td>40.64538447381832</td><td>-73.95399805001759</td><td>Flatbush Townhous...</td><td>Flatbush</td><td>1</td><td>11226</td><td>1.0</td><td>3</td><td>4.454347296253506</td></tr>\n",
       "<tr><td>House</td><td>Entire home/apt</td><td>{TV,&quot;Cable TV&quot;,In...</td><td>6</td><td>3.0</td><td>Real Bed</td><td>strict</td><td>true</td><td>SF</td><td>Large family  hom...</td><td>true</td><td>true</td><td>2011-06-02</td><td>false</td><td>37.7181254491016</td><td>-122.40485476143424</td><td>Large sunny famil...</td><td>Visitacion Valley</td><td>31</td><td>94134</td><td>4.0</td><td>3</td><td>6.163314804034643</td></tr>\n",
       "<tr><td>Apartment</td><td>Entire home/apt</td><td>{TV,&quot;Cable TV&quot;,In...</td><td>9</td><td>2.5</td><td>Real Bed</td><td>strict</td><td>true</td><td>NYC</td><td>Luxury and modern...</td><td>true</td><td>true</td><td>2012-11-16</td><td>false</td><td>40.73758260955226</td><td>-74.00553133706515</td><td>NYC Dreaming Luxu...</td><td>West Village</td><td>34</td><td>10014</td><td>5.0</td><td>3</td><td>5.988961416889862</td></tr>\n",
       "<tr><td>House</td><td>Entire home/apt</td><td>{TV,&quot;Cable TV&quot;,In...</td><td>6</td><td>2.0</td><td>Real Bed</td><td>strict</td><td>true</td><td>DC</td><td>Chic private rowh...</td><td>true</td><td>true</td><td>2014-01-21</td><td>false</td><td>38.90133326787189</td><td>-76.98488420278608</td><td>Chic 3BR Rowhouse...</td><td>Trinidad</td><td>48</td><td>20002</td><td>3.0</td><td>3</td><td>5.700443573390688</td></tr>\n",
       "<tr><td>Apartment</td><td>Entire home/apt</td><td>{TV,&quot;Cable TV&quot;,In...</td><td>8</td><td>2.0</td><td>Real Bed</td><td>strict</td><td>false</td><td>NYC</td><td>You are renting a...</td><td>true</td><td>true</td><td>2013-07-31</td><td>true</td><td>40.815879954255536</td><td>-73.93984152930561</td><td>HUGE BEAUTIFUL 3 ...</td><td>Harlem</td><td>1</td><td>10037</td><td>3.0</td><td>3</td><td>6.214608098422191</td></tr>\n",
       "<tr><td>Apartment</td><td>Entire home/apt</td><td>{TV,&quot;Cable TV&quot;,In...</td><td>8</td><td>2.0</td><td>Real Bed</td><td>strict</td><td>true</td><td>NYC</td><td>This is an extrem...</td><td>true</td><td>true</td><td>2014-04-21</td><td>false</td><td>40.78586739584127</td><td>-73.94763737232486</td><td>Family Friendly 3...</td><td>East Harlem</td><td>27</td><td>10128.0</td><td>5.0</td><td>3</td><td>6.476972362889682</td></tr>\n",
       "<tr><td>House</td><td>Entire home/apt</td><td>{&quot;Wireless Intern...</td><td>4</td><td>1.0</td><td>Real Bed</td><td>moderate</td><td>true</td><td>LA</td><td>(Shared home with...</td><td>true</td><td>true</td><td>2015-06-02</td><td>false</td><td>34.10872996857901</td><td>-118.1794665487113</td><td>Comfortable, 3br ...</td><td>Hermon</td><td>2</td><td>90042</td><td>3.0</td><td>3</td><td>4.867534450455582</td></tr>\n",
       "<tr><td>House</td><td>Entire home/apt</td><td>{TV,&quot;Cable TV&quot;,In...</td><td>5</td><td>2.0</td><td>Real Bed</td><td>strict</td><td>true</td><td>LA</td><td>Beautiful fully u...</td><td>true</td><td>true</td><td>2014-06-12</td><td>false</td><td>33.75906350605493</td><td>-118.13844496573584</td><td>Beautiful home in...</td><td>Long Beach</td><td>21</td><td>90803</td><td>4.0</td><td>3</td><td>5.272999558563747</td></tr>\n",
       "<tr><td>House</td><td>Entire home/apt</td><td>{TV,&quot;Wireless Int...</td><td>8</td><td>2.0</td><td>Real Bed</td><td>strict</td><td>true</td><td>LA</td><td>Within walking di...</td><td>true</td><td>true</td><td>2016-05-03</td><td>false</td><td>34.05597780443645</td><td>-118.1188218344203</td><td>Charming house 3b...</td><td>Monterey Park</td><td>12</td><td>91755</td><td>5.0</td><td>3</td><td>5.3706380281276624</td></tr>\n",
       "<tr><td>House</td><td>Entire home/apt</td><td>{TV,&quot;Cable TV&quot;,&quot;W...</td><td>6</td><td>2.0</td><td>Real Bed</td><td>strict</td><td>true</td><td>DC</td><td>Fully Restored Fo...</td><td>true</td><td>true</td><td>2012-11-08</td><td>false</td><td>38.88354324515544</td><td>-77.00085622063551</td><td>Home In The Shado...</td><td>Capitol Hill</td><td>8</td><td>20003</td><td>4.0</td><td>3</td><td>5.476463551931511</td></tr>\n",
       "<tr><td>House</td><td>Entire home/apt</td><td>{TV,Internet,&quot;Wir...</td><td>6</td><td>2.0</td><td>Real Bed</td><td>strict</td><td>true</td><td>LA</td><td>This is an except...</td><td>true</td><td>true</td><td>2016-08-13</td><td>false</td><td>33.99529079363813</td><td>-118.45642645943359</td><td>Venice Walk St Bu...</td><td>Venice</td><td>1</td><td>90291</td><td>4.0</td><td>3</td><td>5.634789603169249</td></tr>\n",
       "<tr><td>Loft</td><td>Entire home/apt</td><td>{TV,Internet,&quot;Wir...</td><td>10</td><td>2.0</td><td>Real Bed</td><td>strict</td><td>true</td><td>NYC</td><td>Come see my beaut...</td><td>true</td><td>true</td><td>2011-09-13</td><td>false</td><td>40.713327768604096</td><td>-73.99177158094184</td><td>STUNNING 4 BED LO...</td><td>Chinatown</td><td>88</td><td>10002.0</td><td>4.0</td><td>3</td><td>6.300785794663246</td></tr>\n",
       "<tr><td>House</td><td>Entire home/apt</td><td>{TV,&quot;Cable TV&quot;,&quot;W...</td><td>8</td><td>1.0</td><td>Real Bed</td><td>moderate</td><td>true</td><td>NYC</td><td>For those who lav...</td><td>false</td><td>false</td><td>2017-05-29</td><td>true</td><td>40.692560136864685</td><td>-73.79987814478135</td><td>Gorgeous Comfy Ap...</td><td>Jamaica</td><td>9</td><td>11433</td><td>4.0</td><td>3</td><td>5.1929568508902095</td></tr>\n",
       "<tr><td>Townhouse</td><td>Entire home/apt</td><td>{TV,&quot;Cable TV&quot;,In...</td><td>8</td><td>2.5</td><td>Real Bed</td><td>moderate</td><td>true</td><td>Chicago</td><td>This house is ide...</td><td>true</td><td>true</td><td>2011-04-04</td><td>false</td><td>41.91269299893785</td><td>-87.64250486324484</td><td>Perfect Lincoln P...</td><td>Old Town</td><td>42</td><td>60614</td><td>3.0</td><td>3</td><td>5.66988092298052</td></tr>\n",
       "<tr><td>Apartment</td><td>Private room</td><td>{&quot;Wireless Intern...</td><td>2</td><td>1.0</td><td>Real Bed</td><td>flexible</td><td>false</td><td>NYC</td><td>The Space:   Very...</td><td>true</td><td>true</td><td>2016-08-31</td><td>true</td><td>40.62282874321328</td><td>-73.96195500405251</td><td>Private room Broo...</td><td>Midwood</td><td>9</td><td>11230</td><td>1.0</td><td>3</td><td>3.8918202981106265</td></tr>\n",
       "<tr><td>Villa</td><td>Entire home/apt</td><td>{TV,&quot;Cable TV&quot;,In...</td><td>8</td><td>2.0</td><td>Real Bed</td><td>strict</td><td>true</td><td>LA</td><td>Beautiful 3 bd + ...</td><td>true</td><td>true</td><td>2012-08-18</td><td>false</td><td>34.045032685521825</td><td>-118.5117841033277</td><td>Santa Monica Vill...</td><td>Pacific Palisades</td><td>5</td><td>90402</td><td>3.0</td><td>3</td><td>6.684611727667928</td></tr>\n",
       "<tr><td>Condominium</td><td>Entire home/apt</td><td>{Internet,&quot;Wirele...</td><td>10</td><td>2.0</td><td>Real Bed</td><td>strict</td><td>true</td><td>Boston</td><td>Renovated beachfr...</td><td>true</td><td>true</td><td>2013-06-16</td><td>true</td><td>42.32952457018733</td><td>-71.05162496152309</td><td>-Vacation Home Ne...</td><td>South Boston</td><td>28</td><td>02127</td><td>6.0</td><td>3</td><td>5.793013608384143</td></tr>\n",
       "<tr><td>House</td><td>Entire home/apt</td><td>{TV,Internet,&quot;Wir...</td><td>5</td><td>2.0</td><td>Real Bed</td><td>strict</td><td>true</td><td>NYC</td><td>Huge and beautifu...</td><td>true</td><td>false</td><td>2013-06-18</td><td>false</td><td>40.62644694589787</td><td>-74.02887670627929</td><td>LOFTY 3 BEDROOMS ...</td><td>Bay Ridge</td><td>0</td><td>11209</td><td>4.0</td><td>3</td><td>5.105945473900579</td></tr>\n",
       "<tr><td>Apartment</td><td>Entire home/apt</td><td>{TV,&quot;Cable TV&quot;,In...</td><td>8</td><td>2.0</td><td>Real Bed</td><td>strict</td><td>true</td><td>DC</td><td>This magazine-cov...</td><td>true</td><td>true</td><td>2014-04-24</td><td>true</td><td>38.9260596083448</td><td>-77.04052299168882</td><td>Modern Executive ...</td><td>Adams Morgan</td><td>19</td><td>20009</td><td>6.0</td><td>3</td><td>5.68697535633982</td></tr>\n",
       "<tr><td>House</td><td>Entire home/apt</td><td>{TV,&quot;Cable TV&quot;,In...</td><td>8</td><td>1.5</td><td>Real Bed</td><td>moderate</td><td>false</td><td>NYC</td><td>This large, warm ...</td><td>true</td><td>true</td><td>2011-04-06</td><td>false</td><td>40.67496517763264</td><td>-73.87304858840861</td><td>Family &amp; Friends ...</td><td>East New York</td><td>135</td><td>11208.0</td><td>5.0</td><td>3</td><td>5.1298987149230735</td></tr>\n",
       "</table>\n",
       "only showing top 20 rows\n"
      ],
      "text/plain": [
       "+-------------+---------------+--------------------+------------+---------+--------+-------------------+------------+------+--------------------+--------------------+----------------------+----------+----------------+------------------+-------------------+--------------------+--------------------+-----------------+-------+----+--------+------------------+\n",
       "|property_type|      room_type|           amenities|accommodates|bathrooms|bed_type|cancellation_policy|cleaning_fee|  city|         description|host_has_profile_pic|host_identity_verified|host_since|instant_bookable|          latitude|          longitude|                name|       neighbourhood|number_of_reviews|zipcode|beds|bedrooms|             label|\n",
       "+-------------+---------------+--------------------+------------+---------+--------+-------------------+------------+------+--------------------+--------------------+----------------------+----------+----------------+------------------+-------------------+--------------------+--------------------+-----------------+-------+----+--------+------------------+\n",
       "|         Loft|Entire home/apt|{Internet,\"Wirele...|          16|      2.0|Real Bed|             strict|        true|   NYC|Welcome Home! Hea...|                true|                  true|2014-03-01|           false| 40.70858224218985| -73.95301425964071|2 Penthouse Lofts...|        Williamsburg|               44|11211.0|10.0|       7| 6.507277712385013|\n",
       "|    Townhouse|Entire home/apt|{TV,\"Cable TV\",In...|          16|      4.0|Real Bed|             strict|        true|   NYC|Newly renovated a...|                true|                  true|2014-06-10|            true|40.714961445562466|  -73.9459327654385|JUST LISTED 7bd/4...|        Williamsburg|                7|11211.0| 9.0|       7| 6.796823718274855|\n",
       "|        House|Entire home/apt|{TV,Internet,\"Wir...|          12|      6.0|Real Bed|           moderate|        true|    LA|Our house is clos...|                true|                  true|2016-05-17|           false| 33.97361865838191|-118.41135788062414|Spacious with Vie...|Westchester/Playa...|                9|  90045| 6.0|       7| 6.429719478039137|\n",
       "|        Villa|Entire home/apt|{TV,\"Cable TV\",In...|          10|      8.0|Real Bed|             strict|       false|    LA|Our beautiful Est...|                true|                  true|2014-08-01|           false|34.167797954394736|-118.50355353313894|SUMMER VACATION V...|              Encino|                1|  91316| 9.0|       7| 7.495541943884256|\n",
       "|        Other|Entire home/apt|{TV,\"Cable TV\",In...|          16|      4.0|Real Bed|           moderate|        true|    LA|Great for busines...|                true|                  true|2014-02-09|           false|  34.0056580274334|-118.43327536192491|West LA Compound ...|           Mar Vista|                5|  90066|10.0|       7| 6.762729506931878|\n",
       "|    Apartment|Entire home/apt|{TV,Internet,\"Wir...|          12|      5.0|Real Bed|             strict|        true|    LA|Rent our entire b...|                true|                  true|2014-04-14|           false| 33.99078924403168|-118.47600494529516|7BR/4.5BA---Large...|              Venice|               20|  90291|10.0|       7| 6.826545223556594|\n",
       "|        House|Entire home/apt|{\"Cable TV\",Inter...|          16|      5.0|Real Bed|             strict|        true|   NYC|6 bedrooms total ...|                true|                  true|2011-11-01|           false| 40.59192978891966| -74.06476426213608|Wedding guests ac...|         South Beach|                1|  10305|15.0|       7| 6.437751649736401|\n",
       "|        House|Entire home/apt|{TV,\"Cable TV\",In...|          16|      4.0|Real Bed|             strict|        true|   NYC|Huge 7 bedrooms ,...|                true|                 false|2014-08-20|           false| 40.68542277116447| -73.95183895659102|New York I Love Y...|  Bedford-Stuyvesant|               87|  11216|11.0|       7| 6.956545443151567|\n",
       "|        House|Entire home/apt|{TV,\"Cable TV\",In...|          16|      2.0|Real Bed|             strict|        true|    LA|Luxurious 4 bedro...|                true|                 false|2015-06-01|           false| 34.09580113492421|-118.34837686256701|   W Hollywood Dream|           Hollywood|               99|  90046|10.0|       7| 5.857933154483459|\n",
       "|  Condominium|Entire home/apt|{TV,Internet,\"Wir...|          16|      4.0|Real Bed|             strict|        true|Boston|Beautifully redes...|                true|                 false|2017-09-07|           false| 42.32916951239184| -71.09288095270476|Spacious 3-Floor ...|             Roxbury|                0|  02119|13.0|       7| 5.703782474656202|\n",
       "|        House|Entire home/apt|{TV,\"Cable TV\",In...|          16|      5.0|Real Bed|             strict|       false|    LA|Great for familie...|                true|                  true|2014-07-08|            true| 33.92211048783143|-118.29285199681786|7 Bedrms;5 baths;...|         West Athens|               59|  90044|15.0|       7| 6.052089168924417|\n",
       "|        Villa|Entire home/apt|{TV,\"Cable TV\",In...|          16|      7.5|Real Bed|             strict|        true|    LA|Villa Tramonto is...|                true|                  true|2013-04-18|            true|34.042871492689514|-118.55683842381409|Ocean View Villa,...|   Pacific Palisades|               15|  90272|16.0|       7| 7.598399329323964|\n",
       "|        House|Entire home/apt|{TV,\"Cable TV\",In...|          14|      3.0|Real Bed|             strict|        true|   NYC|The house is in t...|                true|                  true|2015-07-09|            true| 40.63129472363578|  -73.9661059625837|Big House near ex...|            Flatbush|                4|  11230| 7.0|       7|5.8944028342648505|\n",
       "|        House|Entire home/apt|{TV,Internet,\"Wir...|          16|      3.5|Real Bed|             strict|        true|    DC|This charming bro...|                true|                  true|2012-09-24|           false| 38.92219400636585| -77.03517355369588|Vintage 7BR/3.5BA...|    Columbia Heights|                4|  20009| 7.0|       7|  6.61338421837956|\n",
       "|        House|Entire home/apt|{TV,\"Cable TV\",In...|          16|      6.0|Real Bed|             strict|        true|    LA|Our 7 bedroom Fam...|                true|                  true|2012-08-05|           false| 34.03896480642458|-118.48704111077429|Santa Monica Beac...|        Santa Monica|                1|  90402| 7.0|       7| 7.549609165154532|\n",
       "|        House|Entire home/apt|{TV,\"Cable TV\",In...|          12|      7.0|Real Bed|             strict|        true|    LA|Beautiful Spanish...|                true|                 false|2014-09-05|           false|34.082991488165405|-118.39417865973569|Glatt Kosher Span...|       Beverly Hills|                0|  90210| 7.0|       7| 7.377758908227872|\n",
       "|        House|Entire home/apt|{TV,\"Wireless Int...|          16|      6.5|Real Bed|             strict|        true|    DC|**There is a 4-da...|                true|                 false|2014-11-06|            true| 38.93571057998407| -76.96400763609522|New Whole House 7...|Mt Rainier/Brentw...|                1|  20781|12.0|       7| 6.620073206530356|\n",
       "|        House|Entire home/apt|{TV,\"Cable TV\",In...|          14|      4.0|Real Bed|             strict|        true|    DC|Location! Locatio...|                true|                  true|2014-02-14|           false| 38.92846458068177| -77.03092327239551|Victorian Mansion...|    Columbia Heights|               42|  20010| 9.0|       7|6.4692503167957724|\n",
       "|        Villa|Entire home/apt|{TV,\"Cable TV\",In...|          16|      5.5|Real Bed|             strict|        true|    LA|Let Casa Las Bris...|               false|                 false|2014-03-06|           false| 34.03023050652101|-118.83057963267315|Casa Las Brisas :...|              Malibu|                7|  90265| 8.0|       7| 7.492760300922379|\n",
       "|        House|Entire home/apt|{TV,\"Cable TV\",In...|          16|      4.5|Real Bed|           moderate|        true|    DC|A recently renova...|                true|                  true|2015-08-16|           false| 38.92590802039826| -77.03026977161507|     The Montague-16|    Columbia Heights|                4|  20009| 8.0|       7| 6.543911845564795|\n",
       "+-------------+---------------+--------------------+------------+---------+--------+-------------------+------------+------+--------------------+--------------------+----------------------+----------+----------------+------------------+-------------------+--------------------+--------------------+-----------------+-------+----+--------+------------------+\n",
       "only showing top 20 rows"
      ]
     },
     "execution_count": 9,
     "metadata": {},
     "output_type": "execute_result"
    }
   ],
   "source": [
    "import pyspark.sql.functions as F\n",
    "# drop rows with missing values\n",
    "df2 = airbnb.select(features + [label]).na.drop()\n",
    "df2 = df2.withColumnRenamed('log_price', 'label')\n",
    "df2"
   ]
  },
  {
   "cell_type": "code",
   "execution_count": 10,
   "id": "67fb5298-0111-4b71-8763-c364730d85e1",
   "metadata": {},
   "outputs": [
    {
     "data": {
      "text/html": [
       "<table border='1'>\n",
       "<tr><th>property_type</th><th>room_type</th><th>amenities</th><th>accommodates</th><th>bathrooms</th><th>bed_type</th><th>cancellation_policy</th><th>cleaning_fee</th><th>city</th><th>description</th><th>host_has_profile_pic</th><th>host_identity_verified</th><th>host_since</th><th>instant_bookable</th><th>latitude</th><th>longitude</th><th>name</th><th>neighbourhood</th><th>number_of_reviews</th><th>zipcode</th><th>beds</th><th>bedrooms</th><th>label</th></tr>\n",
       "<tr><td>Loft</td><td>Entire home/apt</td><td>{Internet,&quot;Wirele...</td><td>16.0</td><td>2.0</td><td>Real Bed</td><td>strict</td><td>1.0</td><td>NYC</td><td>Welcome Home! Hea...</td><td>1.0</td><td>1.0</td><td>2014-03-01</td><td>0.0</td><td>40.70858224218985</td><td>-73.95301425964071</td><td>2 Penthouse Lofts...</td><td>Williamsburg</td><td>44.0</td><td>11211.0</td><td>10.0</td><td>7.0</td><td>6.507277712385013</td></tr>\n",
       "<tr><td>Townhouse</td><td>Entire home/apt</td><td>{TV,&quot;Cable TV&quot;,In...</td><td>16.0</td><td>4.0</td><td>Real Bed</td><td>strict</td><td>1.0</td><td>NYC</td><td>Newly renovated a...</td><td>1.0</td><td>1.0</td><td>2014-06-10</td><td>1.0</td><td>40.714961445562466</td><td>-73.9459327654385</td><td>JUST LISTED 7bd/4...</td><td>Williamsburg</td><td>7.0</td><td>11211.0</td><td>9.0</td><td>7.0</td><td>6.796823718274855</td></tr>\n",
       "<tr><td>House</td><td>Entire home/apt</td><td>{TV,Internet,&quot;Wir...</td><td>12.0</td><td>6.0</td><td>Real Bed</td><td>moderate</td><td>1.0</td><td>LA</td><td>Our house is clos...</td><td>1.0</td><td>1.0</td><td>2016-05-17</td><td>0.0</td><td>33.97361865838191</td><td>-118.41135788062414</td><td>Spacious with Vie...</td><td>Westchester/Playa...</td><td>9.0</td><td>90045</td><td>6.0</td><td>7.0</td><td>6.429719478039137</td></tr>\n",
       "<tr><td>Villa</td><td>Entire home/apt</td><td>{TV,&quot;Cable TV&quot;,In...</td><td>10.0</td><td>8.0</td><td>Real Bed</td><td>strict</td><td>0.0</td><td>LA</td><td>Our beautiful Est...</td><td>1.0</td><td>1.0</td><td>2014-08-01</td><td>0.0</td><td>34.167797954394736</td><td>-118.50355353313894</td><td>SUMMER VACATION V...</td><td>Encino</td><td>1.0</td><td>91316</td><td>9.0</td><td>7.0</td><td>7.495541943884256</td></tr>\n",
       "<tr><td>Other</td><td>Entire home/apt</td><td>{TV,&quot;Cable TV&quot;,In...</td><td>16.0</td><td>4.0</td><td>Real Bed</td><td>moderate</td><td>1.0</td><td>LA</td><td>Great for busines...</td><td>1.0</td><td>1.0</td><td>2014-02-09</td><td>0.0</td><td>34.0056580274334</td><td>-118.43327536192491</td><td>West LA Compound ...</td><td>Mar Vista</td><td>5.0</td><td>90066</td><td>10.0</td><td>7.0</td><td>6.762729506931878</td></tr>\n",
       "<tr><td>Apartment</td><td>Entire home/apt</td><td>{TV,Internet,&quot;Wir...</td><td>12.0</td><td>5.0</td><td>Real Bed</td><td>strict</td><td>1.0</td><td>LA</td><td>Rent our entire b...</td><td>1.0</td><td>1.0</td><td>2014-04-14</td><td>0.0</td><td>33.99078924403168</td><td>-118.47600494529516</td><td>7BR/4.5BA---Large...</td><td>Venice</td><td>20.0</td><td>90291</td><td>10.0</td><td>7.0</td><td>6.826545223556594</td></tr>\n",
       "<tr><td>House</td><td>Entire home/apt</td><td>{&quot;Cable TV&quot;,Inter...</td><td>16.0</td><td>5.0</td><td>Real Bed</td><td>strict</td><td>1.0</td><td>NYC</td><td>6 bedrooms total ...</td><td>1.0</td><td>1.0</td><td>2011-11-01</td><td>0.0</td><td>40.59192978891966</td><td>-74.06476426213608</td><td>Wedding guests ac...</td><td>South Beach</td><td>1.0</td><td>10305</td><td>15.0</td><td>7.0</td><td>6.437751649736401</td></tr>\n",
       "<tr><td>House</td><td>Entire home/apt</td><td>{TV,&quot;Cable TV&quot;,In...</td><td>16.0</td><td>4.0</td><td>Real Bed</td><td>strict</td><td>1.0</td><td>NYC</td><td>Huge 7 bedrooms ,...</td><td>1.0</td><td>0.0</td><td>2014-08-20</td><td>0.0</td><td>40.68542277116447</td><td>-73.95183895659102</td><td>New York I Love Y...</td><td>Bedford-Stuyvesant</td><td>87.0</td><td>11216</td><td>11.0</td><td>7.0</td><td>6.956545443151567</td></tr>\n",
       "<tr><td>House</td><td>Entire home/apt</td><td>{TV,&quot;Cable TV&quot;,In...</td><td>16.0</td><td>2.0</td><td>Real Bed</td><td>strict</td><td>1.0</td><td>LA</td><td>Luxurious 4 bedro...</td><td>1.0</td><td>0.0</td><td>2015-06-01</td><td>0.0</td><td>34.09580113492421</td><td>-118.34837686256701</td><td>W Hollywood Dream</td><td>Hollywood</td><td>99.0</td><td>90046</td><td>10.0</td><td>7.0</td><td>5.857933154483459</td></tr>\n",
       "<tr><td>Condominium</td><td>Entire home/apt</td><td>{TV,Internet,&quot;Wir...</td><td>16.0</td><td>4.0</td><td>Real Bed</td><td>strict</td><td>1.0</td><td>Boston</td><td>Beautifully redes...</td><td>1.0</td><td>0.0</td><td>2017-09-07</td><td>0.0</td><td>42.32916951239184</td><td>-71.09288095270476</td><td>Spacious 3-Floor ...</td><td>Roxbury</td><td>0.0</td><td>02119</td><td>13.0</td><td>7.0</td><td>5.703782474656202</td></tr>\n",
       "<tr><td>House</td><td>Entire home/apt</td><td>{TV,&quot;Cable TV&quot;,In...</td><td>16.0</td><td>5.0</td><td>Real Bed</td><td>strict</td><td>0.0</td><td>LA</td><td>Great for familie...</td><td>1.0</td><td>1.0</td><td>2014-07-08</td><td>1.0</td><td>33.92211048783143</td><td>-118.29285199681786</td><td>7 Bedrms;5 baths;...</td><td>West Athens</td><td>59.0</td><td>90044</td><td>15.0</td><td>7.0</td><td>6.052089168924417</td></tr>\n",
       "<tr><td>Villa</td><td>Entire home/apt</td><td>{TV,&quot;Cable TV&quot;,In...</td><td>16.0</td><td>7.5</td><td>Real Bed</td><td>strict</td><td>1.0</td><td>LA</td><td>Villa Tramonto is...</td><td>1.0</td><td>1.0</td><td>2013-04-18</td><td>1.0</td><td>34.042871492689514</td><td>-118.55683842381409</td><td>Ocean View Villa,...</td><td>Pacific Palisades</td><td>15.0</td><td>90272</td><td>16.0</td><td>7.0</td><td>7.598399329323964</td></tr>\n",
       "<tr><td>House</td><td>Entire home/apt</td><td>{TV,&quot;Cable TV&quot;,In...</td><td>14.0</td><td>3.0</td><td>Real Bed</td><td>strict</td><td>1.0</td><td>NYC</td><td>The house is in t...</td><td>1.0</td><td>1.0</td><td>2015-07-09</td><td>1.0</td><td>40.63129472363578</td><td>-73.9661059625837</td><td>Big House near ex...</td><td>Flatbush</td><td>4.0</td><td>11230</td><td>7.0</td><td>7.0</td><td>5.8944028342648505</td></tr>\n",
       "<tr><td>House</td><td>Entire home/apt</td><td>{TV,Internet,&quot;Wir...</td><td>16.0</td><td>3.5</td><td>Real Bed</td><td>strict</td><td>1.0</td><td>DC</td><td>This charming bro...</td><td>1.0</td><td>1.0</td><td>2012-09-24</td><td>0.0</td><td>38.92219400636585</td><td>-77.03517355369588</td><td>Vintage 7BR/3.5BA...</td><td>Columbia Heights</td><td>4.0</td><td>20009</td><td>7.0</td><td>7.0</td><td>6.61338421837956</td></tr>\n",
       "<tr><td>House</td><td>Entire home/apt</td><td>{TV,&quot;Cable TV&quot;,In...</td><td>16.0</td><td>6.0</td><td>Real Bed</td><td>strict</td><td>1.0</td><td>LA</td><td>Our 7 bedroom Fam...</td><td>1.0</td><td>1.0</td><td>2012-08-05</td><td>0.0</td><td>34.03896480642458</td><td>-118.48704111077429</td><td>Santa Monica Beac...</td><td>Santa Monica</td><td>1.0</td><td>90402</td><td>7.0</td><td>7.0</td><td>7.549609165154532</td></tr>\n",
       "<tr><td>House</td><td>Entire home/apt</td><td>{TV,&quot;Cable TV&quot;,In...</td><td>12.0</td><td>7.0</td><td>Real Bed</td><td>strict</td><td>1.0</td><td>LA</td><td>Beautiful Spanish...</td><td>1.0</td><td>0.0</td><td>2014-09-05</td><td>0.0</td><td>34.082991488165405</td><td>-118.39417865973569</td><td>Glatt Kosher Span...</td><td>Beverly Hills</td><td>0.0</td><td>90210</td><td>7.0</td><td>7.0</td><td>7.377758908227872</td></tr>\n",
       "<tr><td>House</td><td>Entire home/apt</td><td>{TV,&quot;Wireless Int...</td><td>16.0</td><td>6.5</td><td>Real Bed</td><td>strict</td><td>1.0</td><td>DC</td><td>**There is a 4-da...</td><td>1.0</td><td>0.0</td><td>2014-11-06</td><td>1.0</td><td>38.93571057998407</td><td>-76.96400763609522</td><td>New Whole House 7...</td><td>Mt Rainier/Brentw...</td><td>1.0</td><td>20781</td><td>12.0</td><td>7.0</td><td>6.620073206530356</td></tr>\n",
       "<tr><td>House</td><td>Entire home/apt</td><td>{TV,&quot;Cable TV&quot;,In...</td><td>14.0</td><td>4.0</td><td>Real Bed</td><td>strict</td><td>1.0</td><td>DC</td><td>Location! Locatio...</td><td>1.0</td><td>1.0</td><td>2014-02-14</td><td>0.0</td><td>38.92846458068177</td><td>-77.03092327239551</td><td>Victorian Mansion...</td><td>Columbia Heights</td><td>42.0</td><td>20010</td><td>9.0</td><td>7.0</td><td>6.4692503167957724</td></tr>\n",
       "<tr><td>Villa</td><td>Entire home/apt</td><td>{TV,&quot;Cable TV&quot;,In...</td><td>16.0</td><td>5.5</td><td>Real Bed</td><td>strict</td><td>1.0</td><td>LA</td><td>Let Casa Las Bris...</td><td>0.0</td><td>0.0</td><td>2014-03-06</td><td>0.0</td><td>34.03023050652101</td><td>-118.83057963267315</td><td>Casa Las Brisas :...</td><td>Malibu</td><td>7.0</td><td>90265</td><td>8.0</td><td>7.0</td><td>7.492760300922379</td></tr>\n",
       "<tr><td>House</td><td>Entire home/apt</td><td>{TV,&quot;Cable TV&quot;,In...</td><td>16.0</td><td>4.5</td><td>Real Bed</td><td>moderate</td><td>1.0</td><td>DC</td><td>A recently renova...</td><td>1.0</td><td>1.0</td><td>2015-08-16</td><td>0.0</td><td>38.92590802039826</td><td>-77.03026977161507</td><td>The Montague-16</td><td>Columbia Heights</td><td>4.0</td><td>20009</td><td>8.0</td><td>7.0</td><td>6.543911845564795</td></tr>\n",
       "</table>\n",
       "only showing top 20 rows\n"
      ],
      "text/plain": [
       "+-------------+---------------+--------------------+------------+---------+--------+-------------------+------------+-------+----------------------------------+--------------------+----------------------+----------+----------------+------------------+-------------------+-------------------------+------------------+-----------------+-------+----+--------+------------------+\n",
       "|property_type|      room_type|           amenities|accommodates|bathrooms|bed_type|cancellation_policy|cleaning_fee|   city|                       description|host_has_profile_pic|host_identity_verified|host_since|instant_bookable|          latitude|          longitude|                     name|     neighbourhood|number_of_reviews|zipcode|beds|bedrooms|             label|\n",
       "+-------------+---------------+--------------------+------------+---------+--------+-------------------+------------+-------+----------------------------------+--------------------+----------------------+----------+----------------+------------------+-------------------+-------------------------+------------------+-----------------+-------+----+--------+------------------+\n",
       "|        House|Entire home/apt|{\"Cable TV\",\"Wire...|        16.0|      4.0|Real Bed|             strict|         1.0|    NYC|              Do you have a gro...|                 1.0|                   1.0|2015-01-29|             1.0|40.692833567354754| -73.95604348899239|     NYC Private Group...|Bedford-Stuyvesant|              4.0|  11205|13.0|    10.0|7.2078598714324755|\n",
       "|        House|Entire home/apt|{TV,\"Wireless Int...|        16.0|      4.0|Real Bed|           flexible|         0.0|    NYC|              Open concepts wit...|                 1.0|                   0.0|2016-08-29|             1.0|40.674952373657796| -73.81914031330653|     Vacation Homes By...|  South Ozone Park|              0.0|  11420|16.0|    10.0| 6.257667587882639|\n",
       "|        House|Entire home/apt|{Internet,\"Wirele...|        16.0|      7.0|Real Bed|           flexible|         0.0|     LA|              Hello! We're LA C...|                 1.0|                   0.0|2016-04-21|             0.0|34.048689864504496| -118.3195794188632|     12 Bedroom House ...|      Mid-Wilshire|              0.0|  90019|16.0|    10.0| 7.170119543449628|\n",
       "|        House|Entire home/apt|{TV,\"Cable TV\",\"W...|        16.0|      8.0|Real Bed|           flexible|         1.0|    NYC|              This stylishly re...|                 1.0|                   0.0|2017-06-28|             0.0|40.756318657985894| -73.80829756519694|     New Metropolitan ...|          Flushing|              0.0|  11355|16.0|    10.0| 7.495541943884256|\n",
       "|    Townhouse|Entire home/apt|{TV,\"Cable TV\",\"W...|         2.0|      1.0|Real Bed|           moderate|         1.0| Boston|              A Large, Loft Sty...|                 1.0|                   0.0|2017-03-25|             1.0| 42.32542888539794| -71.09646637457611|     Loft Style 1 mile...|           Roxbury|              4.0|  02119| 1.0|    10.0|4.8283137373023015|\n",
       "|        House|Entire home/apt|{TV,\"Cable TV\",In...|        16.0|      6.0|Real Bed|             strict|         1.0|    NYC|              Newly renovated a...|                 1.0|                   1.0|2014-06-10|             1.0|40.713843971209094| -73.94762082415639|     INCREDIBLE TOWNHO...|      Williamsburg|              7.0|11211.0|13.0|    10.0| 6.212606095751518|\n",
       "|        House|Entire home/apt|{TV,\"Cable TV\",In...|        16.0|      5.0|Real Bed|             strict|         1.0|Chicago|              SLEEP 30 in a FOU...|                 1.0|                   1.0|2014-01-08|             0.0| 41.94721186288103| -87.65557371145624|     Sleep 30, HALF-BL...|      Wrigleyville|             13.0|  60613|16.0|    10.0| 5.700443573390688|\n",
       "|        House|Entire home/apt|{TV,\"Cable TV\",In...|        16.0|      7.0|Real Bed|             strict|         0.0|     LA|              10 bedrooms,7 bat...|                 1.0|                   1.0|2014-07-08|             1.0|33.975375993938826|-118.29599531496773|     10 Bedrms;26 beds...|          South LA|             16.0|  90044|16.0|    10.0|  6.38856140554563|\n",
       "|        House|Entire home/apt|{TV,\"Wireless Int...|         7.0|      2.0|Real Bed|             strict|         1.0|     LA|这间四房的PUD位于和亚凯迪亚的交...|                 1.0|                   1.0|2017-02-01|             1.0|34.130149873646424|-118.01142964459407|洛杉矶之家 Home by Arc...|           Arcadia|              0.0|  91016| 4.0|     4.0| 5.594711379601837|\n",
       "|        House|Entire home/apt|{TV,\"Cable TV\",\"W...|         6.0|      3.5|Real Bed|             strict|         1.0|     DC|              We live in a newl...|                 1.0|                   1.0|2015-10-23|             0.0|38.971519809471495|  -77.0109846035962|     New Built Home in...|            Takoma|              5.0|  20012| 4.0|     4.0|5.1929568508902095|\n",
       "|    Apartment|Entire home/apt|{TV,\"Cable TV\",In...|        12.0|      1.0|Real Bed|             strict|         1.0|Chicago|              I renovated this ...|                 1.0|                   1.0|2016-01-31|             0.0|   41.886205398796| -87.70363964577317|     Urban Oasis @ Ful...|     Garfield Park|             50.0|  60612| 4.0|     4.0| 5.075173815233828|\n",
       "|        House|Entire home/apt|{TV,\"Cable TV\",In...|        10.0|      2.5|Real Bed|             strict|         1.0|     DC|              SPECTACULAR VICTO...|                 1.0|                   1.0|2012-11-29|             1.0|38.906976137949826| -77.02699276815332|     SPECTACULAR HOME ...|      Logan Circle|             81.0|  20005| 5.0|     4.0| 6.214608098422191|\n",
       "|        House|Entire home/apt|{TV,\"Cable TV\",In...|         8.0|      4.5|Real Bed|             strict|         1.0|     LA|              Located centrally...|                 1.0|                   1.0|2014-09-08|             0.0|34.113917348336905| -118.3864051817073|     Hollywood Hills C...|     Laurel Canyon|              6.0|  90046| 4.0|     4.0| 7.170119543449628|\n",
       "|    Townhouse|Entire home/apt|{TV,Internet,\"Wir...|         8.0|      3.0|Real Bed|             strict|         1.0|    NYC|              My quaint & histo...|                 1.0|                   0.0|2016-07-12|             0.0|40.692738449610665| -73.96507684327614|     Spacious & Chic 4...|      Clinton Hill|              7.0|11205.0| 5.0|     4.0| 6.003887067106539|\n",
       "|    Apartment|Entire home/apt|{TV,\"Wireless Int...|         8.0|      2.0|Real Bed|             strict|         1.0|    NYC|              Our luxury loft o...|                 1.0|                   1.0|2009-12-26|             0.0| 40.80164249642196| -73.93922139409575|     SpaHa Loft: Enorm...|       East Harlem|            138.0|10035.0| 6.0|     4.0| 5.416100402204419|\n",
       "|        House|Entire home/apt|{TV,\"Cable TV\",In...|         8.0|      2.0|Real Bed|             strict|         1.0|     LA|              Charming Spanish ...|                 1.0|                   1.0|2008-10-16|             0.0|34.132253038035465|-118.38372996051108|     Laurel Canyon - T...|       Studio City|              0.0|  91604| 5.0|     4.0| 5.814130531825067|\n",
       "|        House|Entire home/apt|{TV,\"Wireless Int...|         7.0|      1.5|Real Bed|           moderate|         1.0|     LA|              My place is close...|                 1.0|                   1.0|2016-04-21|             0.0|34.111469945695035|-118.11555480580259|     Cute House 10 min...|       San Gabriel|              4.0|  91775| 5.0|     4.0| 5.272999558563747|\n",
       "|        House|Entire home/apt|{TV,Internet,\"Wir...|         9.0|      2.5|Real Bed|             strict|         0.0|     LA|              A Vacation Home F...|                 1.0|                   1.0|2012-07-17|             0.0| 34.18856610064488|-118.12231125876929|     Beautiful & Tranq...|          Altadena|              0.0|  91001| 7.0|     4.0| 6.551080335043403|\n",
       "|        House|Entire home/apt|{TV,\"Cable TV\",In...|         8.0|      3.0|Real Bed|             strict|         1.0|     DC|              Amazing newly ren...|                 1.0|                   1.0|2014-03-03|             0.0| 38.95744539010831| -77.08215362513657|     Gorgeous spaceous...|Friendship Heights|              1.0|  20016| 6.0|     4.0| 5.991464547107983|\n",
       "|        Villa|Entire home/apt|{TV,Internet,\"Wir...|        12.0|      5.0|Real Bed|             strict|         1.0|     LA|              My place is close...|                 1.0|                   0.0|2016-06-05|             1.0| 34.13201711771783| -118.3598330656884|     Hollywood Hills M...|     Cahuenga Pass|             12.0|  90068| 6.0|     4.0|  6.38856140554563|\n",
       "+-------------+---------------+--------------------+------------+---------+--------+-------------------+------------+-------+----------------------------------+--------------------+----------------------+----------+----------------+------------------+-------------------+-------------------------+------------------+-----------------+-------+----+--------+------------------+\n",
       "only showing top 20 rows"
      ]
     },
     "execution_count": 10,
     "metadata": {},
     "output_type": "execute_result"
    }
   ],
   "source": [
    "from pyspark.ml import Pipeline\n",
    "from pyspark.ml.feature import StringIndexer, OneHotEncoder, VectorAssembler, Word2Vec, Tokenizer, RegexTokenizer\n",
    "from pyspark.sql.functions import col\n",
    "\n",
    "categoricalCols = ['property_type', 'room_type', 'bed_type', 'cancellation_policy', 'city', 'neighbourhood', 'zipcode']\n",
    "textCols = ['name', 'description']\n",
    "dateCols = ['host_since']\n",
    "booleanCols = ['cleaning_fee', 'host_has_profile_pic', 'host_identity_verified', 'instant_bookable']\n",
    "numericalCols = ['accommodates', 'bathrooms', 'number_of_reviews', 'beds', 'bedrooms']\n",
    "geoCols = [['latitude', 'longitude']]\n",
    "jsonCols = ['amenities']\n",
    "\n",
    "# cast all boolean and numerical columns to the same type\n",
    "numericalCols += booleanCols\n",
    "for c in numericalCols:\n",
    "    df2 = df2.withColumn(c, df2[c].cast('float'))\n",
    "df2"
   ]
  },
  {
   "cell_type": "markdown",
   "id": "5a71bafe-c88b-47d2-accc-a9ca27f3a95d",
   "metadata": {},
   "source": [
    "# Feature extraction"
   ]
  },
  {
   "cell_type": "code",
   "execution_count": 11,
   "id": "0e536045-6712-4d6b-9c01-81f1d854e697",
   "metadata": {},
   "outputs": [],
   "source": [
    "# Custom transformer for date features in YYYY-MM-DD format\n",
    "from pyspark import keyword_only\n",
    "from pyspark.ml import Transformer\n",
    "from pyspark.ml.param.shared import HasInputCol, HasOutputCol, Param, Params, TypeConverters\n",
    "from pyspark.ml.util import DefaultParamsReadable, DefaultParamsWritable\n",
    "from pyspark.sql import DataFrame\n",
    "from pyspark.sql.types import StringType\n",
    "from pyspark.ml.linalg import Vectors, VectorUDT\n",
    "import pyspark.sql.functions as F\n",
    "import math\n",
    "    \n",
    "class YMDTransformer(Transformer, HasInputCol, HasOutputCol, DefaultParamsReadable, DefaultParamsWritable):  \n",
    "    @keyword_only\n",
    "    def __init__(self, inputCol: str = \"input\", outputCol: str = \"output\"):\n",
    "        super(YMDTransformer, self).__init__()\n",
    "        kwargs = self._input_kwargs\n",
    "        self.set_params(**kwargs)\n",
    "    \n",
    "    @keyword_only\n",
    "    def set_params(self, inputCol: str = \"input\", outputCol: str = \"output\"):\n",
    "        kwargs = self._input_kwargs\n",
    "        self._set(**kwargs)\n",
    "\n",
    "  \n",
    "    def _transform(self, df: DataFrame):\n",
    "        input_col = self.getInputCol()\n",
    "        output_col = self.getOutputCol()\n",
    "        \n",
    "        DAY_PERIOD = 31\n",
    "        MONTH_PERIOD = 12\n",
    "        \n",
    "        # split the data and cast to float\n",
    "        input_col = F.split(df[input_col], '-').cast(\"array<float>\")\n",
    "        \n",
    "        # apply transform to day\n",
    "        d_sin = F.sin(2 * math.pi * F.element_at(input_col, 3) / DAY_PERIOD)\n",
    "        d_cos = F.cos(2 * math.pi * F.element_at(input_col, 3) / DAY_PERIOD)\n",
    "        \n",
    "        # apply transform to month\n",
    "        m_sin = F.sin(2 * math.pi * F.element_at(input_col, 2) / MONTH_PERIOD)\n",
    "        m_cos = F.cos(2 * math.pi * F.element_at(input_col, 2) / MONTH_PERIOD)\n",
    "        \n",
    "        # year remains as is\n",
    "        y = F.element_at(input_col, 1)\n",
    "        \n",
    "        # pack everything into a vector for VectorAssembler\n",
    "        atov = F.udf(lambda l: Vectors.dense(l), VectorUDT())\n",
    "        res = F.array(d_sin, d_cos, m_sin, m_cos, y)\n",
    "        res = atov(res)\n",
    "        \n",
    "        return df.withColumn(output_col, res)\n",
    "\n",
    "ymd_transformers = [ YMDTransformer(inputCol=c, outputCol=\"{0}_transformed\".format(c)) for c in dateCols ]"
   ]
  },
  {
   "cell_type": "code",
   "execution_count": 12,
   "id": "75d865ba-00fa-465f-b170-57d0f9389f3a",
   "metadata": {},
   "outputs": [],
   "source": [
    "# Custom transformer for date features in YYYY-MM-DD format\n",
    "from pyspark import keyword_only\n",
    "from pyspark.ml import Transformer\n",
    "from pyspark.ml.param.shared import HasInputCols, HasOutputCol, Param, Params, TypeConverters\n",
    "from pyspark.ml.util import DefaultParamsReadable, DefaultParamsWritable\n",
    "from pyspark.sql import DataFrame\n",
    "from pyspark.sql.types import StringType\n",
    "from pyspark.ml.linalg import Vectors, VectorUDT\n",
    "import pyspark.sql.functions as F\n",
    "import math\n",
    "    \n",
    "class ECEFTransformer(Transformer, HasInputCols, HasOutputCol, DefaultParamsReadable, DefaultParamsWritable):  \n",
    "    @keyword_only\n",
    "    def __init__(self, inputCols: str = \"input\", outputCol: str = \"output\"):\n",
    "        super(ECEFTransformer, self).__init__()\n",
    "        kwargs = self._input_kwargs\n",
    "        self.set_params(**kwargs)\n",
    "    \n",
    "    @keyword_only\n",
    "    def set_params(self, inputCols: str = \"input\", outputCol: str = \"output\"):\n",
    "        kwargs = self._input_kwargs\n",
    "        self._set(**kwargs)\n",
    "\n",
    "  \n",
    "    def _transform(self, df: DataFrame):\n",
    "        input_cols = self.getInputCols()\n",
    "        output_col = self.getOutputCol()\n",
    "        \n",
    "        a = 6378137.0;               # WGS-84 semi-major axis\n",
    "        e2 = 6.6943799901377997e-3;  # WGS-84 first eccentricity squared\n",
    "        \n",
    "        lat = df[input_cols[0]]\n",
    "        lon = df[input_cols[1]]\n",
    "        \n",
    "        n = a / F.sqrt(1 - e2 * F.sin(lat) * F.sin(lat));\n",
    "        x = n * F.cos(lat) * F.cos(lon);    # ECEF x\n",
    "        y = n * F.cos(lat) * F.sin(lon);    # ECEF y\n",
    "        z = (n * (1 - e2 ))* F.sin(lat);    # ECEF z\n",
    "        \n",
    "        # pack everything into a vector for VectorAssembler\n",
    "        atov = F.udf(lambda l: Vectors.dense(l), VectorUDT())\n",
    "        res = F.array(x, y, z)\n",
    "        res = atov(res)\n",
    "        \n",
    "        return df.withColumn(output_col, res)\n",
    "\n",
    "ecef_transformers = [ ECEFTransformer(inputCols=c, outputCol=\"{0}_transformed\".format(c)) for c in geoCols ]"
   ]
  },
  {
   "cell_type": "code",
   "execution_count": 27,
   "id": "640da931-3353-4d37-848f-8e3d04c761db",
   "metadata": {},
   "outputs": [
    {
     "data": {
      "text/html": [
       "<table border='1'>\n",
       "<tr><th>property_type</th><th>room_type</th><th>amenities</th><th>accommodates</th><th>bathrooms</th><th>bed_type</th><th>cancellation_policy</th><th>cleaning_fee</th><th>city</th><th>description</th><th>host_has_profile_pic</th><th>host_identity_verified</th><th>host_since</th><th>instant_bookable</th><th>latitude</th><th>longitude</th><th>name</th><th>neighbourhood</th><th>number_of_reviews</th><th>zipcode</th><th>beds</th><th>bedrooms</th><th>label</th><th>host_since_transformed</th><th>[&#x27;latitude&#x27;, &#x27;longitude&#x27;]_transformed</th><th>name_tokens</th><th>description_tokens</th><th>amenities_tokens</th><th>name_tokens_vectorized</th><th>description_tokens_vectorized</th><th>amenities_tokens_vectorized</th><th>property_type_indexed</th><th>room_type_indexed</th><th>bed_type_indexed</th><th>cancellation_policy_indexed</th><th>city_indexed</th><th>neighbourhood_indexed</th><th>zipcode_indexed</th><th>property_type_indexed_encoded</th><th>room_type_indexed_encoded</th><th>bed_type_indexed_encoded</th><th>cancellation_policy_indexed_encoded</th><th>city_indexed_encoded</th><th>neighbourhood_indexed_encoded</th><th>zipcode_indexed_encoded</th><th>features</th><th>components</th></tr>\n",
       "<tr><td>Loft</td><td>Entire home/apt</td><td>{Internet,&quot;Wirele...</td><td>16.0</td><td>2.0</td><td>Real Bed</td><td>strict</td><td>1.0</td><td>NYC</td><td>Welcome Home! Hea...</td><td>1.0</td><td>1.0</td><td>2014-03-01</td><td>0.0</td><td>40.70858224218985</td><td>-73.95301425964071</td><td>2 Penthouse Lofts...</td><td>Williamsburg</td><td>44.0</td><td>11211.0</td><td>10.0</td><td>7.0</td><td>6.507277712385013</td><td>[0.20129852008866...</td><td>[-791989.69041115...</td><td>[2, penthouse, lo...</td><td>[welcome, home!, ...</td><td>[internet, wirele...</td><td>[-0.0423881512833...</td><td>[0.11991416706521...</td><td>[0.04649122953414...</td><td>4.0</td><td>0.0</td><td>0.0</td><td>0.0</td><td>0.0</td><td>0.0</td><td>0.0</td><td>(31,[4],[1.0])</td><td>(2,[0],[1.0])</td><td>(4,[0],[1.0])</td><td>(4,[0],[1.0])</td><td>(5,[0],[1.0])</td><td>(617,[0],[1.0])</td><td>(709,[0],[1.0])</td><td>(1539,[4,31,33,37...</td><td>[3921718.14534187...</td></tr>\n",
       "<tr><td>Townhouse</td><td>Entire home/apt</td><td>{TV,&quot;Cable TV&quot;,In...</td><td>16.0</td><td>4.0</td><td>Real Bed</td><td>strict</td><td>1.0</td><td>NYC</td><td>Newly renovated a...</td><td>1.0</td><td>1.0</td><td>2014-06-10</td><td>1.0</td><td>40.714961445562466</td><td>-73.9459327654385</td><td>JUST LISTED 7bd/4...</td><td>Williamsburg</td><td>7.0</td><td>11211.0</td><td>9.0</td><td>7.0</td><td>6.796823718274855</td><td>[0.89780453957074...</td><td>[-748161.61146844...</td><td>[just, listed, 7b...</td><td>[newly, renovated...</td><td>[tv, cable tv, in...</td><td>[-1.8260947295597...</td><td>[0.03021800236009...</td><td>[0.07850961913836...</td><td>3.0</td><td>0.0</td><td>0.0</td><td>0.0</td><td>0.0</td><td>0.0</td><td>0.0</td><td>(31,[3],[1.0])</td><td>(2,[0],[1.0])</td><td>(4,[0],[1.0])</td><td>(4,[0],[1.0])</td><td>(5,[0],[1.0])</td><td>(617,[0],[1.0])</td><td>(709,[0],[1.0])</td><td>(1539,[3,31,33,37...</td><td>[3900146.47848771...</td></tr>\n",
       "<tr><td>House</td><td>Entire home/apt</td><td>{TV,Internet,&quot;Wir...</td><td>12.0</td><td>6.0</td><td>Real Bed</td><td>moderate</td><td>1.0</td><td>LA</td><td>Our house is clos...</td><td>1.0</td><td>1.0</td><td>2016-05-17</td><td>0.0</td><td>33.97361865838191</td><td>-118.41135788062414</td><td>Spacious with Vie...</td><td>Westchester/Playa...</td><td>9.0</td><td>90045</td><td>6.0</td><td>7.0</td><td>6.429719478039137</td><td>[-0.2993631229733...</td><td>[-3014926.0629762...</td><td>[spacious, with, ...</td><td>[our, house, is, ...</td><td>[tv, internet, wi...</td><td>[-0.0133022523950...</td><td>[0.06996398760184...</td><td>[-0.0779974117227...</td><td>1.0</td><td>0.0</td><td>0.0</td><td>2.0</td><td>1.0</td><td>80.0</td><td>183.0</td><td>(31,[1],[1.0])</td><td>(2,[0],[1.0])</td><td>(4,[0],[1.0])</td><td>(4,[2],[1.0])</td><td>(5,[1],[1.0])</td><td>(617,[80],[1.0])</td><td>(709,[183],[1.0])</td><td>(1539,[1,31,33,39...</td><td>[4825476.62661572...</td></tr>\n",
       "<tr><td>Villa</td><td>Entire home/apt</td><td>{TV,&quot;Cable TV&quot;,In...</td><td>10.0</td><td>8.0</td><td>Real Bed</td><td>strict</td><td>0.0</td><td>LA</td><td>Our beautiful Est...</td><td>1.0</td><td>1.0</td><td>2014-08-01</td><td>0.0</td><td>34.167797954394736</td><td>-118.50355353313894</td><td>SUMMER VACATION V...</td><td>Encino</td><td>1.0</td><td>91316</td><td>9.0</td><td>7.0</td><td>7.495541943884256</td><td>[0.20129852008866...</td><td>[-3774707.8528800...</td><td>[summer, vacation...</td><td>[our, beautiful, ...</td><td>[tv, cable tv, in...</td><td>[0.17738503217697...</td><td>[0.05599493139155...</td><td>[-0.1705998602238...</td><td>11.0</td><td>0.0</td><td>0.0</td><td>0.0</td><td>1.0</td><td>179.0</td><td>277.0</td><td>(31,[11],[1.0])</td><td>(2,[0],[1.0])</td><td>(4,[0],[1.0])</td><td>(4,[0],[1.0])</td><td>(5,[1],[1.0])</td><td>(617,[179],[1.0])</td><td>(709,[277],[1.0])</td><td>(1539,[11,31,33,3...</td><td>[3887210.89930795...</td></tr>\n",
       "<tr><td>Other</td><td>Entire home/apt</td><td>{TV,&quot;Cable TV&quot;,In...</td><td>16.0</td><td>4.0</td><td>Real Bed</td><td>moderate</td><td>1.0</td><td>LA</td><td>Great for busines...</td><td>1.0</td><td>1.0</td><td>2014-02-09</td><td>0.0</td><td>34.0056580274334</td><td>-118.43327536192491</td><td>West LA Compound ...</td><td>Mar Vista</td><td>5.0</td><td>90066</td><td>10.0</td><td>7.0</td><td>6.762729506931878</td><td>[0.96807711886620...</td><td>[-3174376.8049815...</td><td>[west, la, compou...</td><td>[great, for, busi...</td><td>[tv, cable tv, in...</td><td>[0.01113446812087...</td><td>[0.03177414992988...</td><td>[-0.0665556309887...</td><td>5.0</td><td>0.0</td><td>0.0</td><td>2.0</td><td>1.0</td><td>47.0</td><td>36.0</td><td>(31,[5],[1.0])</td><td>(2,[0],[1.0])</td><td>(4,[0],[1.0])</td><td>(4,[2],[1.0])</td><td>(5,[1],[1.0])</td><td>(617,[47],[1.0])</td><td>(709,[36],[1.0])</td><td>(1539,[5,31,33,39...</td><td>[4671115.91595961...</td></tr>\n",
       "<tr><td>Apartment</td><td>Entire home/apt</td><td>{TV,Internet,&quot;Wir...</td><td>12.0</td><td>5.0</td><td>Real Bed</td><td>strict</td><td>1.0</td><td>LA</td><td>Rent our entire b...</td><td>1.0</td><td>1.0</td><td>2014-04-14</td><td>0.0</td><td>33.99078924403168</td><td>-118.47600494529516</td><td>7BR/4.5BA---Large...</td><td>Venice</td><td>20.0</td><td>90291</td><td>10.0</td><td>7.0</td><td>6.826545223556594</td><td>[0.29936312297335...</td><td>[-3329019.0518974...</td><td>[7br/4.5ba---larg...</td><td>[rent, our, entir...</td><td>[tv, internet, wi...</td><td>[0.03382659827669...</td><td>[0.07593776972045...</td><td>[-0.0605223029851...</td><td>0.0</td><td>0.0</td><td>0.0</td><td>0.0</td><td>1.0</td><td>8.0</td><td>2.0</td><td>(31,[0],[1.0])</td><td>(2,[0],[1.0])</td><td>(4,[0],[1.0])</td><td>(4,[0],[1.0])</td><td>(5,[1],[1.0])</td><td>(617,[8],[1.0])</td><td>(709,[2],[1.0])</td><td>(1539,[0,31,33,37...</td><td>[4620673.86958238...</td></tr>\n",
       "<tr><td>House</td><td>Entire home/apt</td><td>{&quot;Cable TV&quot;,Inter...</td><td>16.0</td><td>5.0</td><td>Real Bed</td><td>strict</td><td>1.0</td><td>NYC</td><td>6 bedrooms total ...</td><td>1.0</td><td>1.0</td><td>2011-11-01</td><td>0.0</td><td>40.59192978891966</td><td>-74.06476426213608</td><td>Wedding guests ac...</td><td>South Beach</td><td>1.0</td><td>10305</td><td>15.0</td><td>7.0</td><td>6.437751649736401</td><td>[0.20129852008866...</td><td>[-1453725.5138234...</td><td>[wedding, guests,...</td><td>[6, bedrooms, tot...</td><td>[cable tv, intern...</td><td>[0.01901713025290...</td><td>[0.03585164933303...</td><td>[-0.1589858303112...</td><td>1.0</td><td>0.0</td><td>0.0</td><td>0.0</td><td>0.0</td><td>147.0</td><td>370.0</td><td>(31,[1],[1.0])</td><td>(2,[0],[1.0])</td><td>(4,[0],[1.0])</td><td>(4,[0],[1.0])</td><td>(5,[0],[1.0])</td><td>(617,[147],[1.0])</td><td>(709,[370],[1.0])</td><td>(1539,[1,31,33,37...</td><td>[4292922.80498946...</td></tr>\n",
       "<tr><td>House</td><td>Entire home/apt</td><td>{TV,&quot;Cable TV&quot;,In...</td><td>16.0</td><td>4.0</td><td>Real Bed</td><td>strict</td><td>1.0</td><td>NYC</td><td>Huge 7 bedrooms ,...</td><td>1.0</td><td>0.0</td><td>2014-08-20</td><td>0.0</td><td>40.68542277116447</td><td>-73.95183895659102</td><td>New York I Love Y...</td><td>Bedford-Stuyvesant</td><td>87.0</td><td>11216</td><td>11.0</td><td>7.0</td><td>6.956545443151567</td><td>[-0.7907757369376...</td><td>[-782008.41925998...</td><td>[new, york, i, lo...</td><td>[huge, 7, bedroom...</td><td>[tv, cable tv, in...</td><td>[-4.7254695424011...</td><td>[-0.1364727475559...</td><td>[-1.8537812866270...</td><td>1.0</td><td>0.0</td><td>0.0</td><td>0.0</td><td>0.0</td><td>1.0</td><td>19.0</td><td>(31,[1],[1.0])</td><td>(2,[0],[1.0])</td><td>(4,[0],[1.0])</td><td>(4,[0],[1.0])</td><td>(5,[0],[1.0])</td><td>(617,[1],[1.0])</td><td>(709,[19],[1.0])</td><td>(1539,[1,31,33,37...</td><td>[4033758.86158228...</td></tr>\n",
       "<tr><td>House</td><td>Entire home/apt</td><td>{TV,&quot;Cable TV&quot;,In...</td><td>16.0</td><td>2.0</td><td>Real Bed</td><td>strict</td><td>1.0</td><td>LA</td><td>Luxurious 4 bedro...</td><td>1.0</td><td>0.0</td><td>2015-06-01</td><td>0.0</td><td>34.09580113492421</td><td>-118.34837686256701</td><td>W Hollywood Dream</td><td>Hollywood</td><td>99.0</td><td>90046</td><td>10.0</td><td>7.0</td><td>5.857933154483459</td><td>[0.20129852008866...</td><td>[-2931201.2307163...</td><td>[w, hollywood, dr...</td><td>[luxurious, 4, be...</td><td>[tv, cable tv, in...</td><td>[0.13825953503449...</td><td>[0.07409816060979...</td><td>[-0.1152639814342...</td><td>1.0</td><td>0.0</td><td>0.0</td><td>0.0</td><td>1.0</td><td>6.0</td><td>6.0</td><td>(31,[1],[1.0])</td><td>(2,[0],[1.0])</td><td>(4,[0],[1.0])</td><td>(4,[0],[1.0])</td><td>(5,[1],[1.0])</td><td>(617,[6],[1.0])</td><td>(709,[6],[1.0])</td><td>(1539,[1,31,33,37...</td><td>[4549773.02132050...</td></tr>\n",
       "<tr><td>Condominium</td><td>Entire home/apt</td><td>{TV,Internet,&quot;Wir...</td><td>16.0</td><td>4.0</td><td>Real Bed</td><td>strict</td><td>1.0</td><td>Boston</td><td>Beautifully redes...</td><td>1.0</td><td>0.0</td><td>2017-09-07</td><td>0.0</td><td>42.32916951239184</td><td>-71.09288095270476</td><td>Spacious 3-Floor ...</td><td>Roxbury</td><td>0.0</td><td>02119</td><td>13.0</td><td>7.0</td><td>5.703782474656202</td><td>[0.98846832432811...</td><td>[208353.497414018...</td><td>[spacious, 3-floo...</td><td>[beautifully, red...</td><td>[tv, internet, wi...</td><td>[0.03610078289057...</td><td>[0.12238188929820...</td><td>[0.39891987561713...</td><td>2.0</td><td>0.0</td><td>0.0</td><td>0.0</td><td>4.0</td><td>94.0</td><td>158.0</td><td>(31,[2],[1.0])</td><td>(2,[0],[1.0])</td><td>(4,[0],[1.0])</td><td>(4,[0],[1.0])</td><td>(5,[4],[1.0])</td><td>(617,[94],[1.0])</td><td>(709,[158],[1.0])</td><td>(1539,[2,31,33,37...</td><td>[-5514980.9567123...</td></tr>\n",
       "<tr><td>House</td><td>Entire home/apt</td><td>{TV,&quot;Cable TV&quot;,In...</td><td>16.0</td><td>5.0</td><td>Real Bed</td><td>strict</td><td>0.0</td><td>LA</td><td>Great for familie...</td><td>1.0</td><td>1.0</td><td>2014-07-08</td><td>1.0</td><td>33.92211048783143</td><td>-118.29285199681786</td><td>7 Bedrms;5 baths;...</td><td>West Athens</td><td>59.0</td><td>90044</td><td>15.0</td><td>7.0</td><td>6.052089168924417</td><td>[0.99871650717105...</td><td>[-2387501.2270733...</td><td>[7, bedrms;5, bat...</td><td>[great, for, fami...</td><td>[tv, cable tv, in...</td><td>[0.01029132531645...</td><td>[0.04135319616697...</td><td>[0.05784954636224...</td><td>1.0</td><td>0.0</td><td>0.0</td><td>0.0</td><td>1.0</td><td>569.0</td><td>490.0</td><td>(31,[1],[1.0])</td><td>(2,[0],[1.0])</td><td>(4,[0],[1.0])</td><td>(4,[0],[1.0])</td><td>(5,[1],[1.0])</td><td>(617,[569],[1.0])</td><td>(709,[490],[1.0])</td><td>(1539,[1,31,33,37...</td><td>[5223757.75703434...</td></tr>\n",
       "<tr><td>Villa</td><td>Entire home/apt</td><td>{TV,&quot;Cable TV&quot;,In...</td><td>16.0</td><td>7.5</td><td>Real Bed</td><td>strict</td><td>1.0</td><td>LA</td><td>Villa Tramonto is...</td><td>1.0</td><td>1.0</td><td>2013-04-18</td><td>1.0</td><td>34.042871492689514</td><td>-118.55683842381409</td><td>Ocean View Villa,...</td><td>Pacific Palisades</td><td>15.0</td><td>90272</td><td>16.0</td><td>7.0</td><td>7.598399329323964</td><td>[-0.4853019625310...</td><td>[-3775749.5207482...</td><td>[ocean, view, vil...</td><td>[villa, tramonto,...</td><td>[tv, cable tv, in...</td><td>[0.07525583549868...</td><td>[0.14853728907059...</td><td>[-0.1197770484364...</td><td>11.0</td><td>0.0</td><td>0.0</td><td>0.0</td><td>1.0</td><td>125.0</td><td>179.0</td><td>(31,[11],[1.0])</td><td>(2,[0],[1.0])</td><td>(4,[0],[1.0])</td><td>(4,[0],[1.0])</td><td>(5,[1],[1.0])</td><td>(617,[125],[1.0])</td><td>(709,[179],[1.0])</td><td>(1539,[11,31,33,3...</td><td>[4236446.01988682...</td></tr>\n",
       "<tr><td>House</td><td>Entire home/apt</td><td>{TV,&quot;Cable TV&quot;,In...</td><td>14.0</td><td>3.0</td><td>Real Bed</td><td>strict</td><td>1.0</td><td>NYC</td><td>The house is in t...</td><td>1.0</td><td>1.0</td><td>2015-07-09</td><td>1.0</td><td>40.63129472363578</td><td>-73.9661059625837</td><td>Big House near ex...</td><td>Flatbush</td><td>4.0</td><td>11230</td><td>7.0</td><td>7.0</td><td>5.8944028342648505</td><td>[0.96807711886620...</td><td>[-862542.16861091...</td><td>[big, house, near...</td><td>[the, house, is, ...</td><td>[tv, cable tv, in...</td><td>[0.04302202910184...</td><td>[0.04438188512252...</td><td>[-0.0501334665343...</td><td>1.0</td><td>0.0</td><td>0.0</td><td>0.0</td><td>0.0</td><td>28.0</td><td>178.0</td><td>(31,[1],[1.0])</td><td>(2,[0],[1.0])</td><td>(4,[0],[1.0])</td><td>(4,[0],[1.0])</td><td>(5,[0],[1.0])</td><td>(617,[28],[1.0])</td><td>(709,[178],[1.0])</td><td>(1539,[1,31,33,37...</td><td>[4264774.60078536...</td></tr>\n",
       "<tr><td>House</td><td>Entire home/apt</td><td>{TV,Internet,&quot;Wir...</td><td>16.0</td><td>3.5</td><td>Real Bed</td><td>strict</td><td>1.0</td><td>DC</td><td>This charming bro...</td><td>1.0</td><td>1.0</td><td>2012-09-24</td><td>0.0</td><td>38.92219400636585</td><td>-77.03517355369588</td><td>Vintage 7BR/3.5BA...</td><td>Columbia Heights</td><td>4.0</td><td>20009</td><td>7.0</td><td>7.0</td><td>6.61338421837956</td><td>[-0.9884683243281...</td><td>[-144096.77271444...</td><td>[vintage, 7br/3.5...</td><td>[this, charming, ...</td><td>[tv, internet, wi...</td><td>[-0.0230614078075...</td><td>[0.00839050083665...</td><td>[-0.0764526281019...</td><td>1.0</td><td>0.0</td><td>0.0</td><td>0.0</td><td>3.0</td><td>49.0</td><td>5.0</td><td>(31,[1],[1.0])</td><td>(2,[0],[1.0])</td><td>(4,[0],[1.0])</td><td>(4,[0],[1.0])</td><td>(5,[3],[1.0])</td><td>(617,[49],[1.0])</td><td>(709,[5],[1.0])</td><td>(1539,[1,31,33,37...</td><td>[6122908.49324389...</td></tr>\n",
       "<tr><td>House</td><td>Entire home/apt</td><td>{TV,&quot;Cable TV&quot;,In...</td><td>16.0</td><td>6.0</td><td>Real Bed</td><td>strict</td><td>1.0</td><td>LA</td><td>Our 7 bedroom Fam...</td><td>1.0</td><td>1.0</td><td>2012-08-05</td><td>0.0</td><td>34.03896480642458</td><td>-118.48704111077429</td><td>Santa Monica Beac...</td><td>Santa Monica</td><td>1.0</td><td>90402</td><td>7.0</td><td>7.0</td><td>7.549609165154532</td><td>[0.84864425749475...</td><td>[-3474577.1109982...</td><td>[santa, monica, b...</td><td>[our, 7, bedroom,...</td><td>[tv, cable tv, in...</td><td>[0.01786537672160...</td><td>[-0.0355517049109...</td><td>[-0.1056023302621...</td><td>1.0</td><td>0.0</td><td>0.0</td><td>0.0</td><td>1.0</td><td>26.0</td><td>264.0</td><td>(31,[1],[1.0])</td><td>(2,[0],[1.0])</td><td>(4,[0],[1.0])</td><td>(4,[0],[1.0])</td><td>(5,[1],[1.0])</td><td>(617,[26],[1.0])</td><td>(709,[264],[1.0])</td><td>(1539,[1,31,33,37...</td><td>[4427074.32986932...</td></tr>\n",
       "<tr><td>House</td><td>Entire home/apt</td><td>{TV,&quot;Cable TV&quot;,In...</td><td>12.0</td><td>7.0</td><td>Real Bed</td><td>strict</td><td>1.0</td><td>LA</td><td>Beautiful Spanish...</td><td>1.0</td><td>0.0</td><td>2014-09-05</td><td>0.0</td><td>34.082991488165405</td><td>-118.39417865973569</td><td>Glatt Kosher Span...</td><td>Beverly Hills</td><td>0.0</td><td>90210</td><td>7.0</td><td>7.0</td><td>7.377758908227872</td><td>[0.84864425749475...</td><td>[-3132459.7370327...</td><td>[glatt, kosher, s...</td><td>[beautiful, spani...</td><td>[tv, cable tv, in...</td><td>[0.20621147884854...</td><td>[0.08171018045395...</td><td>[-0.1611629983782...</td><td>1.0</td><td>0.0</td><td>0.0</td><td>0.0</td><td>1.0</td><td>81.0</td><td>172.0</td><td>(31,[1],[1.0])</td><td>(2,[0],[1.0])</td><td>(4,[0],[1.0])</td><td>(4,[0],[1.0])</td><td>(5,[1],[1.0])</td><td>(617,[81],[1.0])</td><td>(709,[172],[1.0])</td><td>(1539,[1,31,33,37...</td><td>[4491263.55074631...</td></tr>\n",
       "<tr><td>House</td><td>Entire home/apt</td><td>{TV,&quot;Wireless Int...</td><td>16.0</td><td>6.5</td><td>Real Bed</td><td>strict</td><td>1.0</td><td>DC</td><td>**There is a 4-da...</td><td>1.0</td><td>0.0</td><td>2014-11-06</td><td>1.0</td><td>38.93571057998407</td><td>-76.96400763609522</td><td>New Whole House 7...</td><td>Mt Rainier/Brentw...</td><td>1.0</td><td>20781</td><td>12.0</td><td>7.0</td><td>6.620073206530356</td><td>[0.93775213214708...</td><td>[10517.8179068644...</td><td>[new, whole, hous...</td><td>[**there, is, a, ...</td><td>[tv, wireless int...</td><td>[0.00641265681479...</td><td>[0.09041706611166...</td><td>[-0.0790550506984...</td><td>1.0</td><td>0.0</td><td>0.0</td><td>0.0</td><td>3.0</td><td>529.0</td><td>684.0</td><td>(31,[1],[1.0])</td><td>(2,[0],[1.0])</td><td>(4,[0],[1.0])</td><td>(4,[0],[1.0])</td><td>(5,[3],[1.0])</td><td>(617,[529],[1.0])</td><td>(709,[684],[1.0])</td><td>(1539,[1,31,33,37...</td><td>[6128229.92156839...</td></tr>\n",
       "<tr><td>House</td><td>Entire home/apt</td><td>{TV,&quot;Cable TV&quot;,In...</td><td>14.0</td><td>4.0</td><td>Real Bed</td><td>strict</td><td>1.0</td><td>DC</td><td>Location! Locatio...</td><td>1.0</td><td>1.0</td><td>2014-02-14</td><td>0.0</td><td>38.92846458068177</td><td>-77.03092327239551</td><td>Victorian Mansion...</td><td>Columbia Heights</td><td>42.0</td><td>20010</td><td>9.0</td><td>7.0</td><td>6.4692503167957724</td><td>[0.29936312297335...</td><td>[-132517.06105357...</td><td>[victorian, mansi...</td><td>[location!, locat...</td><td>[tv, cable tv, in...</td><td>[0.11191242591788...</td><td>[0.08012044323324...</td><td>[-0.0619566055095...</td><td>1.0</td><td>0.0</td><td>0.0</td><td>0.0</td><td>3.0</td><td>49.0</td><td>55.0</td><td>(31,[1],[1.0])</td><td>(2,[0],[1.0])</td><td>(4,[0],[1.0])</td><td>(4,[0],[1.0])</td><td>(5,[3],[1.0])</td><td>(617,[49],[1.0])</td><td>(709,[55],[1.0])</td><td>(1539,[1,31,33,37...</td><td>[6116138.13080933...</td></tr>\n",
       "<tr><td>Villa</td><td>Entire home/apt</td><td>{TV,&quot;Cable TV&quot;,In...</td><td>16.0</td><td>5.5</td><td>Real Bed</td><td>strict</td><td>1.0</td><td>LA</td><td>Let Casa Las Bris...</td><td>0.0</td><td>0.0</td><td>2014-03-06</td><td>0.0</td><td>34.03023050652101</td><td>-118.83057963267315</td><td>Casa Las Brisas :...</td><td>Malibu</td><td>7.0</td><td>90265</td><td>8.0</td><td>7.0</td><td>7.492760300922379</td><td>[0.93775213214708...</td><td>[-4703121.9331261...</td><td>[casa, las, brisa...</td><td>[let, casa, las, ...</td><td>[tv, cable tv, in...</td><td>[0.07437229459173...</td><td>[0.17296006101019...</td><td>[-0.1172623599276...</td><td>11.0</td><td>0.0</td><td>0.0</td><td>0.0</td><td>1.0</td><td>93.0</td><td>113.0</td><td>(31,[11],[1.0])</td><td>(2,[0],[1.0])</td><td>(4,[0],[1.0])</td><td>(4,[0],[1.0])</td><td>(5,[1],[1.0])</td><td>(617,[93],[1.0])</td><td>(709,[113],[1.0])</td><td>(1539,[11,31,33,3...</td><td>[3527564.04431259...</td></tr>\n",
       "<tr><td>House</td><td>Entire home/apt</td><td>{TV,&quot;Cable TV&quot;,In...</td><td>16.0</td><td>4.5</td><td>Real Bed</td><td>moderate</td><td>1.0</td><td>DC</td><td>A recently renova...</td><td>1.0</td><td>1.0</td><td>2015-08-16</td><td>0.0</td><td>38.92590802039826</td><td>-77.03026977161507</td><td>The Montague-16</td><td>Columbia Heights</td><td>4.0</td><td>20009</td><td>8.0</td><td>7.0</td><td>6.543911845564795</td><td>[-0.1011683219874...</td><td>[-132062.02223118...</td><td>[the, montague-16]</td><td>[a, recently, ren...</td><td>[tv, cable tv, in...</td><td>[-0.0588233105372...</td><td>[0.13158691384726...</td><td>[-0.0657518791655...</td><td>1.0</td><td>0.0</td><td>0.0</td><td>2.0</td><td>3.0</td><td>49.0</td><td>5.0</td><td>(31,[1],[1.0])</td><td>(2,[0],[1.0])</td><td>(4,[0],[1.0])</td><td>(4,[2],[1.0])</td><td>(5,[3],[1.0])</td><td>(617,[49],[1.0])</td><td>(709,[5],[1.0])</td><td>(1539,[1,31,33,39...</td><td>[6119839.42946100...</td></tr>\n",
       "</table>\n",
       "only showing top 20 rows\n"
      ],
      "text/plain": [
       "+-------------+---------------+--------------------+------------+---------+--------+-------------------+------------+-------+----------------------------------+--------------------+----------------------+----------+----------------+------------------+-------------------+-------------------------+------------------+-----------------+-------+----+--------+------------------+----------------------+-------------------------------------+-------------------------+---------------------------------+--------------------+----------------------+-----------------------------+---------------------------+---------------------+-----------------+----------------+---------------------------+------------+---------------------+---------------+-----------------------------+-------------------------+------------------------+-----------------------------------+--------------------+-----------------------------+-----------------------+--------------------+--------------------+\n",
       "|property_type|      room_type|           amenities|accommodates|bathrooms|bed_type|cancellation_policy|cleaning_fee|   city|                       description|host_has_profile_pic|host_identity_verified|host_since|instant_bookable|          latitude|          longitude|                     name|     neighbourhood|number_of_reviews|zipcode|beds|bedrooms|             label|host_since_transformed|['latitude', 'longitude']_transformed|              name_tokens|               description_tokens|    amenities_tokens|name_tokens_vectorized|description_tokens_vectorized|amenities_tokens_vectorized|property_type_indexed|room_type_indexed|bed_type_indexed|cancellation_policy_indexed|city_indexed|neighbourhood_indexed|zipcode_indexed|property_type_indexed_encoded|room_type_indexed_encoded|bed_type_indexed_encoded|cancellation_policy_indexed_encoded|city_indexed_encoded|neighbourhood_indexed_encoded|zipcode_indexed_encoded|            features|          components|\n",
       "+-------------+---------------+--------------------+------------+---------+--------+-------------------+------------+-------+----------------------------------+--------------------+----------------------+----------+----------------+------------------+-------------------+-------------------------+------------------+-----------------+-------+----+--------+------------------+----------------------+-------------------------------------+-------------------------+---------------------------------+--------------------+----------------------+-----------------------------+---------------------------+---------------------+-----------------+----------------+---------------------------+------------+---------------------+---------------+-----------------------------+-------------------------+------------------------+-----------------------------------+--------------------+-----------------------------+-----------------------+--------------------+--------------------+\n",
       "|        House|Entire home/apt|{\"Cable TV\",\"Wire...|        16.0|      4.0|Real Bed|             strict|         1.0|    NYC|              Do you have a gro...|                 1.0|                   1.0|2015-01-29|             1.0|40.692833567354754| -73.95604348899239|     NYC Private Group...|Bedford-Stuyvesant|              4.0|  11205|13.0|    10.0|7.2078598714324755|  [-0.3943558551133...|                 [-809202.67992411...|     [nyc, private, gr...|             [do, you, have, a...|[cable tv, wirele...|  [-0.0211078430293...|         [0.01635358346565...|       [-0.0206809763151...|                  1.0|              0.0|             0.0|                        0.0|         0.0|                  1.0|           47.0|               (31,[1],[1.0])|            (2,[0],[1.0])|           (4,[0],[1.0])|                      (4,[0],[1.0])|       (5,[0],[1.0])|              (617,[1],[1.0])|       (709,[47],[1.0])|(1539,[1,31,33,37...|[3993104.14175795...|\n",
       "|        House|Entire home/apt|{TV,\"Wireless Int...|        16.0|      4.0|Real Bed|           flexible|         0.0|    NYC|              Open concepts wit...|                 1.0|                   0.0|2016-08-29|             1.0|40.674952373657796| -73.81914031330653|     Vacation Homes By...|  South Ozone Park|              0.0|  11420|16.0|    10.0| 6.257667587882639|  [-0.3943558551133...|                 [52135.6545141180...|     [vacation, homes,...|             [open, concepts, ...|[tv, wireless int...|  [0.07072902061045...|         [0.04643069795981...|       [-0.0155937824220...|                  1.0|              0.0|             0.0|                        1.0|         0.0|                351.0|          466.0|               (31,[1],[1.0])|            (2,[0],[1.0])|           (4,[0],[1.0])|                      (4,[1],[1.0])|       (5,[0],[1.0])|            (617,[351],[1.0])|      (709,[466],[1.0])|(1539,[1,31,33,38...|[4227334.44689752...|\n",
       "|        House|Entire home/apt|{Internet,\"Wirele...|        16.0|      7.0|Real Bed|           flexible|         0.0|     LA|              Hello! We're LA C...|                 1.0|                   0.0|2016-04-21|             0.0|34.048689864504496| -118.3195794188632|     12 Bedroom House ...|      Mid-Wilshire|              0.0|  90019|16.0|    10.0| 7.170119543449628|  [-0.8978045395707...|                 [-2720665.1141470...|     [12, bedroom, hou...|             [hello!, we're, l...|[internet, wirele...|  [0.13049947443817...|         [0.01033536492226...|       [-0.1724107642658...|                  1.0|              0.0|             0.0|                        1.0|         1.0|                  3.0|           61.0|               (31,[1],[1.0])|            (2,[0],[1.0])|           (4,[0],[1.0])|                      (4,[1],[1.0])|       (5,[1],[1.0])|              (617,[3],[1.0])|       (709,[61],[1.0])|(1539,[1,31,33,38...|[4779594.56853849...|\n",
       "|        House|Entire home/apt|{TV,\"Cable TV\",\"W...|        16.0|      8.0|Real Bed|           flexible|         1.0|    NYC|              This stylishly re...|                 1.0|                   0.0|2017-06-28|             0.0|40.756318657985894| -73.80829756519694|     New Metropolitan ...|          Flushing|              0.0|  11355|16.0|    10.0| 7.495541943884256|  [-0.5712682150947...|                 [121573.758005431...|     [new, metropolita...|             [this, stylishly,...|[tv, cable tv, wi...|  [-0.0116004037360...|         [0.02615924594873...|       [-0.0649106519466...|                  1.0|              0.0|             0.0|                        1.0|         0.0|                 84.0|          169.0|               (31,[1],[1.0])|            (2,[0],[1.0])|           (4,[0],[1.0])|                      (4,[1],[1.0])|       (5,[0],[1.0])|             (617,[84],[1.0])|      (709,[169],[1.0])|(1539,[1,31,33,38...|[3844088.18296928...|\n",
       "|    Townhouse|Entire home/apt|{TV,\"Cable TV\",\"W...|         2.0|      1.0|Real Bed|           moderate|         1.0| Boston|              A Large, Loft Sty...|                 1.0|                   0.0|2017-03-25|             1.0| 42.32542888539794| -71.09646637457611|     Loft Style 1 mile...|           Roxbury|              4.0|  02119| 1.0|    10.0|4.8283137373023015|  [-0.9377521321470...|                 [219606.346932681...|     [loft, style, 1, ...|             [a, large,, loft,...|[tv, cable tv, wi...|  [0.12493836053181...|         [-0.0322783963765...|       [-0.0018375748052...|                  3.0|              0.0|             0.0|                        2.0|         4.0|                 94.0|          158.0|               (31,[3],[1.0])|            (2,[0],[1.0])|           (4,[0],[1.0])|                      (4,[2],[1.0])|       (5,[4],[1.0])|             (617,[94],[1.0])|      (709,[158],[1.0])|(1539,[3,31,33,39...|[-5522935.8122817...|\n",
       "|        House|Entire home/apt|{TV,\"Cable TV\",In...|        16.0|      6.0|Real Bed|             strict|         1.0|    NYC|              Newly renovated a...|                 1.0|                   1.0|2014-06-10|             1.0|40.713843971209094| -73.94762082415639|     INCREDIBLE TOWNHO...|      Williamsburg|              7.0|11211.0|13.0|    10.0| 6.212606095751518|  [0.89780453957074...|                 [-758660.89882666...|     [incredible, town...|             [newly, renovated...|[tv, cable tv, in...|  [-0.0024521352606...|         [0.02224202383013...|       [0.07151833251118...|                  1.0|              0.0|             0.0|                        0.0|         0.0|                  0.0|            0.0|               (31,[1],[1.0])|            (2,[0],[1.0])|           (4,[0],[1.0])|                      (4,[0],[1.0])|       (5,[0],[1.0])|              (617,[0],[1.0])|        (709,[0],[1.0])|(1539,[1,31,33,37...|[3903366.72860088...|\n",
       "|        House|Entire home/apt|{TV,\"Cable TV\",In...|        16.0|      5.0|Real Bed|             strict|         1.0|Chicago|              SLEEP 30 in a FOU...|                 1.0|                   1.0|2014-01-08|             0.0| 41.94721186288103| -87.65557371145624|     Sleep 30, HALF-BL...|      Wrigleyville|             13.0|  60613|16.0|    10.0| 5.700443573390688|  [0.99871650717105...|                 [-2728072.3886244...|     [sleep, 30,, half...|             [sleep, 30, in, a...|[tv, cable tv, in...|  [0.17103953901678...|         [0.10693690542959...|       [0.03047481021628...|                  1.0|              0.0|             0.0|                        0.0|         5.0|                255.0|          141.0|               (31,[1],[1.0])|            (2,[0],[1.0])|           (4,[0],[1.0])|                      (4,[0],[1.0])|           (5,[],[])|            (617,[255],[1.0])|      (709,[141],[1.0])|(1539,[1,31,33,37...|[-4665699.5319282...|\n",
       "|        House|Entire home/apt|{TV,\"Cable TV\",In...|        16.0|      7.0|Real Bed|             strict|         0.0|     LA|              10 bedrooms,7 bat...|                 1.0|                   1.0|2014-07-08|             1.0|33.975375993938826|-118.29599531496773|     10 Bedrms;26 beds...|          South LA|             16.0|  90044|16.0|    10.0|  6.38856140554563|  [0.99871650717105...|                 [-2492268.1847826...|     [10, bedrms;26, b...|             [10, bedrooms,7, ...|[tv, cable tv, in...|  [0.01031119604077...|         [-0.0106774091801...|       [-0.0182760822085...|                  1.0|              0.0|             0.0|                        0.0|         1.0|                 65.0|          490.0|               (31,[1],[1.0])|            (2,[0],[1.0])|           (4,[0],[1.0])|                      (4,[0],[1.0])|       (5,[1],[1.0])|             (617,[65],[1.0])|      (709,[490],[1.0])|(1539,[1,31,33,37...|[5064115.43381319...|\n",
       "|        House|Entire home/apt|{TV,\"Wireless Int...|         7.0|      2.0|Real Bed|             strict|         1.0|     LA|这间四房的PUD位于和亚凯迪亚的交...|                 1.0|                   1.0|2017-02-01|             1.0|34.130149873646424|-118.01142964459407|洛杉矶之家 Home by Arc...|           Arcadia|              0.0|  91016| 4.0|     4.0| 5.594711379601837|  [0.20129852008866...|                 [-1163540.3878157...|[洛杉矶之家, home, by,...|[这间四房的pud位于和亚凯迪亚的...|[tv, wireless int...|  [0.21376614901237...|         [-0.0025906750258...|       [-0.0203958873947...|                  1.0|              0.0|             0.0|                        0.0|         1.0|                188.0|          310.0|               (31,[1],[1.0])|            (2,[0],[1.0])|           (4,[0],[1.0])|                      (4,[0],[1.0])|       (5,[1],[1.0])|            (617,[188],[1.0])|      (709,[310],[1.0])|(1539,[1,31,33,37...|[5054891.36143631...|\n",
       "|        House|Entire home/apt|{TV,\"Cable TV\",\"W...|         6.0|      3.5|Real Bed|             strict|         1.0|     DC|              We live in a newl...|                 1.0|                   1.0|2015-10-23|             0.0|38.971519809471495|  -77.0109846035962|     New Built Home in...|            Takoma|              5.0|  20012| 4.0|     4.0|5.1929568508902095|  [-0.9987165071710...|                 [-78904.087417379...|     [new, built, home...|             [we, live, in, a,...|[tv, cable tv, wi...|  [0.01855855188720...|         [0.04307390418317...|       [-0.0987627537300...|                  1.0|              0.0|             0.0|                        0.0|         3.0|                297.0|          242.0|               (31,[1],[1.0])|            (2,[0],[1.0])|           (4,[0],[1.0])|                      (4,[0],[1.0])|       (5,[3],[1.0])|            (617,[297],[1.0])|      (709,[242],[1.0])|(1539,[1,31,33,37...|[6058298.35635307...|\n",
       "|    Apartment|Entire home/apt|{TV,\"Cable TV\",In...|        12.0|      1.0|Real Bed|             strict|         1.0|Chicago|              I renovated this ...|                 1.0|                   1.0|2016-01-31|             0.0|   41.886205398796| -87.70363964577317|     Urban Oasis @ Ful...|     Garfield Park|             50.0|  60612| 4.0|     4.0| 5.075173815233828|  [-2.4492935982947...|                 [-3097921.1920422...|     [urban, oasis, @,...|             [i, renovated, th...|[tv, cable tv, in...|  [0.13357622101902...|         [-0.0272305267367...|       [0.04716237092559...|                  0.0|              0.0|             0.0|                        0.0|         5.0|                288.0|          217.0|               (31,[0],[1.0])|            (2,[0],[1.0])|           (4,[0],[1.0])|                      (4,[0],[1.0])|           (5,[],[])|            (617,[288],[1.0])|      (709,[217],[1.0])|(1539,[0,31,33,37...|[-4587221.1371257...|\n",
       "|        House|Entire home/apt|{TV,\"Cable TV\",In...|        10.0|      2.5|Real Bed|             strict|         1.0|     DC|              SPECTACULAR VICTO...|                 1.0|                   1.0|2012-11-29|             1.0|38.906976137949826| -77.02699276815332|     SPECTACULAR HOME ...|      Logan Circle|             81.0|  20005| 5.0|     4.0| 6.214608098422191|  [-0.3943558551133...|                 [-131582.32971848...|     [spectacular, hom...|             [spectacular, vic...|[tv, cable tv, in...|  [0.08244657050818...|         [0.06781236888810...|       [0.03232288343662...|                  1.0|              0.0|             0.0|                        0.0|         3.0|                 70.0|          115.0|               (31,[1],[1.0])|            (2,[0],[1.0])|           (4,[0],[1.0])|                      (4,[0],[1.0])|       (5,[3],[1.0])|             (617,[70],[1.0])|      (709,[115],[1.0])|(1539,[1,31,33,37...|[6145475.61033207...|\n",
       "|        House|Entire home/apt|{TV,\"Cable TV\",In...|         8.0|      4.5|Real Bed|             strict|         1.0|     LA|              Located centrally...|                 1.0|                   1.0|2014-09-08|             0.0|34.113917348336905| -118.3864051817073|     Hollywood Hills C...|     Laurel Canyon|              6.0|  90046| 4.0|     4.0| 7.170119543449628|  [0.99871650717105...|                 [-3142986.7157902...|     [hollywood, hills...|             [located, central...|[tv, cable tv, in...|  [0.25197592377662...|         [0.09938113406153...|       [-0.1004939055442...|                  1.0|              0.0|             0.0|                        0.0|         1.0|                119.0|            6.0|               (31,[1],[1.0])|            (2,[0],[1.0])|           (4,[0],[1.0])|                      (4,[0],[1.0])|       (5,[1],[1.0])|            (617,[119],[1.0])|        (709,[6],[1.0])|(1539,[1,31,33,37...|[4394560.87581404...|\n",
       "|    Townhouse|Entire home/apt|{TV,Internet,\"Wir...|         8.0|      3.0|Real Bed|             strict|         1.0|    NYC|              My quaint & histo...|                 1.0|                   0.0|2016-07-12|             0.0|40.692738449610665| -73.96507684327614|     Spacious & Chic 4...|      Clinton Hill|              7.0|11205.0| 5.0|     4.0| 6.003887067106539|  [0.65137248272222...|                 [-865677.32627854...|     [spacious, &, chi...|             [my, quaint, &, h...|[tv, internet, wi...|  [0.01132970745675...|         [0.07141187832559...|       [-0.0663652891293...|                  3.0|              0.0|             0.0|                        0.0|         0.0|                 22.0|          133.0|               (31,[3],[1.0])|            (2,[0],[1.0])|           (4,[0],[1.0])|                      (4,[0],[1.0])|       (5,[0],[1.0])|             (617,[22],[1.0])|      (709,[133],[1.0])|(1539,[3,31,33,37...|[3981489.95427136...|\n",
       "|    Apartment|Entire home/apt|{TV,\"Wireless Int...|         8.0|      2.0|Real Bed|             strict|         1.0|    NYC|              Our luxury loft o...|                 1.0|                   1.0|2009-12-26|             0.0| 40.80164249642196| -73.93922139409575|     SpaHa Loft: Enorm...|       East Harlem|            138.0|10035.0| 6.0|     4.0| 5.416100402204419|  [-0.8486442574947...|                 [-711014.19115278...|     [spaha, loft:, en...|             [our, luxury, lof...|[tv, wireless int...|  [-0.0132262075552...|         [0.07829815387275...|       [8.15394101664423...|                  0.0|              0.0|             0.0|                        0.0|         0.0|                 14.0|           95.0|               (31,[0],[1.0])|            (2,[0],[1.0])|           (4,[0],[1.0])|                      (4,[0],[1.0])|       (5,[0],[1.0])|             (617,[14],[1.0])|       (709,[95],[1.0])|(1539,[0,31,33,37...|[3475238.67636872...|\n",
       "|        House|Entire home/apt|{TV,\"Cable TV\",In...|         8.0|      2.0|Real Bed|             strict|         1.0|     LA|              Charming Spanish ...|                 1.0|                   1.0|2008-10-16|             0.0|34.132253038035465|-118.38372996051108|     Laurel Canyon - T...|       Studio City|              0.0|  91604| 5.0|     4.0| 5.814130531825067|  [-0.1011683219874...|                 [-3156644.4901240...|     [laurel, canyon, ...|             [charming, spanis...|[tv, cable tv, in...|  [0.06564010673901...|         [0.12571350598416...|       [-0.1589250607149...|                  1.0|              0.0|             0.0|                        0.0|         1.0|                 91.0|          127.0|               (31,[1],[1.0])|            (2,[0],[1.0])|           (4,[0],[1.0])|                      (4,[0],[1.0])|       (5,[1],[1.0])|             (617,[91],[1.0])|      (709,[127],[1.0])|(1539,[1,31,33,37...|[4330861.16366480...|\n",
       "|        House|Entire home/apt|{TV,\"Wireless Int...|         7.0|      1.5|Real Bed|           moderate|         1.0|     LA|              My place is close...|                 1.0|                   1.0|2016-04-21|             0.0|34.111469945695035|-118.11555480580259|     Cute House 10 min...|       San Gabriel|              4.0|  91775| 5.0|     4.0| 5.272999558563747|  [-0.8978045395707...|                 [-1733550.8819243...|     [cute, house, 10,...|             [my, place, is, c...|[tv, wireless int...|  [0.03843923779204...|         [-0.1096726813002...|       [-0.0801591445740...|                  1.0|              0.0|             0.0|                        2.0|         1.0|                227.0|          415.0|               (31,[1],[1.0])|            (2,[0],[1.0])|           (4,[0],[1.0])|                      (4,[2],[1.0])|       (5,[1],[1.0])|            (617,[227],[1.0])|      (709,[415],[1.0])|(1539,[1,31,33,39...|[4957221.35434144...|\n",
       "|        House|Entire home/apt|{TV,Internet,\"Wir...|         9.0|      2.5|Real Bed|             strict|         0.0|     LA|              A Vacation Home F...|                 1.0|                   1.0|2012-07-17|             0.0| 34.18856610064488|-118.12231125876929|     Beautiful & Tranq...|          Altadena|              0.0|  91001| 7.0|     4.0| 6.551080335043403|  [-0.2993631229733...|                 [-1830216.0212487...|     [beautiful, &, tr...|             [a, vacation, hom...|[tv, internet, wi...|  [0.03396774988089...|         [0.12299770531039...|       [0.00390261800392...|                  1.0|              0.0|             0.0|                        0.0|         1.0|                154.0|          186.0|               (31,[1],[1.0])|            (2,[0],[1.0])|           (4,[0],[1.0])|                      (4,[0],[1.0])|       (5,[1],[1.0])|            (617,[154],[1.0])|      (709,[186],[1.0])|(1539,[1,31,33,37...|[4660514.61228115...|\n",
       "|        House|Entire home/apt|{TV,\"Cable TV\",In...|         8.0|      3.0|Real Bed|             strict|         1.0|     DC|              Amazing newly ren...|                 1.0|                   1.0|2014-03-03|             0.0| 38.95744539010831| -77.08215362513657|     Gorgeous spaceous...|Friendship Heights|              1.0|  20016| 6.0|     4.0| 5.991464547107983|  [0.57126821509479...|                 [-222017.49957278...|     [gorgeous, spaceo...|             [amazing, newly, ...|[tv, cable tv, in...|  [0.04374839330557...|         [0.02993554891528...|       [-0.0632657389277...|                  1.0|              0.0|             0.0|                        0.0|         3.0|                429.0|          204.0|               (31,[1],[1.0])|            (2,[0],[1.0])|           (4,[0],[1.0])|                      (4,[0],[1.0])|       (5,[3],[1.0])|            (617,[429],[1.0])|      (709,[204],[1.0])|(1539,[1,31,33,37...|[6055196.53498252...|\n",
       "|        Villa|Entire home/apt|{TV,Internet,\"Wir...|        12.0|      5.0|Real Bed|             strict|         1.0|     LA|              My place is close...|                 1.0|                   0.0|2016-06-05|             1.0| 34.13201711771783| -118.3598330656884|     Hollywood Hills M...|     Cahuenga Pass|             12.0|  90068| 6.0|     4.0|  6.38856140554563|  [0.84864425749475...|                 [-3038774.9348275...|     [hollywood, hills...|             [my, place, is, c...|[tv, internet, wi...|  [0.28357613459229...|         [0.11013394857951...|       [-0.0049584033684...|                 11.0|              0.0|             0.0|                        0.0|         1.0|                185.0|           33.0|              (31,[11],[1.0])|            (2,[0],[1.0])|           (4,[0],[1.0])|                      (4,[0],[1.0])|       (5,[1],[1.0])|            (617,[185],[1.0])|       (709,[33],[1.0])|(1539,[11,31,33,3...|[4387890.83101045...|\n",
       "+-------------+---------------+--------------------+------------+---------+--------+-------------------+------------+-------+----------------------------------+--------------------+----------------------+----------+----------------+------------------+-------------------+-------------------------+------------------+-----------------+-------+----+--------+------------------+----------------------+-------------------------------------+-------------------------+---------------------------------+--------------------+----------------------+-----------------------------+---------------------------+---------------------+-----------------+----------------+---------------------------+------------+---------------------+---------------+-----------------------------+-------------------------+------------------------+-----------------------------------+--------------------+-----------------------------+-----------------------+--------------------+--------------------+\n",
       "only showing top 20 rows"
      ]
     },
     "metadata": {},
     "output_type": "display_data"
    },
    {
     "data": {
      "text/html": [
       "<table border='1'>\n",
       "<tr><th>features</th><th>label</th></tr>\n",
       "<tr><td>[4216889.54765810...</td><td>4.454347296253506</td></tr>\n",
       "<tr><td>[-404103.25870228...</td><td>6.163314804034643</td></tr>\n",
       "<tr><td>[3706716.19225232...</td><td>5.988961416889862</td></tr>\n",
       "<tr><td>[6168033.18712171...</td><td>5.700443573390688</td></tr>\n",
       "<tr><td>[3400674.87152927...</td><td>6.214608098422191</td></tr>\n",
       "<tr><td>[3545277.91198766...</td><td>6.476972362889682</td></tr>\n",
       "<tr><td>[4852668.75137374...</td><td>4.867534450455582</td></tr>\n",
       "<tr><td>[5834389.12451625...</td><td>5.272999558563747</td></tr>\n",
       "<tr><td>[5138755.54652896...</td><td>5.3706380281276624</td></tr>\n",
       "<tr><td>[6183080.42069642...</td><td>5.476463551931511</td></tr>\n",
       "<tr><td>[4651827.61577319...</td><td>5.634789603169249</td></tr>\n",
       "<tr><td>[3845429.53220699...</td><td>6.300785794663246</td></tr>\n",
       "<tr><td>[4160789.10542918...</td><td>5.1929568508902095</td></tr>\n",
       "<tr><td>[-4553387.5366179...</td><td>5.66988092298052</td></tr>\n",
       "<tr><td>[4308290.89821100...</td><td>3.8918202981106265</td></tr>\n",
       "<tr><td>[4343553.71122424...</td><td>6.684611727667928</td></tr>\n",
       "<tr><td>[-5521343.1666141...</td><td>5.793013608384143</td></tr>\n",
       "<tr><td>[4196452.80337547...</td><td>5.105945473900579</td></tr>\n",
       "<tr><td>[6115714.36447015...</td><td>5.68697535633982</td></tr>\n",
       "<tr><td>[4175639.06303795...</td><td>5.1298987149230735</td></tr>\n",
       "</table>\n",
       "only showing top 20 rows\n"
      ],
      "text/plain": [
       "+--------------------+------------------+\n",
       "|            features|             label|\n",
       "+--------------------+------------------+\n",
       "|[-5541502.8949820...|5.6167710976665735|\n",
       "|[3882454.45059727...| 5.910796644040527|\n",
       "|[4038950.30573646...| 7.506591780070841|\n",
       "|[4124991.54690180...| 6.214608098422191|\n",
       "|[-254136.61278797...| 6.173786103901937|\n",
       "|[-5523611.7212095...| 5.703782474656202|\n",
       "|[-4670833.0199877...| 5.855071922202427|\n",
       "|[3728491.13552642...| 6.396929655216146|\n",
       "|[4955889.36152668...|5.6594822157596205|\n",
       "|[3683073.50203780...| 6.902742737158593|\n",
       "|[3733466.24061386...| 7.170119543449628|\n",
       "|[3635839.86983246...| 7.575584651557793|\n",
       "|[4150981.61700905...| 7.002155954403621|\n",
       "|[6106895.27768601...| 5.337538079701318|\n",
       "|[3730855.77386404...| 6.856461984594588|\n",
       "|[4046031.84504432...| 6.396929655216146|\n",
       "|[4150211.00937351...|6.3543700407973525|\n",
       "|[4260834.62785571...|7.3132203870903005|\n",
       "|[3582694.11368462...| 6.829793737512425|\n",
       "|[4783721.96825356...| 6.907755278982138|\n",
       "+--------------------+------------------+\n",
       "only showing top 20 rows"
      ]
     },
     "metadata": {},
     "output_type": "display_data"
    }
   ],
   "source": [
    "from pyspark.ml.feature import PCA\n",
    "\n",
    "# Tokenize textual features by words\n",
    "tokenizers = [ RegexTokenizer(inputCol=c, outputCol=\"{0}_tokens\".format(c), pattern=\" \") for c in textCols ]\n",
    "tokenizers += [ RegexTokenizer(inputCol=c, outputCol=\"{0}_tokens\".format(c), pattern=\"[\\\",{}]+\") for c in jsonCols ]\n",
    "\n",
    "# Vectorize them\n",
    "vectorizers = [ Word2Vec(vectorSize=50, seed=42, minCount=1, inputCol=tokenizer.getOutputCol(), outputCol=\"{0}_vectorized\".format(tokenizer.getOutputCol())) for tokenizer in tokenizers ]\n",
    "\n",
    "# Create String indexer to assign index for the string fields where each unique string will get a unique index\n",
    "# String Indexer is required as an input for One-Hot Encoder \n",
    "# We set the case as `skip` for any string out of the input strings\n",
    "indexers = [ StringIndexer(inputCol=c, outputCol=\"{0}_indexed\".format(c)).setHandleInvalid(\"skip\") for c in categoricalCols ]\n",
    "\n",
    "# Encode the strings using One Hot encoding\n",
    "# default setting: dropLast=True ==> For example with 5 categories, an input value of 2.0 would map to an output vector of [0.0, 0.0, 1.0, 0.0]. The last category is not included by default (configurable via dropLast), because it makes the vector entries sum up to one, and hence linearly dependent. So an input value of 4.0 maps to [0.0, 0.0, 0.0, 0.0].\n",
    "encoders = [ OneHotEncoder(inputCol=indexer.getOutputCol(), outputCol=\"{0}_encoded\".format(indexer.getOutputCol())) for indexer in indexers ]\n",
    "\n",
    "# This will concatenate the input cols into a single column.\n",
    "assembler = VectorAssembler(inputCols= \\\n",
    "                            [encoder.getOutputCol() for encoder in encoders] +\\\n",
    "                            [vectorizer.getOutputCol() for vectorizer in vectorizers] +\\\n",
    "                            [ymd.getOutputCol() for ymd in ymd_transformers] +\\\n",
    "                            [ecef.getOutputCol() for ecef in ecef_transformers] +\\\n",
    "                            numericalCols, outputCol= \"features\")\n",
    "\n",
    "# Apply PCA to reduce dimetionalty and reduce computation time\n",
    "pca = PCA(k=200, inputCol='features', outputCol='components')\n",
    "\n",
    "# You can create a pipeline to use only a single fit and transform on the data.\n",
    "pipeline = Pipeline(stages=ymd_transformers + ecef_transformers + tokenizers + vectorizers + indexers + encoders + [assembler] + [pca])\n",
    "\n",
    "\n",
    "# Fit the pipeline ==> This will call the fit functions for all transformers if exist\n",
    "model = pipeline.fit(df2)\n",
    "# Fit the pipeline ==> This will call the transform functions for all transformers\n",
    "data = model.transform(df2)\n",
    "\n",
    "display(data)\n",
    "\n",
    "# We delete all features and keep only the features and label columns\n",
    "transformed = data.select([\"components\", \"label\"])\n",
    "transformed = transformed.withColumnRenamed('components', 'features')\n",
    "\n",
    "\n",
    "from pyspark.ml.feature import VectorIndexer\n",
    "\n",
    "# Automatically identify categorical features, and index them.\n",
    "# We specify maxCategories so features with > 4\n",
    "# distinct values are treated as continuous.\n",
    "#featureIndexer = VectorIndexer(inputCol=\"features\", outputCol=\"indexedFeatures\", maxCategories=1000).fit(data)\n",
    "#transformed = featureIndexer.transform(data)\n",
    "\n",
    "# Display the output Spark DataFrame\n",
    "display(transformed)"
   ]
  },
  {
   "cell_type": "markdown",
   "id": "c4fd3df2-8f31-42ed-8f0f-7dfcb795a5e8",
   "metadata": {},
   "source": [
    "# Split the dataset"
   ]
  },
  {
   "cell_type": "code",
   "execution_count": 28,
   "id": "f19728e0-7c3c-416f-a098-b0f40ec77de6",
   "metadata": {},
   "outputs": [],
   "source": [
    "#  split the data into 60% training and 40% test (it is not stratified)\n",
    "(train_data, test_data) = transformed.randomSplit([0.6, 0.4], seed = 10)"
   ]
  },
  {
   "cell_type": "code",
   "execution_count": 29,
   "id": "e83702a4-c8bc-40a4-9ef5-f026714370f0",
   "metadata": {},
   "outputs": [
    {
     "data": {
      "text/plain": [
       "''"
      ]
     },
     "execution_count": 29,
     "metadata": {},
     "output_type": "execute_result"
    }
   ],
   "source": [
    "# replaced coalesce(1) with repartition(1) to fix OoM issue\n",
    "def run(command):\n",
    "    import os\n",
    "    return os.popen(command).read()\n",
    "\n",
    "train_data.select(\"features\", \"label\")\\\n",
    "    .repartition(1)\\\n",
    "    .write\\\n",
    "    .mode(\"overwrite\")\\\n",
    "    .format(\"json\")\\\n",
    "    .save(\"project/data/train\")\n",
    "\n",
    "# Run it from root directory of the repository\n",
    "run(\"hdfs dfs -cat project/data/train/*.json > data/train.json\")\n",
    "\n",
    "test_data.select(\"features\", \"label\")\\\n",
    "    .repartition(1)\\\n",
    "    .write\\\n",
    "    .mode(\"overwrite\")\\\n",
    "    .format(\"json\")\\\n",
    "    .save(\"project/data/test\")\n",
    "\n",
    "# Run it from root directory of the repository\n",
    "run(\"hdfs dfs -cat project/data/test/*.json > data/test.json\")"
   ]
  },
  {
   "cell_type": "markdown",
   "id": "12fecd52-189d-45af-841c-47819b311918",
   "metadata": {},
   "source": [
    "# First model"
   ]
  },
  {
   "cell_type": "markdown",
   "id": "6daffa79-5f41-4e78-aa1a-c914f8b3f1f5",
   "metadata": {},
   "source": [
    "## Build a model"
   ]
  },
  {
   "cell_type": "code",
   "execution_count": 30,
   "id": "9892ef1c-f7c4-4acd-8d7d-5630f0823c0c",
   "metadata": {},
   "outputs": [],
   "source": [
    "from pyspark.ml.regression import LinearRegression\n",
    "# Create Linear Regression Model\n",
    "lr = LinearRegression()\n",
    "\n",
    "# Fit the data to the pipeline stages\n",
    "model_lr = lr.fit(train_data)"
   ]
  },
  {
   "cell_type": "markdown",
   "id": "258b1396-77d4-4dd8-8777-d0e6fcbd629f",
   "metadata": {},
   "source": [
    "## Predict for test data"
   ]
  },
  {
   "cell_type": "code",
   "execution_count": 31,
   "id": "b9a0f1ff-a175-4e00-ac1b-a5476dd7dd19",
   "metadata": {},
   "outputs": [
    {
     "data": {
      "text/html": [
       "<table border='1'>\n",
       "<tr><th>features</th><th>label</th><th>prediction</th></tr>\n",
       "<tr><td>[4092002.94095381...</td><td>5.703782474656202</td><td>6.609680783409566</td></tr>\n",
       "<tr><td>[-5598619.2167411...</td><td>4.663439094112067</td><td>4.567990083934333</td></tr>\n",
       "<tr><td>[-5516777.1140283...</td><td>5.0689042022202315</td><td>4.760195424020349</td></tr>\n",
       "<tr><td>[-5509897.6597192...</td><td>4.84418708645859</td><td>5.0845112077480294</td></tr>\n",
       "<tr><td>[-5507316.1699486...</td><td>4.859812404361672</td><td>5.354349962143585</td></tr>\n",
       "<tr><td>[-5486422.9653420...</td><td>5.105945473900579</td><td>5.332780828305253</td></tr>\n",
       "<tr><td>[-5484119.1422463...</td><td>5.298317366548036</td><td>4.96465056951555</td></tr>\n",
       "<tr><td>[-5483563.1568445...</td><td>5.272999558563747</td><td>5.0843308370725</td></tr>\n",
       "<tr><td>[-5483261.7356413...</td><td>4.382026634673881</td><td>4.977633761743668</td></tr>\n",
       "<tr><td>[-5480665.5947066...</td><td>4.941642422609304</td><td>4.5361501685313</td></tr>\n",
       "<tr><td>[-5470221.0814728...</td><td>5.293304824724492</td><td>5.042711167392781</td></tr>\n",
       "<tr><td>[-5465010.7457645...</td><td>5.521460917862246</td><td>5.125224039997303</td></tr>\n",
       "<tr><td>[-5464716.1764617...</td><td>5.521460917862246</td><td>5.063928619168067</td></tr>\n",
       "<tr><td>[-5460095.4330733...</td><td>4.9344739331306915</td><td>4.610072294582171</td></tr>\n",
       "<tr><td>[-5447577.9882141...</td><td>4.976733742420574</td><td>4.435782773340497</td></tr>\n",
       "<tr><td>[-5441467.1919042...</td><td>5.087596335232384</td><td>5.031080958594325</td></tr>\n",
       "<tr><td>[-5434234.4830040...</td><td>5.298317366548036</td><td>4.802268746683783</td></tr>\n",
       "<tr><td>[-5430119.0911996...</td><td>5.1647859739235145</td><td>4.61022987564038</td></tr>\n",
       "<tr><td>[-4718529.0929275...</td><td>4.219507705176107</td><td>4.292552692962291</td></tr>\n",
       "<tr><td>[-4637725.5276504...</td><td>4.31748811353631</td><td>4.679663861191415</td></tr>\n",
       "</table>\n",
       "only showing top 20 rows\n"
      ],
      "text/plain": [
       "+--------------------+------------------+------------------+\n",
       "|            features|             label|        prediction|\n",
       "+--------------------+------------------+------------------+\n",
       "|[-5645665.1300132...| 4.007333185232471| 4.243449223225847|\n",
       "|[-5626637.0020096...|  4.07753744390572| 4.842764401067175|\n",
       "|[-5621508.7921052...| 4.605170185988092| 4.252330234188204|\n",
       "|[-5618123.4837487...|3.6109179126442235|3.8521706917897127|\n",
       "|[-5617124.3179773...| 3.912023005428147| 4.177018326655581|\n",
       "|[-5615113.4207288...|  4.07753744390572| 4.148495307541413|\n",
       "|[-5610513.2555049...| 4.007333185232471| 4.182429518704476|\n",
       "|[-5600614.1877284...| 4.174387269895637| 4.021849321982748|\n",
       "|[-5600571.7741368...| 4.219507705176107| 4.191121968000401|\n",
       "|[-5595982.3701874...|  4.02535169073515| 4.313204738456854|\n",
       "|[-5591906.7322481...| 4.007333185232471| 4.314808666412064|\n",
       "|[-5588382.1268727...|4.9344739331306915| 4.868429418105725|\n",
       "|[-5574993.3889879...|4.5217885770490405|  4.17533193093726|\n",
       "|[-5569278.4015883...| 3.912023005428147|  4.15304413641306|\n",
       "|[-5566849.4294884...| 4.143134726391533| 4.196207060566145|\n",
       "|[-5566636.5641901...|   4.0943445622221| 4.306937365117356|\n",
       "|[-5557457.9012797...| 4.605170185988092| 4.843235001227306|\n",
       "|[-5555512.0902795...| 4.787491742782046| 4.409338106718586|\n",
       "|[-5555253.1024219...|  4.59511985013459| 4.834091063266369|\n",
       "|[-5554804.6841002...| 4.653960350157523| 4.916171936434804|\n",
       "+--------------------+------------------+------------------+\n",
       "only showing top 20 rows"
      ]
     },
     "execution_count": 31,
     "metadata": {},
     "output_type": "execute_result"
    }
   ],
   "source": [
    "predictions = model_lr.transform(test_data)\n",
    "predictions"
   ]
  },
  {
   "cell_type": "markdown",
   "id": "32e97403-59a0-4ec4-b044-678ba6aa2b66",
   "metadata": {},
   "source": [
    "## Evaluate the model"
   ]
  },
  {
   "cell_type": "code",
   "execution_count": 32,
   "id": "c6b166ca-8b62-4995-adca-129021dd6d40",
   "metadata": {},
   "outputs": [
    {
     "name": "stdout",
     "output_type": "stream",
     "text": [
      "Root Mean Squared Error (RMSE) on test data = 0.4142084050540102\n",
      "R^2 on test data = 0.6573771287986057\n"
     ]
    }
   ],
   "source": [
    "from pyspark.ml.evaluation import RegressionEvaluator \n",
    "\n",
    "# Evaluate the performance of the model\n",
    "evaluator1_rmse = RegressionEvaluator(labelCol=\"label\", predictionCol=\"prediction\", metricName=\"rmse\")\n",
    "evaluator1_r2 = RegressionEvaluator(labelCol=\"label\", predictionCol=\"prediction\", metricName=\"r2\")\n",
    "\n",
    "rmse = evaluator1_rmse.evaluate(predictions)\n",
    "r2 = evaluator1_r2.evaluate(predictions)\n",
    "\n",
    "print(\"Root Mean Squared Error (RMSE) on test data = {}\".format(rmse))\n",
    "print(\"R^2 on test data = {}\".format(r2))"
   ]
  },
  {
   "cell_type": "markdown",
   "id": "b6b0e075-c37c-492a-b894-2f64d4dea72b",
   "metadata": {},
   "source": [
    "## Hyperparameter optimization"
   ]
  },
  {
   "cell_type": "code",
   "execution_count": 33,
   "id": "7e04437d-2bf9-4803-83cc-b7ed17d311e4",
   "metadata": {},
   "outputs": [
    {
     "data": {
      "text/plain": [
       "[Param(parent='LinearRegression_8c16f6fe6f4a', name='aggregationDepth', doc='suggested depth for treeAggregate (>= 2).'),\n",
       " Param(parent='LinearRegression_8c16f6fe6f4a', name='elasticNetParam', doc='the ElasticNet mixing parameter, in range [0, 1]. For alpha = 0, the penalty is an L2 penalty. For alpha = 1, it is an L1 penalty.'),\n",
       " Param(parent='LinearRegression_8c16f6fe6f4a', name='epsilon', doc='The shape parameter to control the amount of robustness. Must be > 1.0. Only valid when loss is huber'),\n",
       " Param(parent='LinearRegression_8c16f6fe6f4a', name='featuresCol', doc='features column name.'),\n",
       " Param(parent='LinearRegression_8c16f6fe6f4a', name='fitIntercept', doc='whether to fit an intercept term.'),\n",
       " Param(parent='LinearRegression_8c16f6fe6f4a', name='labelCol', doc='label column name.'),\n",
       " Param(parent='LinearRegression_8c16f6fe6f4a', name='loss', doc='The loss function to be optimized. Supported options: squaredError, huber.'),\n",
       " Param(parent='LinearRegression_8c16f6fe6f4a', name='maxBlockSizeInMB', doc='maximum memory in MB for stacking input data into blocks. Data is stacked within partitions. If more than remaining data size in a partition then it is adjusted to the data size. Default 0.0 represents choosing optimal value, depends on specific algorithm. Must be >= 0.'),\n",
       " Param(parent='LinearRegression_8c16f6fe6f4a', name='maxIter', doc='max number of iterations (>= 0).'),\n",
       " Param(parent='LinearRegression_8c16f6fe6f4a', name='predictionCol', doc='prediction column name.'),\n",
       " Param(parent='LinearRegression_8c16f6fe6f4a', name='regParam', doc='regularization parameter (>= 0).'),\n",
       " Param(parent='LinearRegression_8c16f6fe6f4a', name='solver', doc='The solver algorithm for optimization. Supported options: auto, normal, l-bfgs.'),\n",
       " Param(parent='LinearRegression_8c16f6fe6f4a', name='standardization', doc='whether to standardize the training features before fitting the model.'),\n",
       " Param(parent='LinearRegression_8c16f6fe6f4a', name='tol', doc='the convergence tolerance for iterative algorithms (>= 0).'),\n",
       " Param(parent='LinearRegression_8c16f6fe6f4a', name='weightCol', doc='weight column name. If this is not set or empty, we treat all instance weights as 1.0.')]"
      ]
     },
     "execution_count": 33,
     "metadata": {},
     "output_type": "execute_result"
    }
   ],
   "source": [
    "model_lr.params"
   ]
  },
  {
   "cell_type": "code",
   "execution_count": 36,
   "id": "9f4388f9-db94-423c-879d-392c90041d95",
   "metadata": {},
   "outputs": [
    {
     "data": {
      "text/plain": [
       "LinearRegressionModel: uid=LinearRegression_8c16f6fe6f4a, numFeatures=200"
      ]
     },
     "execution_count": 36,
     "metadata": {},
     "output_type": "execute_result"
    }
   ],
   "source": [
    "from pyspark.ml.tuning import ParamGridBuilder, CrossValidator \n",
    "\n",
    "import numpy as np\n",
    "\n",
    "\n",
    "grid = ParamGridBuilder()\n",
    "grid = grid.addGrid(\n",
    "                    model_lr.aggregationDepth, [2, 3, 4])\\\n",
    "                    .addGrid(model_lr.regParam, np.logspace(1e-3,1e-1)\n",
    "                    )\\\n",
    "                    .build()\n",
    "\n",
    "cv = CrossValidator(estimator = lr, \n",
    "                    estimatorParamMaps = grid, \n",
    "                    evaluator = evaluator1_rmse,\n",
    "                    parallelism = 5,\n",
    "                    numFolds=2)\n",
    "\n",
    "cvModel = cv.fit(train_data)\n",
    "bestModel = cvModel.bestModel\n",
    "bestModel"
   ]
  },
  {
   "cell_type": "markdown",
   "id": "8a27e31c-959e-438c-bec0-1f109d7e2c15",
   "metadata": {},
   "source": [
    "## Best model 1\n"
   ]
  },
  {
   "cell_type": "code",
   "execution_count": 37,
   "id": "8d86fc18-eb29-4f03-bfef-ed3aa1daa4fa",
   "metadata": {},
   "outputs": [
    {
     "name": "stdout",
     "output_type": "stream",
     "text": [
      "{Param(parent='LinearRegression_8c16f6fe6f4a', name='elasticNetParam', doc='the ElasticNet mixing parameter, in range [0, 1]. For alpha = 0, the penalty is an L2 penalty. For alpha = 1, it is an L1 penalty.'): 0.0,\n",
      " Param(parent='LinearRegression_8c16f6fe6f4a', name='maxBlockSizeInMB', doc='maximum memory in MB for stacking input data into blocks. Data is stacked within partitions. If more than remaining data size in a partition then it is adjusted to the data size. Default 0.0 represents choosing optimal value, depends on specific algorithm. Must be >= 0.'): 0.0,\n",
      " Param(parent='LinearRegression_8c16f6fe6f4a', name='epsilon', doc='The shape parameter to control the amount of robustness. Must be > 1.0. Only valid when loss is huber'): 1.35,\n",
      " Param(parent='LinearRegression_8c16f6fe6f4a', name='loss', doc='The loss function to be optimized. Supported options: squaredError, huber.'): 'squaredError',\n",
      " Param(parent='LinearRegression_8c16f6fe6f4a', name='featuresCol', doc='features column name.'): 'features',\n",
      " Param(parent='LinearRegression_8c16f6fe6f4a', name='maxIter', doc='max number of iterations (>= 0).'): 100,\n",
      " Param(parent='LinearRegression_8c16f6fe6f4a', name='labelCol', doc='label column name.'): 'label',\n",
      " Param(parent='LinearRegression_8c16f6fe6f4a', name='predictionCol', doc='prediction column name.'): 'prediction',\n",
      " Param(parent='LinearRegression_8c16f6fe6f4a', name='standardization', doc='whether to standardize the training features before fitting the model.'): True,\n",
      " Param(parent='LinearRegression_8c16f6fe6f4a', name='tol', doc='the convergence tolerance for iterative algorithms (>= 0).'): 1e-06,\n",
      " Param(parent='LinearRegression_8c16f6fe6f4a', name='fitIntercept', doc='whether to fit an intercept term.'): True,\n",
      " Param(parent='LinearRegression_8c16f6fe6f4a', name='solver', doc='The solver algorithm for optimization. Supported options: auto, normal, l-bfgs.'): 'auto',\n",
      " Param(parent='LinearRegression_8c16f6fe6f4a', name='aggregationDepth', doc='suggested depth for treeAggregate (>= 2).'): 4,\n",
      " Param(parent='LinearRegression_8c16f6fe6f4a', name='regParam', doc='regularization parameter (>= 0).'): 1.0023052380778996}\n"
     ]
    }
   ],
   "source": [
    "from pprint import pprint\n",
    "model1 = bestModel\n",
    "pprint(model1.extractParamMap())"
   ]
  },
  {
   "cell_type": "markdown",
   "id": "632f666a-f792-4b50-b38f-b39f9208ab25",
   "metadata": {},
   "source": [
    "## Save the model to HDFS"
   ]
  },
  {
   "cell_type": "code",
   "execution_count": 38,
   "id": "e562da25-53d1-46dc-ac5d-68a6e9041927",
   "metadata": {},
   "outputs": [
    {
     "data": {
      "text/plain": [
       "''"
      ]
     },
     "execution_count": 38,
     "metadata": {},
     "output_type": "execute_result"
    }
   ],
   "source": [
    "model1.write().overwrite().save(\"project/models/model1\")\n",
    "\n",
    "# Run it from root directory of the repository\n",
    "run(\"hdfs dfs -get project/models/model1 models/model1\")"
   ]
  },
  {
   "cell_type": "markdown",
   "id": "f0e9b220-54e1-49ce-802c-fc005d8f63c3",
   "metadata": {},
   "source": [
    "## Predict for test data using best model1"
   ]
  },
  {
   "cell_type": "code",
   "execution_count": 39,
   "id": "cf8a05de-dcae-4bb0-8cf1-de760a62e0fb",
   "metadata": {},
   "outputs": [
    {
     "name": "stdout",
     "output_type": "stream",
     "text": [
      "+--------------------+------------------+------------------+\n",
      "|            features|             label|        prediction|\n",
      "+--------------------+------------------+------------------+\n",
      "|[-5523165.9650641...| 6.284134161070802|  5.27120250710247|\n",
      "|[-5393038.8320565...| 5.886104031450156| 5.244698573415519|\n",
      "|[-4679810.7749005...| 5.857933154483459| 5.237130931730095|\n",
      "|[-4630082.3504710...| 5.579729825986222| 5.200419586227103|\n",
      "|[-4620077.9808390...|5.5174528964647065| 5.291853860233713|\n",
      "|[-4561480.8234697...| 6.396929655216146|5.2922197352126235|\n",
      "|[-451373.79478320...|6.7900972355139055| 5.600734495954131|\n",
      "|[-325396.03081678...| 6.907755278982138| 5.375813622726128|\n",
      "|[-305443.43101485...| 6.163314804034643| 5.355330076374893|\n",
      "|[-236543.99034439...| 6.212606095751518|5.3767963482511085|\n",
      "|[-208017.94062362...| 7.244227515603349| 5.533447989092201|\n",
      "|[-197571.92144895...| 7.090076835776093|5.4316750203713315|\n",
      "|[3224395.32075969...| 5.521460917862246| 5.056450068522624|\n",
      "|[3338447.99353148...| 3.688879454113936| 4.599986866551064|\n",
      "|[3338542.45637001...| 3.912023005428147| 4.643944922663296|\n",
      "|[3449002.53295869...| 5.298317366548036| 5.312152621447651|\n",
      "|[3475238.67636872...| 5.416100402204419| 5.135224512303765|\n",
      "|[3549918.29320585...| 5.857933154483459| 5.382492945658352|\n",
      "|[3592923.41746692...|5.5174528964647065| 5.326996323383256|\n",
      "|[3605947.65206935...| 6.040254711277415| 5.310564191691639|\n",
      "+--------------------+------------------+------------------+\n",
      "only showing top 20 rows\n",
      "\n"
     ]
    }
   ],
   "source": [
    "predictions = model1.transform(test_data)\n",
    "predictions.show()"
   ]
  },
  {
   "cell_type": "code",
   "execution_count": 40,
   "id": "096936c5-a575-48b7-92d2-be22893e892c",
   "metadata": {},
   "outputs": [
    {
     "data": {
      "text/plain": [
       "''"
      ]
     },
     "execution_count": 40,
     "metadata": {},
     "output_type": "execute_result"
    }
   ],
   "source": [
    "predictions.select(\"label\", \"prediction\")\\\n",
    "    .repartition(1)\\\n",
    "    .write\\\n",
    "    .mode(\"overwrite\")\\\n",
    "    .format(\"csv\")\\\n",
    "    .option(\"sep\", \",\")\\\n",
    "    .option(\"header\",\"true\")\\\n",
    "    .save(\"project/output/model1_predictions.csv\")\n",
    "\n",
    "# Run it from root directory of the repository\n",
    "run(\"hdfs dfs -cat project/output/model1_predictions.csv/*.csv > output/model1_predictions.csv\")"
   ]
  },
  {
   "cell_type": "markdown",
   "id": "89f9a43d-80ce-4ec1-930f-671a240673d9",
   "metadata": {},
   "source": [
    "## Evaluate the best model1"
   ]
  },
  {
   "cell_type": "code",
   "execution_count": 41,
   "id": "1d0cc0e6-7d0d-4030-a372-375e5e9b84f7",
   "metadata": {},
   "outputs": [
    {
     "name": "stdout",
     "output_type": "stream",
     "text": [
      "Root Mean Squared Error (RMSE) on test data = 0.5358906391132227\n",
      "R^2 on test data = 0.4288600024400767\n"
     ]
    }
   ],
   "source": [
    "from pyspark.ml.evaluation import RegressionEvaluator \n",
    "\n",
    "# Evaluate the performance of the model\n",
    "evaluator1_rmse = RegressionEvaluator(labelCol=\"label\", predictionCol=\"prediction\", metricName=\"rmse\")\n",
    "evaluator1_r2 = RegressionEvaluator(labelCol=\"label\", predictionCol=\"prediction\", metricName=\"r2\")\n",
    "\n",
    "rmse1 = evaluator1_rmse.evaluate(predictions)\n",
    "r21 = evaluator1_r2.evaluate(predictions)\n",
    "\n",
    "print(\"Root Mean Squared Error (RMSE) on test data = {}\".format(rmse1))\n",
    "print(\"R^2 on test data = {}\".format(r21))"
   ]
  },
  {
   "cell_type": "markdown",
   "id": "5308587c-3e52-41c6-ba7d-494d53cc45b1",
   "metadata": {},
   "source": [
    "# Second model"
   ]
  },
  {
   "cell_type": "markdown",
   "id": "d929b5a0-a159-4c94-ae56-086d3cf52df0",
   "metadata": {},
   "source": [
    "## Build a model"
   ]
  },
  {
   "cell_type": "code",
   "execution_count": 42,
   "id": "55d8981a-e274-4ab7-9d03-fefdc068b51b",
   "metadata": {},
   "outputs": [],
   "source": [
    "from pyspark.ml.regression import GBTRegressor\n",
    "\n",
    "# Create Linear Regression Model\n",
    "gbt = GBTRegressor()\n",
    "\n",
    "# Fit the data to the pipeline stages\n",
    "model_gbt = gbt.fit(train_data)"
   ]
  },
  {
   "cell_type": "markdown",
   "id": "7b1c9a67-fe61-49fe-898f-017df0c4006b",
   "metadata": {},
   "source": [
    "## Predict for test data"
   ]
  },
  {
   "cell_type": "code",
   "execution_count": 43,
   "id": "6cb95001-9d15-4da4-98df-2b87c0c39200",
   "metadata": {},
   "outputs": [
    {
     "name": "stdout",
     "output_type": "stream",
     "text": [
      "+--------------------+------------------+------------------+\n",
      "|            features|             label|        prediction|\n",
      "+--------------------+------------------+------------------+\n",
      "|[-5523611.7212095...| 5.703782474656202|5.8057687547071755|\n",
      "|[-254136.61278797...| 6.173786103901937| 6.060227357130425|\n",
      "|[3733466.24061386...| 7.170119543449628| 6.417290068619777|\n",
      "|[3882454.45059727...| 5.910796644040527| 5.524609594051106|\n",
      "|[4038950.30573646...| 7.506591780070841|6.7448110895546645|\n",
      "|[4955889.36152668...|5.6594822157596205| 6.040936109546295|\n",
      "|[4115770.35759027...| 6.922643891475888|6.5693232039236475|\n",
      "|[4150211.00937351...|6.3543700407973525| 5.659284619094498|\n",
      "|[4483907.05002948...| 6.907755278982138| 6.237497493649422|\n",
      "|[5471987.17468020...|6.1675164908883415| 6.069312263637892|\n",
      "|[6106895.27768601...| 5.337538079701318| 5.617621084751361|\n",
      "|[6129178.02453418...| 6.618738983517219| 6.718529204718719|\n",
      "|[-295834.60538753...| 6.684611727667928| 6.084722910696591|\n",
      "|[-292426.35351912...|7.1308988302963465| 6.079882550366018|\n",
      "|[5000041.13570957...|7.1308988302963465| 6.240141056904245|\n",
      "|[6138035.64072677...| 6.932447891572509|6.8055303377911445|\n",
      "|[-5386491.1199128...| 6.684611727667928| 5.747602060037301|\n",
      "|[-4267877.7361769...| 6.684611727667928| 5.464142845937471|\n",
      "|[-647730.25797904...|6.5352412710136605|  6.05862046899994|\n",
      "|[3672078.67834254...| 6.907755278982138| 6.148368862710733|\n",
      "+--------------------+------------------+------------------+\n",
      "only showing top 20 rows\n",
      "\n"
     ]
    }
   ],
   "source": [
    "predictions = model_gbt.transform(test_data)\n",
    "predictions.show()"
   ]
  },
  {
   "cell_type": "markdown",
   "id": "6c94da6f-f913-45ec-a377-d9c42dacb075",
   "metadata": {},
   "source": [
    "## Evaluate the model"
   ]
  },
  {
   "cell_type": "code",
   "execution_count": 44,
   "id": "f3508997-af5a-4882-8fd6-8d0a5be07ccb",
   "metadata": {},
   "outputs": [
    {
     "name": "stdout",
     "output_type": "stream",
     "text": [
      "Root Mean Squared Error (RMSE) on test data = 0.4373428289003199\n",
      "R^2 on test data = 0.6312340497763067\n"
     ]
    }
   ],
   "source": [
    "from pyspark.ml.evaluation import RegressionEvaluator \n",
    "\n",
    "# Evaluate the performance of the model\n",
    "evaluator2_rmse = RegressionEvaluator(labelCol=\"label\", predictionCol=\"prediction\", metricName=\"rmse\")\n",
    "evaluator2_r2 = RegressionEvaluator(labelCol=\"label\", predictionCol=\"prediction\", metricName=\"r2\")\n",
    "\n",
    "rmse2 = evaluator2_rmse.evaluate(predictions)\n",
    "r22 = evaluator2_r2.evaluate(predictions)\n",
    "\n",
    "print(\"Root Mean Squared Error (RMSE) on test data = {}\".format(rmse2))\n",
    "print(\"R^2 on test data = {}\".format(r22))"
   ]
  },
  {
   "cell_type": "markdown",
   "id": "943a2d06-39bd-4c71-b0cc-18a63d995949",
   "metadata": {},
   "source": [
    "## Hyperparameter optimization"
   ]
  },
  {
   "cell_type": "code",
   "execution_count": 45,
   "id": "b99e50b9-5090-45ed-bfa7-7ddca0706176",
   "metadata": {},
   "outputs": [
    {
     "data": {
      "text/plain": [
       "[Param(parent='GBTRegressor_a06be0548f05', name='cacheNodeIds', doc='If false, the algorithm will pass trees to executors to match instances with nodes. If true, the algorithm will cache node IDs for each instance. Caching can speed up training of deeper trees. Users can set how often should the cache be checkpointed or disable it by setting checkpointInterval.'),\n",
       " Param(parent='GBTRegressor_a06be0548f05', name='checkpointInterval', doc='set checkpoint interval (>= 1) or disable checkpoint (-1). E.g. 10 means that the cache will get checkpointed every 10 iterations. Note: this setting will be ignored if the checkpoint directory is not set in the SparkContext.'),\n",
       " Param(parent='GBTRegressor_a06be0548f05', name='featureSubsetStrategy', doc=\"The number of features to consider for splits at each tree node. Supported options: 'auto' (choose automatically for task: If numTrees == 1, set to 'all'. If numTrees > 1 (forest), set to 'sqrt' for classification and to 'onethird' for regression), 'all' (use all features), 'onethird' (use 1/3 of the features), 'sqrt' (use sqrt(number of features)), 'log2' (use log2(number of features)), 'n' (when n is in the range (0, 1.0], use n * number of features. When n is in the range (1, number of features), use n features). default = 'auto'\"),\n",
       " Param(parent='GBTRegressor_a06be0548f05', name='featuresCol', doc='features column name.'),\n",
       " Param(parent='GBTRegressor_a06be0548f05', name='impurity', doc='Criterion used for information gain calculation (case-insensitive). Supported options: variance'),\n",
       " Param(parent='GBTRegressor_a06be0548f05', name='labelCol', doc='label column name.'),\n",
       " Param(parent='GBTRegressor_a06be0548f05', name='leafCol', doc='Leaf indices column name. Predicted leaf index of each instance in each tree by preorder.'),\n",
       " Param(parent='GBTRegressor_a06be0548f05', name='lossType', doc='Loss function which GBT tries to minimize (case-insensitive). Supported options: squared, absolute'),\n",
       " Param(parent='GBTRegressor_a06be0548f05', name='maxBins', doc='Max number of bins for discretizing continuous features.  Must be >=2 and >= number of categories for any categorical feature.'),\n",
       " Param(parent='GBTRegressor_a06be0548f05', name='maxDepth', doc='Maximum depth of the tree. (>= 0) E.g., depth 0 means 1 leaf node; depth 1 means 1 internal node + 2 leaf nodes. Must be in range [0, 30].'),\n",
       " Param(parent='GBTRegressor_a06be0548f05', name='maxIter', doc='max number of iterations (>= 0).'),\n",
       " Param(parent='GBTRegressor_a06be0548f05', name='maxMemoryInMB', doc='Maximum memory in MB allocated to histogram aggregation. If too small, then 1 node will be split per iteration, and its aggregates may exceed this size.'),\n",
       " Param(parent='GBTRegressor_a06be0548f05', name='minInfoGain', doc='Minimum information gain for a split to be considered at a tree node.'),\n",
       " Param(parent='GBTRegressor_a06be0548f05', name='minInstancesPerNode', doc='Minimum number of instances each child must have after split. If a split causes the left or right child to have fewer than minInstancesPerNode, the split will be discarded as invalid. Should be >= 1.'),\n",
       " Param(parent='GBTRegressor_a06be0548f05', name='minWeightFractionPerNode', doc='Minimum fraction of the weighted sample count that each child must have after split. If a split causes the fraction of the total weight in the left or right child to be less than minWeightFractionPerNode, the split will be discarded as invalid. Should be in interval [0.0, 0.5).'),\n",
       " Param(parent='GBTRegressor_a06be0548f05', name='predictionCol', doc='prediction column name.'),\n",
       " Param(parent='GBTRegressor_a06be0548f05', name='seed', doc='random seed.'),\n",
       " Param(parent='GBTRegressor_a06be0548f05', name='stepSize', doc='Step size (a.k.a. learning rate) in interval (0, 1] for shrinking the contribution of each estimator.'),\n",
       " Param(parent='GBTRegressor_a06be0548f05', name='subsamplingRate', doc='Fraction of the training data used for learning each decision tree, in range (0, 1].'),\n",
       " Param(parent='GBTRegressor_a06be0548f05', name='validationIndicatorCol', doc='name of the column that indicates whether each row is for training or for validation. False indicates training; true indicates validation.'),\n",
       " Param(parent='GBTRegressor_a06be0548f05', name='validationTol', doc='Threshold for stopping early when fit with validation is used. If the error rate on the validation input changes by less than the validationTol, then learning will stop early (before `maxIter`). This parameter is ignored when fit without validation is used.'),\n",
       " Param(parent='GBTRegressor_a06be0548f05', name='weightCol', doc='weight column name. If this is not set or empty, we treat all instance weights as 1.0.')]"
      ]
     },
     "execution_count": 45,
     "metadata": {},
     "output_type": "execute_result"
    }
   ],
   "source": [
    "model_gbt.params"
   ]
  },
  {
   "cell_type": "code",
   "execution_count": 46,
   "id": "5dea6a22-9f7a-483b-818e-0b4e62f723e3",
   "metadata": {},
   "outputs": [
    {
     "data": {
      "text/plain": [
       "GBTRegressionModel: uid=GBTRegressor_a06be0548f05, numTrees=20, numFeatures=200"
      ]
     },
     "execution_count": 46,
     "metadata": {},
     "output_type": "execute_result"
    }
   ],
   "source": [
    "from pyspark.ml.tuning import ParamGridBuilder, CrossValidator \n",
    "\n",
    "import numpy as np\n",
    "\n",
    "\n",
    "grid = ParamGridBuilder()\n",
    "grid = grid.addGrid(model_gbt.maxDepth, [2, 5]).addGrid(model_gbt.lossType, ['squared', 'absolute']).build()\n",
    "\n",
    "cv = CrossValidator(estimator = gbt, \n",
    "                    estimatorParamMaps = grid, \n",
    "                    evaluator = evaluator2_rmse,\n",
    "                    parallelism = 5,\n",
    "                    numFolds=2)\n",
    "\n",
    "cvModel = cv.fit(train_data)\n",
    "bestModel = cvModel.bestModel\n",
    "bestModel"
   ]
  },
  {
   "cell_type": "markdown",
   "id": "1524320f-8764-4ed4-b8ff-9d0a43b2ee29",
   "metadata": {},
   "source": [
    "## Best model 2\n"
   ]
  },
  {
   "cell_type": "code",
   "execution_count": 47,
   "id": "ccafef7f-5a51-4370-8572-447f06b92248",
   "metadata": {},
   "outputs": [
    {
     "name": "stdout",
     "output_type": "stream",
     "text": [
      "{Param(parent='GBTRegressor_a06be0548f05', name='featureSubsetStrategy', doc=\"The number of features to consider for splits at each tree node. Supported options: 'auto' (choose automatically for task: If numTrees == 1, set to 'all'. If numTrees > 1 (forest), set to 'sqrt' for classification and to 'onethird' for regression), 'all' (use all features), 'onethird' (use 1/3 of the features), 'sqrt' (use sqrt(number of features)), 'log2' (use log2(number of features)), 'n' (when n is in the range (0, 1.0], use n * number of features. When n is in the range (1, number of features), use n features). default = 'auto'\"): 'all',\n",
      " Param(parent='GBTRegressor_a06be0548f05', name='minInstancesPerNode', doc='Minimum number of instances each child must have after split. If a split causes the left or right child to have fewer than minInstancesPerNode, the split will be discarded as invalid. Should be >= 1.'): 1,\n",
      " Param(parent='GBTRegressor_a06be0548f05', name='maxDepth', doc='Maximum depth of the tree. (>= 0) E.g., depth 0 means 1 leaf node; depth 1 means 1 internal node + 2 leaf nodes. Must be in range [0, 30].'): 5,\n",
      " Param(parent='GBTRegressor_a06be0548f05', name='predictionCol', doc='prediction column name.'): 'prediction',\n",
      " Param(parent='GBTRegressor_a06be0548f05', name='minInfoGain', doc='Minimum information gain for a split to be considered at a tree node.'): 0.0,\n",
      " Param(parent='GBTRegressor_a06be0548f05', name='labelCol', doc='label column name.'): 'label',\n",
      " Param(parent='GBTRegressor_a06be0548f05', name='seed', doc='random seed.'): -3572016073040893817,\n",
      " Param(parent='GBTRegressor_a06be0548f05', name='maxMemoryInMB', doc='Maximum memory in MB allocated to histogram aggregation. If too small, then 1 node will be split per iteration, and its aggregates may exceed this size.'): 256,\n",
      " Param(parent='GBTRegressor_a06be0548f05', name='maxBins', doc='Max number of bins for discretizing continuous features.  Must be >=2 and >= number of categories for any categorical feature.'): 32,\n",
      " Param(parent='GBTRegressor_a06be0548f05', name='leafCol', doc='Leaf indices column name. Predicted leaf index of each instance in each tree by preorder.'): '',\n",
      " Param(parent='GBTRegressor_a06be0548f05', name='featuresCol', doc='features column name.'): 'features',\n",
      " Param(parent='GBTRegressor_a06be0548f05', name='checkpointInterval', doc='set checkpoint interval (>= 1) or disable checkpoint (-1). E.g. 10 means that the cache will get checkpointed every 10 iterations. Note: this setting will be ignored if the checkpoint directory is not set in the SparkContext.'): 10,\n",
      " Param(parent='GBTRegressor_a06be0548f05', name='stepSize', doc='Step size (a.k.a. learning rate) in interval (0, 1] for shrinking the contribution of each estimator.'): 0.1,\n",
      " Param(parent='GBTRegressor_a06be0548f05', name='cacheNodeIds', doc='If false, the algorithm will pass trees to executors to match instances with nodes. If true, the algorithm will cache node IDs for each instance. Caching can speed up training of deeper trees. Users can set how often should the cache be checkpointed or disable it by setting checkpointInterval.'): False,\n",
      " Param(parent='GBTRegressor_a06be0548f05', name='maxIter', doc='max number of iterations (>= 0).'): 20,\n",
      " Param(parent='GBTRegressor_a06be0548f05', name='lossType', doc='Loss function which GBT tries to minimize (case-insensitive). Supported options: squared, absolute'): 'squared',\n",
      " Param(parent='GBTRegressor_a06be0548f05', name='impurity', doc='Criterion used for information gain calculation (case-insensitive). Supported options: variance'): 'variance',\n",
      " Param(parent='GBTRegressor_a06be0548f05', name='minWeightFractionPerNode', doc='Minimum fraction of the weighted sample count that each child must have after split. If a split causes the fraction of the total weight in the left or right child to be less than minWeightFractionPerNode, the split will be discarded as invalid. Should be in interval [0.0, 0.5).'): 0.0,\n",
      " Param(parent='GBTRegressor_a06be0548f05', name='subsamplingRate', doc='Fraction of the training data used for learning each decision tree, in range (0, 1].'): 1.0,\n",
      " Param(parent='GBTRegressor_a06be0548f05', name='validationTol', doc='Threshold for stopping early when fit with validation is used. If the error rate on the validation input changes by less than the validationTol, then learning will stop early (before `maxIter`). This parameter is ignored when fit without validation is used.'): 0.01}\n"
     ]
    }
   ],
   "source": [
    "from pprint import pprint\n",
    "model2 = bestModel\n",
    "pprint(model2.extractParamMap())"
   ]
  },
  {
   "cell_type": "markdown",
   "id": "336a3f34-cd0b-4e7e-a0ff-8670bee1e2ef",
   "metadata": {},
   "source": [
    "## Save the model to HDFS"
   ]
  },
  {
   "cell_type": "code",
   "execution_count": 48,
   "id": "098bb094-67c3-4a8b-a52a-95a1f7c7bc74",
   "metadata": {},
   "outputs": [
    {
     "data": {
      "text/plain": [
       "''"
      ]
     },
     "execution_count": 48,
     "metadata": {},
     "output_type": "execute_result"
    }
   ],
   "source": [
    "model2.write().overwrite().save(\"project/models/model2\")\n",
    "\n",
    "# Run it from root directory of the repository\n",
    "run(\"hdfs dfs -get project/models/model2 models/model2\")"
   ]
  },
  {
   "cell_type": "markdown",
   "id": "2220eee3-99d3-44cc-82ab-b941fd5e5e7c",
   "metadata": {},
   "source": [
    "## Predict for test data using best model2"
   ]
  },
  {
   "cell_type": "code",
   "execution_count": 50,
   "id": "53789d15-33a1-43b2-8e8e-df7627df5de1",
   "metadata": {},
   "outputs": [
    {
     "name": "stdout",
     "output_type": "stream",
     "text": [
      "+--------------------+------------------+------------------+\n",
      "|            features|             label|        prediction|\n",
      "+--------------------+------------------+------------------+\n",
      "|[3683073.50203780...| 6.902742737158593| 6.739651836835824|\n",
      "|[4038950.30573646...| 7.506591780070841| 6.797082014255193|\n",
      "|[4955889.36152668...|5.6594822157596205| 5.506779268102148|\n",
      "|[3686470.67574270...| 6.745236349484363| 5.692495510158493|\n",
      "|[4115770.35759027...| 6.922643891475888| 6.615959432371952|\n",
      "|[5471987.17468020...|6.1675164908883415| 5.679520933665446|\n",
      "|[-5555179.3625704...|5.6167710976665735| 5.888261122837999|\n",
      "|[4349103.27884350...| 6.214608098422191| 6.347087894129916|\n",
      "|[6114522.00728311...| 5.501258210544727| 6.642786485635996|\n",
      "|[-4267877.7361769...| 6.684611727667928| 5.414385113226421|\n",
      "|[-4077398.0068237...|5.7071102647488745|5.5401765765942885|\n",
      "|[-647730.25797904...|6.5352412710136605| 6.029274362620962|\n",
      "|[4979127.88724229...| 6.214608098422191| 5.937287559867565|\n",
      "|[-4568590.4857054...| 6.476972362889682|5.7346532430429225|\n",
      "|[3837069.46186284...| 7.311886164077165|7.1206013878610355|\n",
      "|[4152074.15632961...| 7.003065458786463| 5.964696463858051|\n",
      "|[4680778.71858249...| 6.212606095751518| 5.558552720111469|\n",
      "|[4983161.90296678...| 5.703782474656202| 5.324135162084446|\n",
      "|[6137681.64461797...| 6.212606095751518| 5.927157656350982|\n",
      "|[5027673.78795816...|5.5606816310155285|  5.71087753734606|\n",
      "+--------------------+------------------+------------------+\n",
      "only showing top 20 rows\n",
      "\n"
     ]
    }
   ],
   "source": [
    "predictions = model2.transform(test_data)\n",
    "predictions.show()"
   ]
  },
  {
   "cell_type": "code",
   "execution_count": 49,
   "id": "52df5365-5d86-407f-b71a-878fff80b152",
   "metadata": {},
   "outputs": [
    {
     "data": {
      "text/plain": [
       "''"
      ]
     },
     "execution_count": 49,
     "metadata": {},
     "output_type": "execute_result"
    }
   ],
   "source": [
    "predictions.select(\"label\", \"prediction\")\\\n",
    "    .repartition(1)\\\n",
    "    .write\\\n",
    "    .mode(\"overwrite\")\\\n",
    "    .format(\"csv\")\\\n",
    "    .option(\"sep\", \",\")\\\n",
    "    .option(\"header\",\"true\")\\\n",
    "    .save(\"project/output/model2_predictions.csv\")\n",
    "\n",
    "# Run it from root directory of the repository\n",
    "run(\"hdfs dfs -cat project/output/model2_predictions.csv/*.csv > output/model2_predictions.csv\")"
   ]
  },
  {
   "cell_type": "markdown",
   "id": "64f9e394-a65a-4cb3-b9c8-1036fd3a443a",
   "metadata": {},
   "source": [
    "## Evaluate the best model2"
   ]
  },
  {
   "cell_type": "code",
   "execution_count": 51,
   "id": "2e83b832-0088-4e95-95fc-768bc13d70ee",
   "metadata": {},
   "outputs": [
    {
     "name": "stdout",
     "output_type": "stream",
     "text": [
      "Root Mean Squared Error (RMSE) on test data = 0.43410677637287337\n",
      "R^2 on test data = 0.6377512835770616\n"
     ]
    }
   ],
   "source": [
    "from pyspark.ml.evaluation import RegressionEvaluator \n",
    "\n",
    "# Evaluate the performance of the model\n",
    "evaluator2_rmse = RegressionEvaluator(labelCol=\"label\", predictionCol=\"prediction\", metricName=\"rmse\")\n",
    "evaluator2_r2 = RegressionEvaluator(labelCol=\"label\", predictionCol=\"prediction\", metricName=\"r2\")\n",
    "\n",
    "rmse2 = evaluator2_rmse.evaluate(predictions)\n",
    "r22 = evaluator2_r2.evaluate(predictions)\n",
    "\n",
    "print(\"Root Mean Squared Error (RMSE) on test data = {}\".format(rmse2))\n",
    "print(\"R^2 on test data = {}\".format(r22))"
   ]
  },
  {
   "cell_type": "markdown",
   "id": "22bd7b48-f536-495a-ac38-90ea1b9014af",
   "metadata": {},
   "source": [
    "# Compare best models"
   ]
  },
  {
   "cell_type": "code",
   "execution_count": 52,
   "id": "8b91f3c3-50ca-4ce1-9dfa-dba7449fbc35",
   "metadata": {},
   "outputs": [
    {
     "name": "stdout",
     "output_type": "stream",
     "text": [
      "+-------------------------------------------------------------------------------+-------------------+------------------+\n",
      "|model                                                                          |RMSE               |R2                |\n",
      "+-------------------------------------------------------------------------------+-------------------+------------------+\n",
      "|LinearRegressionModel: uid=LinearRegression_8c16f6fe6f4a, numFeatures=200      |0.5358906391132227 |0.4288600024400767|\n",
      "|GBTRegressionModel: uid=GBTRegressor_a06be0548f05, numTrees=20, numFeatures=200|0.43410677637287337|0.6377512835770616|\n",
      "+-------------------------------------------------------------------------------+-------------------+------------------+\n",
      "\n"
     ]
    }
   ],
   "source": [
    "models = [[str(model1),rmse1, r21], [str(model2),rmse2, r22]]\n",
    "\n",
    "df = spark.createDataFrame(models, [\"model\", \"RMSE\", \"R2\"])\n",
    "df.show(truncate=False)"
   ]
  },
  {
   "cell_type": "code",
   "execution_count": 53,
   "id": "e008d30b-9489-44a2-84a0-95bcd9608319",
   "metadata": {},
   "outputs": [
    {
     "data": {
      "text/plain": [
       "''"
      ]
     },
     "execution_count": 53,
     "metadata": {},
     "output_type": "execute_result"
    }
   ],
   "source": [
    "df.repartition(1)\\\n",
    "    .write\\\n",
    "    .mode(\"overwrite\")\\\n",
    "    .format(\"csv\")\\\n",
    "    .option(\"sep\", \",\")\\\n",
    "    .option(\"header\",\"true\")\\\n",
    "    .save(\"project/output/evaluation.csv\")\n",
    "\n",
    "# Run it from root directory of the repository\n",
    "run(\"hdfs dfs -cat project/output/evaluation.csv/*.csv > output/evaluation.csv\")"
   ]
  }
 ],
 "metadata": {
  "kernelspec": {
   "display_name": "Pyspark 3",
   "language": "python",
   "name": "python3"
  },
  "language_info": {
   "codemirror_mode": {
    "name": "ipython",
    "version": 3
   },
   "file_extension": ".py",
   "mimetype": "text/x-python",
   "name": "python",
   "nbconvert_exporter": "python",
   "pygments_lexer": "ipython3",
   "version": "3.6.8"
  },
  "toc-autonumbering": true,
  "toc-showtags": false
 },
 "nbformat": 4,
 "nbformat_minor": 5
}
